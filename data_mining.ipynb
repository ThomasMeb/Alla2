{
 "cells": [
  {
   "cell_type": "code",
   "execution_count": null,
   "metadata": {},
   "outputs": [],
   "source": [
    "import requests\n",
    "import pandas as pd\n",
    "pd.options.display.max_columns=200\n",
    "import matplotlib.pyplot as plt\n",
    "import numpy as np\n",
    "from datetime import datetime\n",
    "import time"
   ]
  },
  {
   "cell_type": "code",
   "execution_count": null,
   "metadata": {},
   "outputs": [],
   "source": []
  },
  {
   "cell_type": "code",
   "execution_count": null,
   "metadata": {},
   "outputs": [],
   "source": [
    "import requests\n",
    "import pandas as pd\n",
    "\n",
    "def get_historical_data():\n",
    "    # Prix et volume historiques\n",
    "    url_market_chart = \"https://api.coingecko.com/api/v3/coins/bitcoin/market_chart\"\n",
    "    params = {\n",
    "        'vs_currency': 'usd',\n",
    "        'days': 'max',\n",
    "        'interval': 'daily'\n",
    "    }\n",
    "    response = requests.get(url_market_chart, params=params)\n",
    "    market_data = response.json()\n",
    "    \n",
    "    # Convertir les données en DataFrame\n",
    "    df = pd.DataFrame(market_data['prices'], columns=['timestamp', 'price'])\n",
    "    \n",
    "    # Convertir le timestamp en datetime\n",
    "    df['timestamp'] = pd.to_datetime(df['timestamp'], unit='ms')\n",
    "    \n",
    "    # Définir le timestamp comme index\n",
    "    df.set_index('timestamp', inplace=True)\n",
    "    \n",
    "    return df\n",
    "\n",
    "# Utilisation de la fonction\n",
    "btc_data = get_historical_data()\n",
    "\n",
    "# Afficher les premières lignes du DataFrame\n",
    "btc_data"
   ]
  },
  {
   "cell_type": "code",
   "execution_count": null,
   "metadata": {},
   "outputs": [],
   "source": []
  },
  {
   "cell_type": "code",
   "execution_count": null,
   "metadata": {},
   "outputs": [],
   "source": [
    "def get_market_cap_data():\n",
    "    # Récupérer la capitalisation boursière historique\n",
    "    url = \"https://api.coingecko.com/api/v3/coins/bitcoin/market_chart\"\n",
    "    params = {\n",
    "        'vs_currency': 'usd',\n",
    "        'days': 'max',\n",
    "        'interval': 'daily'\n",
    "    }\n",
    "    response = requests.get(url, params=params)\n",
    "    market_data = response.json()\n",
    "    \n",
    "    # Convertir les données en DataFrame\n",
    "    df_market_cap = pd.DataFrame(market_data['market_caps'], columns=['timestamp', 'market_cap'])\n",
    "    \n",
    "    # Convertir le timestamp en datetime et le définir comme index\n",
    "    df_market_cap['timestamp'] = pd.to_datetime(df_market_cap['timestamp'], unit='ms')\n",
    "    df_market_cap.set_index('timestamp', inplace=True)\n",
    "    \n",
    "    return df_market_cap\n",
    "\n",
    "# Utilisation de la fonction\n",
    "market_cap_data = get_market_cap_data()\n",
    "\n",
    "# Fusionner les données de capitalisation boursière avec btc_data\n",
    "btc_data = btc_data.merge(market_cap_data, left_index=True, right_index=True, how='left')\n",
    "\n",
    "# Afficher les premières lignes du DataFrame mis à jour\n",
    "btc_data"
   ]
  },
  {
   "cell_type": "code",
   "execution_count": null,
   "metadata": {},
   "outputs": [],
   "source": [
    "# Convertir l'index en dates et supprimer l'heure\n",
    "btc_data.index = pd.to_datetime(btc_data.index).date\n",
    "\n",
    "# Supprimer les doublons basés sur la date\n",
    "btc_data = btc_data[~btc_data.index.duplicated(keep='first')]"
   ]
  },
  {
   "cell_type": "code",
   "execution_count": null,
   "metadata": {},
   "outputs": [],
   "source": [
    "btc_data"
   ]
  },
  {
   "cell_type": "code",
   "execution_count": null,
   "metadata": {},
   "outputs": [],
   "source": []
  },
  {
   "cell_type": "code",
   "execution_count": null,
   "metadata": {},
   "outputs": [],
   "source": [
    "import time\n",
    "\n",
    "# Votre clé API\n",
    "api_key = input(\"Please enter your CryptoCompare API key: \")\n",
    "\n",
    "# Convertit la date '28/04/2013' en timestamp UNIX\n",
    "start_date = '12/10/2010 00:00:00'\n",
    "start_timestamp = int(time.mktime(time.strptime(start_date, '%d/%m/%Y %H:%M:%S')))\n",
    "\n",
    "# Timestamp pour aujourd'hui\n",
    "end_timestamp = int(time.time())\n",
    "\n",
    "# Limite de points de données par requête\n",
    "limit = 2000\n",
    "\n",
    "# Calcule le nombre total de jours et de requêtes nécessaires\n",
    "total_days = (end_timestamp - start_timestamp) // (24 * 60 * 60)\n",
    "total_requests = -(-total_days // limit)  # Utilise la division entière arrondie vers le haut\n",
    "\n",
    "# Initialise un DataFrame vide\n",
    "btc_data_full = pd.DataFrame()\n",
    "\n",
    "# Fait plusieurs requêtes pour couvrir toute la période\n",
    "for i in range(total_requests):\n",
    "    # Ajuste le paramètre toTs pour chaque requête\n",
    "    toTs = end_timestamp - i * limit * 24 * 60 * 60\n",
    "    \n",
    "    # Construit l'URL de l'API\n",
    "    url = f'https://min-api.cryptocompare.com/data/v2/histoday?fsym=BTC&tsym=USD&limit={limit}&toTs={toTs}&api_key={api_key}'\n",
    "    \n",
    "    # Fait la requête API\n",
    "    response = requests.get(url)\n",
    "    data = response.json()\n",
    "    \n",
    "    # Crée un DataFrame avec les données obtenues\n",
    "    new_data = pd.DataFrame(data['Data']['Data'])\n",
    "    new_data['time'] = pd.to_datetime(new_data['time'], unit='s')\n",
    "    new_data.set_index('time', inplace=True)\n",
    "    \n",
    "    # Concaténe les nouveaux données avec les données existantes\n",
    "    btc_data_full = pd.concat([new_data, btc_data_full])\n",
    "\n",
    "# Trie le DataFrame combiné par index (date)\n",
    "btc_data_full.sort_index(inplace=True)\n",
    "\n",
    "# Filtre les données pour n'inclure que celles depuis le 28/04/2013\n",
    "btc_data_full = btc_data_full[btc_data_full.index >= start_date]\n",
    "\n",
    "# Affiche le DataFrame\n",
    "btc_data_full"
   ]
  },
  {
   "cell_type": "code",
   "execution_count": null,
   "metadata": {},
   "outputs": [],
   "source": [
    "btc_data_full.drop(['conversionSymbol', 'conversionType'], axis=1, inplace=True)"
   ]
  },
  {
   "cell_type": "code",
   "execution_count": null,
   "metadata": {},
   "outputs": [],
   "source": [
    "duplicates = btc_data_full.index.duplicated(keep=False)\n",
    "print(btc_data_full[duplicates])"
   ]
  },
  {
   "cell_type": "code",
   "execution_count": null,
   "metadata": {},
   "outputs": [],
   "source": [
    "btc_data_full = btc_data_full[~btc_data_full.index.duplicated(keep='first')]"
   ]
  },
  {
   "cell_type": "code",
   "execution_count": null,
   "metadata": {},
   "outputs": [],
   "source": [
    "btc_data"
   ]
  },
  {
   "cell_type": "code",
   "execution_count": null,
   "metadata": {},
   "outputs": [],
   "source": []
  },
  {
   "cell_type": "code",
   "execution_count": null,
   "metadata": {},
   "outputs": [],
   "source": [
    "btc_data_full['market_cap'] = btc_data['market_cap']"
   ]
  },
  {
   "cell_type": "code",
   "execution_count": null,
   "metadata": {},
   "outputs": [],
   "source": [
    "btc_data = btc_data_full.copy()"
   ]
  },
  {
   "cell_type": "code",
   "execution_count": null,
   "metadata": {},
   "outputs": [],
   "source": []
  },
  {
   "cell_type": "code",
   "execution_count": null,
   "metadata": {},
   "outputs": [],
   "source": [
    "pd.options.mode.chained_assignment = None  # default='warn'\n",
    "\n",
    "btc_data[\"progression daily\"] = 0.0\n",
    "btc_data[\"progression tomorrow\"] = 0.0\n",
    "\n",
    "# Calcul de la progression quotidienne\n",
    "btc_data.loc[:, \"progression daily\"] = btc_data['open'].pct_change()\n",
    "\n",
    "# Calcul de la progression du lendemain\n",
    "btc_data[\"progression tomorrow\"] = btc_data[\"close\"].values / btc_data[\"open\"].values - 1"
   ]
  },
  {
   "cell_type": "code",
   "execution_count": null,
   "metadata": {},
   "outputs": [],
   "source": [
    "btc_data"
   ]
  },
  {
   "cell_type": "code",
   "execution_count": null,
   "metadata": {},
   "outputs": [],
   "source": [
    "# Affichage de l'histogramme de la progression quotidienne\n",
    "plt.hist(btc_data['progression daily'].dropna(), bins=300, alpha=0.5)\n",
    "plt.title('Répartition de la Progression Daily')\n",
    "plt.xlabel('Progression Daily')\n",
    "plt.ylabel('Fréquence')\n",
    "plt.grid(True)\n",
    "plt.show()"
   ]
  },
  {
   "cell_type": "code",
   "execution_count": null,
   "metadata": {},
   "outputs": [],
   "source": [
    "print(btc_data['progression daily'].describe())"
   ]
  },
  {
   "cell_type": "code",
   "execution_count": null,
   "metadata": {},
   "outputs": [],
   "source": []
  },
  {
   "cell_type": "code",
   "execution_count": null,
   "metadata": {},
   "outputs": [],
   "source": [
    "btc_data.loc[btc_data['volumefrom']==0]"
   ]
  },
  {
   "cell_type": "code",
   "execution_count": null,
   "metadata": {},
   "outputs": [],
   "source": [
    "btc_data['2011-06-15':'2011-06-30']"
   ]
  },
  {
   "cell_type": "code",
   "execution_count": null,
   "metadata": {},
   "outputs": [],
   "source": [
    "# Calculez la médiane pour chaque colonne du 15 au 30 juin\n",
    "median_values = btc_data['2011-06-15':'2011-06-30'].median()\n",
    "\n",
    "# Affectez la médiane à chaque ligne de la période du 20 au 25 juin, colonne par colonne\n",
    "for column in btc_data.columns:\n",
    "    btc_data.loc['2011-06-20':'2011-06-25', column] = median_values[column]"
   ]
  },
  {
   "cell_type": "code",
   "execution_count": null,
   "metadata": {},
   "outputs": [],
   "source": [
    "btc_data['2011-06-15':'2011-06-30']"
   ]
  },
  {
   "cell_type": "code",
   "execution_count": null,
   "metadata": {},
   "outputs": [],
   "source": []
  },
  {
   "cell_type": "code",
   "execution_count": null,
   "metadata": {},
   "outputs": [],
   "source": []
  },
  {
   "cell_type": "code",
   "execution_count": null,
   "metadata": {},
   "outputs": [],
   "source": []
  },
  {
   "cell_type": "code",
   "execution_count": null,
   "metadata": {},
   "outputs": [],
   "source": []
  },
  {
   "cell_type": "code",
   "execution_count": null,
   "metadata": {},
   "outputs": [],
   "source": [
    "missing_values_sum = btc_data.isna().sum()"
   ]
  },
  {
   "cell_type": "code",
   "execution_count": null,
   "metadata": {},
   "outputs": [],
   "source": [
    "missing_values_sum"
   ]
  },
  {
   "cell_type": "code",
   "execution_count": null,
   "metadata": {},
   "outputs": [],
   "source": [
    "\"\"\"btc_data.loc[btc_data['market_cap'].isna()]\"\"\""
   ]
  },
  {
   "cell_type": "code",
   "execution_count": null,
   "metadata": {},
   "outputs": [],
   "source": [
    "\"\"\"missing_index = btc_data.loc[btc_data['market_cap'].isna()].index[0]\n",
    "\n",
    "# Obtenir la position de l'index manquant\n",
    "missing_pos = btc_data.index.get_loc(missing_index)\n",
    "\n",
    "# Définir les positions de début et de fin pour l'extraction des données\n",
    "start_pos = max(0, missing_pos - 3)\n",
    "end_pos = min(len(btc_data), missing_pos + 4)\n",
    "\n",
    "# Afficher les 3 lignes avant et après la valeur manquante\n",
    "subset_btc_data = btc_data.iloc[start_pos:end_pos]\n",
    "subset_btc_data\"\"\""
   ]
  },
  {
   "cell_type": "code",
   "execution_count": null,
   "metadata": {},
   "outputs": [],
   "source": [
    "\"\"\"# Trouver l'index de la valeur manquante\n",
    "missing_index = btc_data.loc[btc_data['market_cap'].isna()].index[0]\n",
    "\n",
    "# Obtenir la position de l'index manquant\n",
    "missing_pos = btc_data.index.get_loc(missing_index)\n",
    "\n",
    "# Calculer la moyenne des valeurs de 'market_cap' qui entourent la valeur manquante\n",
    "mean_value = (btc_data['market_cap'].iloc[missing_pos - 1] + btc_data['market_cap'].iloc[missing_pos + 1]) / 2\n",
    "\n",
    "# Remplacer la valeur manquante par la moyenne calculée\n",
    "btc_data['market_cap'].iloc[missing_pos] = mean_value\"\"\""
   ]
  },
  {
   "cell_type": "code",
   "execution_count": null,
   "metadata": {},
   "outputs": [],
   "source": []
  },
  {
   "cell_type": "code",
   "execution_count": null,
   "metadata": {},
   "outputs": [],
   "source": []
  },
  {
   "cell_type": "code",
   "execution_count": null,
   "metadata": {},
   "outputs": [],
   "source": []
  },
  {
   "cell_type": "code",
   "execution_count": null,
   "metadata": {},
   "outputs": [],
   "source": [
    "# Créer une variable cible binaire : 1 si la progression demain est positive, 0 sinon\n",
    "btc_data['target'] = np.where(btc_data['progression tomorrow'] > 0, 1, 0)"
   ]
  },
  {
   "cell_type": "code",
   "execution_count": null,
   "metadata": {},
   "outputs": [],
   "source": [
    "btc_data['target'].describe()"
   ]
  },
  {
   "cell_type": "code",
   "execution_count": null,
   "metadata": {},
   "outputs": [],
   "source": []
  },
  {
   "cell_type": "code",
   "execution_count": null,
   "metadata": {},
   "outputs": [],
   "source": [
    "btc_data.to_csv('data/btc_data')"
   ]
  },
  {
   "cell_type": "code",
   "execution_count": null,
   "metadata": {},
   "outputs": [],
   "source": []
  },
  {
   "cell_type": "code",
   "execution_count": null,
   "metadata": {},
   "outputs": [],
   "source": []
  },
  {
   "cell_type": "code",
   "execution_count": null,
   "metadata": {},
   "outputs": [],
   "source": []
  },
  {
   "cell_type": "code",
   "execution_count": null,
   "metadata": {},
   "outputs": [],
   "source": []
  },
  {
   "cell_type": "code",
   "execution_count": null,
   "metadata": {},
   "outputs": [],
   "source": []
  },
  {
   "cell_type": "code",
   "execution_count": null,
   "metadata": {},
   "outputs": [],
   "source": [
    "\"\"\"import pandas as pd\n",
    "from pytrends.request import TrendReq\n",
    "import matplotlib.pyplot as plt\n",
    "import time\n",
    "import random\n",
    "\n",
    "# Configurer l'objet pytrends\n",
    "pytrends = TrendReq()\n",
    "\n",
    "kw_list = [\"Bitcoin\"]\n",
    "\n",
    "# Liste des périodes\n",
    "timeframes = ['2013-04-28 2018-04-27', '2018-04-28 2023-04-27']\n",
    "\n",
    "temp = []\n",
    "\n",
    "for timeframe in timeframes:\n",
    "    pytrends.build_payload(kw_list, cat=0, timeframe=timeframe, geo='', gprop='')\n",
    "    temp.append(pytrends.interest_over_time())\n",
    "    time.sleep(random.randint(10, 20))  # Ajoute une pause de X secondes entre chaque requête\"\"\""
   ]
  },
  {
   "cell_type": "code",
   "execution_count": null,
   "metadata": {},
   "outputs": [],
   "source": []
  },
  {
   "cell_type": "code",
   "execution_count": null,
   "metadata": {},
   "outputs": [],
   "source": [
    "\"\"\"import pandas as pd\n",
    "from pytrends.request import TrendReq\n",
    "import matplotlib.pyplot as pltdatetime\n",
    "from datetime import date\n",
    "\n",
    "current_date = date.today()\n",
    "formatted_date = current_date.strftime('%Y-%m-%d')\n",
    "print(formatted_date)\n",
    "\n",
    "# Configurer l'objet pytrends\n",
    "pytrends = TrendReq(hl='en-US', tz=360)\n",
    "\n",
    "# Définir la requête\n",
    "kw_list = [\"Bitcoin\"]\n",
    "pytrends.build_payload(kw_list, cat=0, timeframe='2023-04-28 ' + formatted_date, geo='', gprop='')\n",
    "\n",
    "# Récupérer les données\n",
    "df = pytrends.interest_over_time()\n",
    "temp.append(df)\n",
    "\n",
    "# Concaténer les dataframes\n",
    "trends = pd.concat(temp, axis=0)\n",
    "\n",
    "# Afficher les données\n",
    "print(trends)\n",
    "\n",
    "\n",
    "# Visualiser les données\n",
    "plt.plot(df.index, df['Bitcoin'])\n",
    "plt.title('Interest Over Time')\n",
    "plt.xlabel('Date')\n",
    "plt.ylabel('Trend Index')\n",
    "plt.grid(True)\n",
    "plt.show()\"\"\""
   ]
  },
  {
   "cell_type": "code",
   "execution_count": null,
   "metadata": {},
   "outputs": [],
   "source": []
  },
  {
   "cell_type": "code",
   "execution_count": null,
   "metadata": {},
   "outputs": [],
   "source": []
  },
  {
   "cell_type": "code",
   "execution_count": null,
   "metadata": {},
   "outputs": [],
   "source": []
  },
  {
   "cell_type": "code",
   "execution_count": null,
   "metadata": {},
   "outputs": [],
   "source": []
  },
  {
   "cell_type": "code",
   "execution_count": null,
   "metadata": {},
   "outputs": [],
   "source": []
  },
  {
   "cell_type": "code",
   "execution_count": null,
   "metadata": {},
   "outputs": [],
   "source": []
  },
  {
   "cell_type": "code",
   "execution_count": null,
   "metadata": {},
   "outputs": [],
   "source": [
    "btc_data.columns"
   ]
  },
  {
   "cell_type": "code",
   "execution_count": null,
   "metadata": {},
   "outputs": [],
   "source": [
    "#Calcul EMA 26\n",
    "\n",
    "# Choix du nombre de périodes pour l'EMA. Habituellement, 12, 26 ou 50 sont utilisés.\n",
    "n = 26\n",
    "alpha = 2 / (n + 1)\n",
    "\n",
    "# Calcul de l'EMA\n",
    "btc_data['ema_26'] = btc_data['open'].ewm(span=n, adjust=False).mean()\n",
    "\n",
    "#Calcul EMA 12\n",
    "\n",
    "# Choix du nombre de périodes pour l'EMA. Habituellement, 12, 26 ou 50 sont utilisés.\n",
    "n = 12\n",
    "alpha = 2 / (n + 1)\n",
    "\n",
    "# Calcul de l'EMA\n",
    "btc_data['ema_12'] = btc_data['open'].ewm(span=n, adjust=False).mean()\n",
    "\n",
    "# Afficher le dataframe\n",
    "btc_data.tail()"
   ]
  },
  {
   "cell_type": "code",
   "execution_count": null,
   "metadata": {},
   "outputs": [],
   "source": [
    "# Calcul du MACD\n",
    "btc_data['macd'] = btc_data['ema_12'] - btc_data['ema_26']\n",
    "\n",
    "btc_data.tail()"
   ]
  },
  {
   "cell_type": "code",
   "execution_count": null,
   "metadata": {},
   "outputs": [],
   "source": [
    "# Calcul du RSI \n",
    "\n",
    "# Calculer la différence de prix par rapport à la journée précédente\n",
    "btc_data['delta'] = btc_data['open'].diff()\n",
    "\n",
    "# Identifier les gains et les pertes\n",
    "btc_data['gain'] = btc_data['delta'].where(btc_data['delta'] > 0, 0)\n",
    "btc_data['loss'] = -btc_data['delta'].where(btc_data['delta'] < 0, 0)\n",
    "\n",
    "# Calculer la moyenne des gains et des pertes sur 14 jours\n",
    "rolling_window = 14\n",
    "btc_data['avg_gain'] = btc_data['gain'].rolling(window=rolling_window).mean()\n",
    "btc_data['avg_loss'] = btc_data['loss'].rolling(window=rolling_window).mean()\n",
    "\n",
    "# Calculer le RS (Relative Strength)\n",
    "btc_data['rs'] = btc_data['avg_gain'] / btc_data['avg_loss']\n",
    "\n",
    "# Calculer le RSI\n",
    "btc_data['rsi'] = 100 - (100 / (1 + btc_data['rs']))\n",
    "\n",
    "# Supprimer les colonnes intermédiaires\n",
    "btc_data.drop(columns=['delta', 'gain', 'loss', 'avg_gain', 'avg_loss', 'rs'], inplace=True)\n",
    "\n",
    "btc_data.tail()"
   ]
  },
  {
   "cell_type": "code",
   "execution_count": null,
   "metadata": {},
   "outputs": [],
   "source": [
    "# Calcul du volume relatif\n",
    "\n",
    "# Période pour calculer la moyenne du volume\n",
    "rolling_window = 14\n",
    "\n",
    "# Calculer la moyenne du volume sur la période donnée\n",
    "btc_data['avg_volume'] = btc_data['volumeto'].rolling(window=rolling_window).mean()\n",
    "\n",
    "# Calculer le volume relatif\n",
    "btc_data['relative_volume'] = btc_data['volumeto'] / btc_data['avg_volume']\n",
    "\n",
    "# Supprimer la colonne de volume moyen intermédiaire si désiré\n",
    "btc_data.drop(columns=['avg_volume'], inplace=True)\n",
    "\n",
    "btc_data.tail()\n"
   ]
  },
  {
   "cell_type": "code",
   "execution_count": null,
   "metadata": {},
   "outputs": [],
   "source": [
    "# Calcul de l'OBV (On-Balance Volume)\n",
    "\n",
    "# Calculer la direction du mouvement des prix\n",
    "btc_data['price_direction'] = btc_data['open'].diff()\n",
    "\n",
    "# Calculer l'OBV\n",
    "btc_data['obv'] = btc_data['volumeto'].where(btc_data['price_direction'] > 0, -btc_data['volumeto']).cumsum()\n",
    "\n",
    "# Supprimer la colonne intermédiaire de direction des prix\n",
    "btc_data.drop(columns=['price_direction'], inplace=True)\n",
    "\n",
    "btc_data.tail()\n"
   ]
  },
  {
   "cell_type": "code",
   "execution_count": null,
   "metadata": {},
   "outputs": [],
   "source": [
    "# Calcul de l'ATR (Average True Range)\n",
    "\n",
    "# Calculer la différence de prix de clôture par rapport à la journée précédente\n",
    "btc_data['prev_close'] = btc_data['open'].shift(1)\n",
    "\n",
    "# Calculer les trois composantes du True Range\n",
    "btc_data['high_minus_low'] = btc_data['high'] - btc_data['low']\n",
    "btc_data['high_minus_prev_close'] = abs(btc_data['high'] - btc_data['prev_close'])\n",
    "btc_data['low_minus_prev_close'] = abs(btc_data['low'] - btc_data['prev_close'])\n",
    "\n",
    "# Déterminer le True Range comme étant le maximum des trois valeurs précédentes\n",
    "btc_data['tr'] = btc_data[['high_minus_low', 'high_minus_prev_close', 'low_minus_prev_close']].max(axis=1)\n",
    "\n",
    "# Calculer l'ATR comme étant la moyenne mobile du TR sur une période de 14 jours\n",
    "rolling_window = 14\n",
    "btc_data['atr'] = btc_data['tr'].rolling(window=rolling_window).mean()\n",
    "\n",
    "# Supprimer les colonnes intermédiaires\n",
    "columns_to_drop = ['prev_close', 'high_minus_low', 'high_minus_prev_close', 'low_minus_prev_close', 'tr']\n",
    "btc_data.drop(columns=columns_to_drop, inplace=True)\n",
    "\n",
    "btc_data.tail()"
   ]
  },
  {
   "cell_type": "code",
   "execution_count": null,
   "metadata": {},
   "outputs": [],
   "source": [
    "# Calcul des bandes de Bollinger\n",
    "\n",
    "rolling_window = 20\n",
    "\n",
    "# Moyenne mobile simple\n",
    "btc_data['sma'] = btc_data['open'].rolling(window=rolling_window).mean()\n",
    "\n",
    "# Écart-type des prix sur la période\n",
    "btc_data['price_std'] = btc_data['open'].rolling(window=rolling_window).std()\n",
    "\n",
    "# Calcul des bandes de Bollinger\n",
    "btc_data['bollinger_upper'] = btc_data['sma'] + (btc_data['price_std'] * 2)\n",
    "btc_data['bollinger_lower'] = btc_data['sma'] - (btc_data['price_std'] * 2)\n",
    "\n",
    "# Suppression des colonnes intermédiaires\n",
    "btc_data.drop(columns=['sma', 'price_std'], inplace=True)\n",
    "\n",
    "btc_data.tail()"
   ]
  },
  {
   "cell_type": "code",
   "execution_count": null,
   "metadata": {},
   "outputs": [],
   "source": [
    "# Oscillateur Stochastique\n",
    "\n",
    "rolling_window = 14\n",
    "\n",
    "# Trouver le prix le plus bas et le plus élevé sur la période\n",
    "btc_data['rolling_low'] = btc_data['low'].rolling(window=rolling_window).min()\n",
    "btc_data['rolling_high'] = btc_data['high'].rolling(window=rolling_window).max()\n",
    "\n",
    "# Calcul du Stochastic Oscillator\n",
    "btc_data['k'] = 100 * ((btc_data['open'] - btc_data['rolling_low']) / (btc_data['rolling_high'] - btc_data['rolling_low']))\n",
    "\n",
    "# Suppression des colonnes intermédiaires\n",
    "btc_data.drop(columns=['rolling_low', 'rolling_high'], inplace=True)\n",
    "\n",
    "btc_data.tail()"
   ]
  },
  {
   "cell_type": "code",
   "execution_count": null,
   "metadata": {},
   "outputs": [],
   "source": [
    "# Momentum\n",
    "\n",
    "n_days = 10\n",
    "\n",
    "# Calcul du Momentum\n",
    "btc_data['momentum'] = btc_data['open'] - btc_data['open'].shift(n_days)\n",
    "\n",
    "btc_data.tail()"
   ]
  },
  {
   "cell_type": "code",
   "execution_count": null,
   "metadata": {},
   "outputs": [],
   "source": []
  },
  {
   "cell_type": "code",
   "execution_count": null,
   "metadata": {},
   "outputs": [],
   "source": []
  },
  {
   "cell_type": "code",
   "execution_count": null,
   "metadata": {},
   "outputs": [],
   "source": []
  },
  {
   "cell_type": "code",
   "execution_count": null,
   "metadata": {},
   "outputs": [],
   "source": []
  },
  {
   "cell_type": "code",
   "execution_count": null,
   "metadata": {},
   "outputs": [],
   "source": [
    "missing_values_sum = btc_data.isna().sum()\n",
    "missing_values_sum"
   ]
  },
  {
   "cell_type": "code",
   "execution_count": null,
   "metadata": {},
   "outputs": [],
   "source": []
  },
  {
   "cell_type": "code",
   "execution_count": null,
   "metadata": {},
   "outputs": [],
   "source": []
  },
  {
   "cell_type": "code",
   "execution_count": null,
   "metadata": {},
   "outputs": [],
   "source": []
  },
  {
   "cell_type": "code",
   "execution_count": null,
   "metadata": {},
   "outputs": [],
   "source": []
  },
  {
   "cell_type": "code",
   "execution_count": null,
   "metadata": {},
   "outputs": [],
   "source": [
    "url = \"https://api.coingecko.com/api/v3/coins/bitcoin/market_chart?vs_currency=usd&days=max&interval=daily\"\n",
    "response = requests.get(url)\n",
    "data = response.json()"
   ]
  },
  {
   "cell_type": "code",
   "execution_count": null,
   "metadata": {},
   "outputs": [],
   "source": []
  },
  {
   "cell_type": "code",
   "execution_count": null,
   "metadata": {},
   "outputs": [],
   "source": [
    "#Fear and greed index\n",
    "\n",
    "# URL de base\n",
    "base_url = \"https://api.alternative.me\"\n",
    "\n",
    "# Endpoint pour le Fear and Greed Index\n",
    "endpoint = \"/fng/\"\n",
    "\n",
    "# Paramètres\n",
    "params = {\n",
    "    \"limit\": \"0\",  # obtenir toutes les données disponibles\n",
    "    \"format\": \"json\",  # format des données\n",
    "    \"date_format\": \"world\"  # format de la date\n",
    "}\n",
    "\n",
    "# Faire la requête\n",
    "response = requests.get(base_url + endpoint, params=params)\n",
    "\n",
    "# Vérifier si la requête a réussi\n",
    "if response.status_code == 200:\n",
    "    data = response.json()[\"data\"]\n",
    "    df_fng = pd.DataFrame(data)\n",
    "else:\n",
    "    print(f\"Erreur {response.status_code}: {response.text}\")"
   ]
  },
  {
   "cell_type": "code",
   "execution_count": null,
   "metadata": {},
   "outputs": [],
   "source": [
    "df_fng.drop(df_fng.columns[-1], axis=1, inplace=True)"
   ]
  },
  {
   "cell_type": "code",
   "execution_count": null,
   "metadata": {},
   "outputs": [],
   "source": [
    "df_fng"
   ]
  },
  {
   "cell_type": "code",
   "execution_count": null,
   "metadata": {},
   "outputs": [],
   "source": []
  },
  {
   "cell_type": "code",
   "execution_count": null,
   "metadata": {},
   "outputs": [],
   "source": [
    "'''import requests\n",
    "import json\n",
    "\n",
    "# URL de l'endpoint GraphQL de Bitquery\n",
    "url = \"https://graphql.bitquery.io/\"\n",
    "\n",
    "api_key = input(\"Enter yout bitquery API key :\")\n",
    "\n",
    "# Headers de la requête\n",
    "headers = {\n",
    "    \"Content-Type\": \"application/json\",\n",
    "    \"X-API-KEY\": api_key\n",
    "}\n",
    "\n",
    "# Votre requête GraphQL\n",
    "query = \"\"\"\n",
    "{\n",
    "  bitcoin(network: bitcoin) {\n",
    "    blocks(time: {since: \"2013-04-28T00:00:00Z\", till: \"2013-05-01T00:00:00Z\"}) {\n",
    "      timestamp {\n",
    "        time(format: \"%Y-%m-%d %H:%M:%S\")\n",
    "      }\n",
    "      difficulty\n",
    "    }\n",
    "  }\n",
    "}\n",
    "\"\"\"\n",
    "\n",
    "\n",
    "\n",
    "# Effectuer la requête\n",
    "response = requests.post(url, headers=headers, data=json.dumps({\"query\": query}))\n",
    "\n",
    "# Vérifier si la requête a réussi\n",
    "if response.status_code == 200:\n",
    "    # Afficher les données retournées par l'API\n",
    "    print(json.dumps(response.json(), indent=2))\n",
    "else:\n",
    "    # Afficher l'erreur\n",
    "    print(\"Erreur :\", response.status_code)\n",
    "    print(response.text)'''"
   ]
  },
  {
   "cell_type": "code",
   "execution_count": null,
   "metadata": {},
   "outputs": [],
   "source": [
    "'''# Dates de début et de fin\n",
    "start_date = datetime.strptime(\"2013-04-28\", \"%Y-%m-%d\")\n",
    "end_date = datetime.now()\n",
    "\n",
    "# Créer un DataFrame pour stocker les données\n",
    "data = []\n",
    "\n",
    "# Boucle sur chaque jour entre start_date et end_date\n",
    "current_date = start_date\n",
    "while current_date <= end_date:\n",
    "    # Convertir les dates en chaînes de caractères au format ISO 8601\n",
    "    since = current_date.strftime(\"%Y-%m-%dT%H:%M:%SZ\")\n",
    "    till = (current_date + timedelta(days=1)).strftime(\"%Y-%m-%dT%H:%M:%SZ\")\n",
    "    \n",
    "    # Votre requête GraphQL\n",
    "    query = f\"\"\"\n",
    "    {{\n",
    "      bitcoin(network: bitcoin) {{\n",
    "        blocks(time: {{since: \"{since}\", till: \"{till}\"}}) {{\n",
    "          timestamp {{\n",
    "            time(format: \"%Y-%m-%d %H:%M:%S\")\n",
    "          }}\n",
    "          difficulty\n",
    "        }}\n",
    "      }}\n",
    "    }}\n",
    "    \"\"\"\"\"\"\n",
    "    \n",
    "    # Effectuer la requête\n",
    "    response = requests.post(url, headers=headers, data=json.dumps({\"query\": query}))\n",
    "    \n",
    "    # Vérifier si la requête a réussi\n",
    "    if response.status_code == 200:\n",
    "      # Extraire les données\n",
    "      blocks = response.json()['data']['bitcoin']['blocks']\n",
    "      if blocks:\n",
    "          # Ajouter les données au DataFrame\n",
    "          for block in blocks:\n",
    "              data.append([block['timestamp']['time'], block['difficulty']])\n",
    "    elif response.status_code == 429:\n",
    "        # Attendre et réessayer\n",
    "        print(\"Trop de requêtes, en attente...\")\n",
    "        time.sleep(10)  # Attendre 10 secondes avant de réessayer\n",
    "        continue  # Réessayer la même requête\n",
    "    else:\n",
    "        # Afficher l'erreur\n",
    "        print(\"Erreur :\", response.status_code)\n",
    "        print(response.text)\n",
    "    \n",
    "    # Passer au jour suivant\n",
    "    current_date += timedelta(days=1)\n",
    "    \n",
    "    # Attendre avant la prochaine requête pour éviter de dépasser la limite de taux\n",
    "    time.sleep(1)  # Attendre 1 seconde avant la prochaine requête\n",
    "\n",
    "# Convertir les données en DataFrame\n",
    "dif = pd.DataFrame(data, columns=['timestamp', 'difficulty'])\n",
    "\n",
    "# Afficher le DataFrame\n",
    "print(dif)'''"
   ]
  },
  {
   "cell_type": "code",
   "execution_count": null,
   "metadata": {},
   "outputs": [],
   "source": []
  },
  {
   "cell_type": "code",
   "execution_count": null,
   "metadata": {},
   "outputs": [],
   "source": []
  },
  {
   "cell_type": "code",
   "execution_count": null,
   "metadata": {},
   "outputs": [],
   "source": [
    "from datetime import datetime, timedelta\n",
    "import time\n",
    "import requests\n",
    "import json\n",
    "import pandas as pd\n",
    "\n",
    "'''# Dates de début et de fin\n",
    "start_date = datetime.strptime(\"2013-04-28\", \"%Y-%m-%d\")\n",
    "end_date = datetime.now()\n",
    "\n",
    "# Créer un DataFrame pour stocker les données\n",
    "data = []\n",
    "nb = 0\n",
    "\n",
    "# Boucle sur chaque jour entre start_date et end_date\n",
    "current_date = start_date\n",
    "while current_date <= end_date:\n",
    "    # Convertir les dates en chaînes de caractères au format ISO 8601\n",
    "    since = current_date.strftime(\"%Y-%m-%dT00:00:00Z\")  # Minuit du jour courant\n",
    "    till = (current_date + timedelta(hours=2)).strftime(\"%Y-%m-%dT02:00:00Z\")  # 02 du jour courant\n",
    "    \n",
    "    # Votre requête GraphQL\n",
    "    query = f\"\"\"\n",
    "    {{\n",
    "      bitcoin(network: bitcoin) {{\n",
    "        blocks(time: {{since: \"{since}\", till: \"{till}\"}}) {{\n",
    "          timestamp {{\n",
    "            time(format: \"%Y-%m-%d %H:%M:%S\")\n",
    "          }}\n",
    "          difficulty\n",
    "        }}\n",
    "      }}\n",
    "    }}\n",
    "    \"\"\"\n",
    "    \n",
    "    # Effectuer la requête\n",
    "    response = requests.post(url, headers=headers, data=json.dumps({\"query\": query}))\n",
    "    \n",
    "    # Vérifier si la requête a réussi\n",
    "    if response.status_code == 200:\n",
    "        # Extraire les données\n",
    "        blocks = response.json()['data']['bitcoin']['blocks']\n",
    "        if blocks:\n",
    "            # Ajouter les données au DataFrame\n",
    "            block = blocks[0]\n",
    "            data.append([block['timestamp']['time'], block['difficulty']])\n",
    "    elif response.status_code == 429:\n",
    "        # Attendre et réessayer\n",
    "        print(\"Trop de requêtes, en attente...\")\n",
    "        time.sleep(10)  # Attendre 10 secondes avant de réessayer\n",
    "        continue  # Réessayer la même requête\n",
    "    else:\n",
    "        # Afficher l'erreur\n",
    "        print(\"Erreur :\", response.status_code)\n",
    "        print(response.text)\n",
    "    \n",
    "    # Passer au jour suivant\n",
    "    current_date += timedelta(days=1)\n",
    "    nb += 1\n",
    "    print(nb)\n",
    "    print(data)\n",
    "    \n",
    "    # Attendre avant la prochaine requête pour éviter de dépasser la limite de taux\n",
    "    time.sleep(1)  # Attendre 1 seconde avant la prochaine requête\n",
    "\n",
    "# Convertir les données en DataFrame\n",
    "dif = pd.DataFrame(data, columns=['timestamp', 'difficulty'])\n",
    "\n",
    "# Afficher le DataFrame\n",
    "print(dif)'''"
   ]
  },
  {
   "cell_type": "code",
   "execution_count": null,
   "metadata": {},
   "outputs": [],
   "source": [
    "\"\"\"\n",
    "dif['timestamp'] = pd.to_datetime(dif['timestamp'])\n",
    "\n",
    "dif['timestamp'] = dif['timestamp'].dt.strftime('%Y-%m-%d')\n",
    "\n",
    "dif.to_csv('data/dif.csv')\"\"\""
   ]
  },
  {
   "cell_type": "code",
   "execution_count": null,
   "metadata": {},
   "outputs": [],
   "source": [
    "dif = pd.read_csv('data/dif.csv', index_col=0)\n",
    "dif"
   ]
  },
  {
   "cell_type": "code",
   "execution_count": null,
   "metadata": {},
   "outputs": [],
   "source": [
    "import requests\n",
    "import json\n",
    "\n",
    "# URL de l'endpoint GraphQL de Bitquery\n",
    "url = \"https://graphql.bitquery.io/\"\n",
    "\n",
    "api_key = input(\"Enter yout bitquery API key :\")\n",
    "\n",
    "# Headers de la requête\n",
    "headers = {\n",
    "    \"Content-Type\": \"application/json\",\n",
    "    \"X-API-KEY\": api_key\n",
    "}\n",
    "\n",
    "# Dates de début et de fin\n",
    "start_date = datetime.strptime(\"2023-10-13\", \"%Y-%m-%d\")\n",
    "end_date = datetime.now()\n",
    "\n",
    "# Créer une liste pour stocker les nouvelles données\n",
    "new_data = []\n",
    "\n",
    "# Boucle sur chaque jour entre start_date et end_date\n",
    "current_date = start_date\n",
    "while current_date <= end_date:\n",
    "    # Convertir les dates en chaînes de caractères au format ISO 8601\n",
    "    since = current_date.strftime(\"%Y-%m-%dT00:00:00Z\")  # Minuit du jour courant\n",
    "    till = (current_date + timedelta(hours=2)).strftime(\"%Y-%m-%dT02:00:00Z\")  # 02 du jour courant\n",
    "        \n",
    "\n",
    "      # Votre requête GraphQL\n",
    "    query = f\"\"\"\n",
    "    {{\n",
    "      bitcoin(network: bitcoin) {{\n",
    "        blocks(time: {{since: \"{since}\", till: \"{till}\"}}) {{\n",
    "          timestamp {{\n",
    "            time(format: \"%Y-%m-%d\")\n",
    "          }}\n",
    "          difficulty\n",
    "        }}\n",
    "      }}\n",
    "    }}\n",
    "    \"\"\"\n",
    "    \n",
    "    # Effectuer la requête\n",
    "    response = requests.post(url, headers=headers, data=json.dumps({\"query\": query}))\n",
    "    \n",
    "    # Vérifier si la requête a réussi\n",
    "    if response.status_code == 200:\n",
    "        # Extraire les données\n",
    "        blocks = response.json()['data']['bitcoin']['blocks']\n",
    "        if blocks:\n",
    "            # Ajouter les données à la liste new_data\n",
    "            block = blocks[0]\n",
    "            new_data.append([block['timestamp']['time'], block['difficulty']])\n",
    "    elif response.status_code == 429:\n",
    "        # Attendre et réessayer\n",
    "        print(\"Trop de requêtes, en attente...\")\n",
    "        time.sleep(10)  # Attendre 10 secondes avant de réessayer\n",
    "        continue  # Réessayer la même requête\n",
    "    else:\n",
    "        # Afficher l'erreur\n",
    "        print(\"Erreur :\", response.status_code)\n",
    "        print(response.text)\n",
    "    \n",
    "    # Passer au jour suivant\n",
    "    current_date += timedelta(days=1)\n",
    "    \n",
    "    # Attendre avant la prochaine requête pour éviter de dépasser la limite de taux\n",
    "    time.sleep(1)  # Attendre 1 seconde avant la prochaine requête\n",
    "\n",
    "# Convertir les nouvelles données en DataFrame\n",
    "new_dif = pd.DataFrame(new_data, columns=['timestamp', 'difficulty'])\n",
    "\n",
    "# Ajouter les nouvelles données au dataframe original `dif`\n",
    "difficulty = pd.concat([dif, new_dif], ignore_index=True)\n",
    "\n",
    "# Afficher le DataFrame mis à jour\n",
    "difficulty"
   ]
  },
  {
   "cell_type": "code",
   "execution_count": null,
   "metadata": {},
   "outputs": [],
   "source": []
  },
  {
   "cell_type": "code",
   "execution_count": null,
   "metadata": {},
   "outputs": [],
   "source": [
    "difficulty.set_index('timestamp', inplace=True)"
   ]
  },
  {
   "cell_type": "code",
   "execution_count": null,
   "metadata": {},
   "outputs": [],
   "source": [
    "btc_data.index = pd.to_datetime(btc_data.index)\n",
    "difficulty.index = pd.to_datetime(difficulty.index)"
   ]
  },
  {
   "cell_type": "code",
   "execution_count": null,
   "metadata": {},
   "outputs": [],
   "source": [
    "# Ajouter difficulty au DataFrame final\n",
    "btc_data = btc_data.merge(difficulty, left_index=True, right_index=True, how='outer')"
   ]
  },
  {
   "cell_type": "code",
   "execution_count": null,
   "metadata": {},
   "outputs": [],
   "source": [
    "btc_data"
   ]
  },
  {
   "cell_type": "code",
   "execution_count": null,
   "metadata": {},
   "outputs": [],
   "source": []
  },
  {
   "cell_type": "code",
   "execution_count": null,
   "metadata": {},
   "outputs": [],
   "source": [
    "btc_data.drop(btc_data.index[:22], inplace=True)\n",
    "btc_data"
   ]
  },
  {
   "cell_type": "code",
   "execution_count": null,
   "metadata": {},
   "outputs": [],
   "source": []
  },
  {
   "cell_type": "code",
   "execution_count": null,
   "metadata": {},
   "outputs": [],
   "source": [
    "missing_values_sum = btc_data.isna().sum()\n",
    "missing_values_sum"
   ]
  },
  {
   "cell_type": "code",
   "execution_count": null,
   "metadata": {},
   "outputs": [],
   "source": [
    "btc_data.loc[(btc_data['market_cap'].isna()) & (~btc_data['difficulty'].isna())]"
   ]
  },
  {
   "cell_type": "code",
   "execution_count": null,
   "metadata": {},
   "outputs": [],
   "source": [
    "# Trouver les dates qui satisfont les conditions\n",
    "dates = btc_data[(btc_data['market_cap'].isna()) & (~btc_data['difficulty'].isna())].index\n",
    "\n",
    "# Pour chaque date, afficher la ligne précédente, la ligne actuelle et la ligne suivante\n",
    "for date in dates:\n",
    "    # Obtenez la date précédente et la date suivante\n",
    "    prev_date = date - pd.DateOffset(days=1)\n",
    "    next_date = date + pd.DateOffset(days=1)\n",
    "    \n",
    "    # Affichez les lignes correspondantes\n",
    "    print(btc_data.loc[prev_date:next_date, 'market_cap'])\n",
    "    print(\"\\n\" + \"=\"*50 + \"\\n\")  # Séparateur pour une meilleure lisibilité"
   ]
  },
  {
   "cell_type": "code",
   "execution_count": null,
   "metadata": {},
   "outputs": [],
   "source": [
    "# Trouver les dates qui satisfont les conditions\n",
    "dates_with_na = btc_data[(btc_data['market_cap'].isna()) & (~btc_data['difficulty'].isna())].index\n",
    "\n",
    "# Pour chaque date avec une valeur manquante, remplacez-la par la moyenne des deux valeurs qui l'entourent\n",
    "for date in dates_with_na:\n",
    "    # Obtenez la date précédente et la date suivante\n",
    "    prev_date = date - pd.DateOffset(days=1)\n",
    "    next_date = date + pd.DateOffset(days=1)\n",
    "    \n",
    "    # Calculez la moyenne des deux valeurs\n",
    "    average_value = (btc_data.loc[prev_date, 'market_cap'] + btc_data.loc[next_date, 'market_cap']) / 2\n",
    "    \n",
    "    # Remplacez la valeur manquante par la moyenne calculée\n",
    "    btc_data.loc[date, 'market_cap'] = average_value"
   ]
  },
  {
   "cell_type": "code",
   "execution_count": null,
   "metadata": {},
   "outputs": [],
   "source": []
  },
  {
   "cell_type": "code",
   "execution_count": null,
   "metadata": {},
   "outputs": [],
   "source": [
    "btc_data.loc[(btc_data['market_cap'].isna()) & (~btc_data['difficulty'].isna())]"
   ]
  },
  {
   "cell_type": "code",
   "execution_count": null,
   "metadata": {},
   "outputs": [],
   "source": []
  },
  {
   "cell_type": "code",
   "execution_count": null,
   "metadata": {},
   "outputs": [],
   "source": []
  },
  {
   "cell_type": "code",
   "execution_count": null,
   "metadata": {},
   "outputs": [],
   "source": [
    "#Save\n",
    "btc_data.to_csv('data/btc_data.csv')"
   ]
  },
  {
   "cell_type": "code",
   "execution_count": null,
   "metadata": {},
   "outputs": [],
   "source": []
  }
 ],
 "metadata": {
  "kernelspec": {
   "display_name": "Python 3",
   "language": "python",
   "name": "python3"
  },
  "language_info": {
   "codemirror_mode": {
    "name": "ipython",
    "version": 3
   },
   "file_extension": ".py",
   "mimetype": "text/x-python",
   "name": "python",
   "nbconvert_exporter": "python",
   "pygments_lexer": "ipython3",
   "version": "3.12.0"
  },
  "orig_nbformat": 4
 },
 "nbformat": 4,
 "nbformat_minor": 2
}
