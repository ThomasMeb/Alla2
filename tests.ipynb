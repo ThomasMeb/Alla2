{
 "cells": [
  {
   "cell_type": "code",
   "execution_count": 1,
   "metadata": {},
   "outputs": [],
   "source": [
    "import pandas as pd\n",
    "pd.options.display.max_columns=200\n",
    "import matplotlib.pyplot as plt\n",
    "import numpy as np\n",
    "from sklearn.preprocessing import MinMaxScaler, StandardScaler\n",
    "from sklearn.ensemble import RandomForestClassifier\n",
    "from sklearn.metrics import accuracy_score\n",
    "from sklearn.dummy import DummyClassifier\n",
    "from xgboost import XGBClassifier\n",
    "import warnings\n",
    "warnings.filterwarnings(\"ignore\", category=FutureWarning)\n",
    "warnings.filterwarnings('ignore', category=UserWarning, module='sklearn')"
   ]
  },
  {
   "cell_type": "code",
   "execution_count": 2,
   "metadata": {},
   "outputs": [],
   "source": [
    "data = pd.read_csv('data/btc_data.csv', index_col=0)"
   ]
  },
  {
   "cell_type": "code",
   "execution_count": 3,
   "metadata": {},
   "outputs": [
    {
     "data": {
      "text/html": [
       "<div>\n",
       "<style scoped>\n",
       "    .dataframe tbody tr th:only-of-type {\n",
       "        vertical-align: middle;\n",
       "    }\n",
       "\n",
       "    .dataframe tbody tr th {\n",
       "        vertical-align: top;\n",
       "    }\n",
       "\n",
       "    .dataframe thead th {\n",
       "        text-align: right;\n",
       "    }\n",
       "</style>\n",
       "<table border=\"1\" class=\"dataframe\">\n",
       "  <thead>\n",
       "    <tr style=\"text-align: right;\">\n",
       "      <th></th>\n",
       "      <th>high</th>\n",
       "      <th>low</th>\n",
       "      <th>open</th>\n",
       "      <th>volumefrom</th>\n",
       "      <th>volumeto</th>\n",
       "      <th>close</th>\n",
       "      <th>market_cap</th>\n",
       "      <th>progression daily</th>\n",
       "      <th>progression tomorrow</th>\n",
       "      <th>target</th>\n",
       "      <th>ema_26</th>\n",
       "      <th>ema_12</th>\n",
       "      <th>macd</th>\n",
       "      <th>rsi</th>\n",
       "      <th>relative_volume</th>\n",
       "      <th>obv</th>\n",
       "      <th>atr</th>\n",
       "      <th>bollinger_upper</th>\n",
       "      <th>bollinger_lower</th>\n",
       "      <th>k</th>\n",
       "      <th>momentum</th>\n",
       "      <th>difficulty</th>\n",
       "    </tr>\n",
       "  </thead>\n",
       "  <tbody>\n",
       "    <tr>\n",
       "      <th>2011-01-01</th>\n",
       "      <td>0.3000</td>\n",
       "      <td>0.292</td>\n",
       "      <td>0.3000</td>\n",
       "      <td>2821.24</td>\n",
       "      <td>8.419500e+02</td>\n",
       "      <td>0.3000</td>\n",
       "      <td>NaN</td>\n",
       "      <td>0.000000</td>\n",
       "      <td>0.000000</td>\n",
       "      <td>0</td>\n",
       "      <td>0.251628</td>\n",
       "      <td>0.272215</td>\n",
       "      <td>0.020587</td>\n",
       "      <td>75.041736</td>\n",
       "      <td>0.433468</td>\n",
       "      <td>5.683560e+03</td>\n",
       "      <td>0.018136</td>\n",
       "      <td>0.302597</td>\n",
       "      <td>0.209763</td>\n",
       "      <td>98.360656</td>\n",
       "      <td>0.060</td>\n",
       "      <td>NaN</td>\n",
       "    </tr>\n",
       "    <tr>\n",
       "      <th>2011-01-02</th>\n",
       "      <td>0.3000</td>\n",
       "      <td>0.289</td>\n",
       "      <td>0.3000</td>\n",
       "      <td>5352.11</td>\n",
       "      <td>1.584660e+03</td>\n",
       "      <td>0.3000</td>\n",
       "      <td>NaN</td>\n",
       "      <td>0.000000</td>\n",
       "      <td>0.000000</td>\n",
       "      <td>0</td>\n",
       "      <td>0.255211</td>\n",
       "      <td>0.276490</td>\n",
       "      <td>0.021279</td>\n",
       "      <td>74.831650</td>\n",
       "      <td>0.784203</td>\n",
       "      <td>4.098900e+03</td>\n",
       "      <td>0.018214</td>\n",
       "      <td>0.307253</td>\n",
       "      <td>0.213107</td>\n",
       "      <td>98.360656</td>\n",
       "      <td>0.050</td>\n",
       "      <td>NaN</td>\n",
       "    </tr>\n",
       "    <tr>\n",
       "      <th>2011-01-03</th>\n",
       "      <td>0.3000</td>\n",
       "      <td>0.290</td>\n",
       "      <td>0.3000</td>\n",
       "      <td>1425.19</td>\n",
       "      <td>4.208500e+02</td>\n",
       "      <td>0.2950</td>\n",
       "      <td>NaN</td>\n",
       "      <td>0.000000</td>\n",
       "      <td>-0.016667</td>\n",
       "      <td>0</td>\n",
       "      <td>0.258529</td>\n",
       "      <td>0.280107</td>\n",
       "      <td>0.021578</td>\n",
       "      <td>75.402884</td>\n",
       "      <td>0.227126</td>\n",
       "      <td>3.678050e+03</td>\n",
       "      <td>0.016429</td>\n",
       "      <td>0.311694</td>\n",
       "      <td>0.215676</td>\n",
       "      <td>98.360656</td>\n",
       "      <td>0.050</td>\n",
       "      <td>NaN</td>\n",
       "    </tr>\n",
       "    <tr>\n",
       "      <th>2011-01-04</th>\n",
       "      <td>0.2999</td>\n",
       "      <td>0.289</td>\n",
       "      <td>0.2950</td>\n",
       "      <td>1879.00</td>\n",
       "      <td>5.483300e+02</td>\n",
       "      <td>0.2989</td>\n",
       "      <td>NaN</td>\n",
       "      <td>-0.016667</td>\n",
       "      <td>0.013220</td>\n",
       "      <td>1</td>\n",
       "      <td>0.261230</td>\n",
       "      <td>0.282398</td>\n",
       "      <td>0.021168</td>\n",
       "      <td>64.583333</td>\n",
       "      <td>0.317246</td>\n",
       "      <td>3.129720e+03</td>\n",
       "      <td>0.015286</td>\n",
       "      <td>0.315355</td>\n",
       "      <td>0.216845</td>\n",
       "      <td>90.163934</td>\n",
       "      <td>0.047</td>\n",
       "      <td>NaN</td>\n",
       "    </tr>\n",
       "    <tr>\n",
       "      <th>2011-01-05</th>\n",
       "      <td>0.2990</td>\n",
       "      <td>0.290</td>\n",
       "      <td>0.2989</td>\n",
       "      <td>357.16</td>\n",
       "      <td>1.061900e+02</td>\n",
       "      <td>0.2990</td>\n",
       "      <td>NaN</td>\n",
       "      <td>0.013220</td>\n",
       "      <td>0.000335</td>\n",
       "      <td>1</td>\n",
       "      <td>0.264021</td>\n",
       "      <td>0.284937</td>\n",
       "      <td>0.020916</td>\n",
       "      <td>90.397805</td>\n",
       "      <td>0.063656</td>\n",
       "      <td>3.235910e+03</td>\n",
       "      <td>0.014000</td>\n",
       "      <td>0.318771</td>\n",
       "      <td>0.219319</td>\n",
       "      <td>96.500000</td>\n",
       "      <td>0.049</td>\n",
       "      <td>NaN</td>\n",
       "    </tr>\n",
       "    <tr>\n",
       "      <th>...</th>\n",
       "      <td>...</td>\n",
       "      <td>...</td>\n",
       "      <td>...</td>\n",
       "      <td>...</td>\n",
       "      <td>...</td>\n",
       "      <td>...</td>\n",
       "      <td>...</td>\n",
       "      <td>...</td>\n",
       "      <td>...</td>\n",
       "      <td>...</td>\n",
       "      <td>...</td>\n",
       "      <td>...</td>\n",
       "      <td>...</td>\n",
       "      <td>...</td>\n",
       "      <td>...</td>\n",
       "      <td>...</td>\n",
       "      <td>...</td>\n",
       "      <td>...</td>\n",
       "      <td>...</td>\n",
       "      <td>...</td>\n",
       "      <td>...</td>\n",
       "      <td>...</td>\n",
       "    </tr>\n",
       "    <tr>\n",
       "      <th>2023-10-13</th>\n",
       "      <td>27110.9100</td>\n",
       "      <td>26674.970</td>\n",
       "      <td>26756.2300</td>\n",
       "      <td>18507.04</td>\n",
       "      <td>4.967794e+08</td>\n",
       "      <td>26862.9000</td>\n",
       "      <td>5.216077e+11</td>\n",
       "      <td>-0.004279</td>\n",
       "      <td>0.003987</td>\n",
       "      <td>1</td>\n",
       "      <td>27129.215560</td>\n",
       "      <td>27294.402418</td>\n",
       "      <td>165.186858</td>\n",
       "      <td>46.835697</td>\n",
       "      <td>0.904417</td>\n",
       "      <td>1.270529e+10</td>\n",
       "      <td>785.304286</td>\n",
       "      <td>28397.807436</td>\n",
       "      <td>25925.062564</td>\n",
       "      <td>10.940893</td>\n",
       "      <td>-750.990</td>\n",
       "      <td>5.732151e+13</td>\n",
       "    </tr>\n",
       "    <tr>\n",
       "      <th>2023-10-14</th>\n",
       "      <td>26982.7800</td>\n",
       "      <td>26810.020</td>\n",
       "      <td>26862.9000</td>\n",
       "      <td>5865.21</td>\n",
       "      <td>1.576854e+08</td>\n",
       "      <td>26854.5200</td>\n",
       "      <td>5.236556e+11</td>\n",
       "      <td>0.003987</td>\n",
       "      <td>-0.000312</td>\n",
       "      <td>0</td>\n",
       "      <td>27109.488482</td>\n",
       "      <td>27228.017431</td>\n",
       "      <td>118.528949</td>\n",
       "      <td>49.455572</td>\n",
       "      <td>0.288510</td>\n",
       "      <td>1.286298e+10</td>\n",
       "      <td>786.607857</td>\n",
       "      <td>28390.511290</td>\n",
       "      <td>25960.107710</td>\n",
       "      <td>16.135237</td>\n",
       "      <td>-565.760</td>\n",
       "      <td>5.732151e+13</td>\n",
       "    </tr>\n",
       "    <tr>\n",
       "      <th>2023-10-15</th>\n",
       "      <td>27297.2600</td>\n",
       "      <td>26813.060</td>\n",
       "      <td>26854.5200</td>\n",
       "      <td>10978.68</td>\n",
       "      <td>2.971100e+08</td>\n",
       "      <td>27177.4100</td>\n",
       "      <td>5.239792e+11</td>\n",
       "      <td>-0.000312</td>\n",
       "      <td>0.012024</td>\n",
       "      <td>1</td>\n",
       "      <td>27090.601927</td>\n",
       "      <td>27170.556287</td>\n",
       "      <td>79.954360</td>\n",
       "      <td>48.700891</td>\n",
       "      <td>0.555745</td>\n",
       "      <td>1.256587e+10</td>\n",
       "      <td>738.972857</td>\n",
       "      <td>28353.377450</td>\n",
       "      <td>26056.549550</td>\n",
       "      <td>15.727169</td>\n",
       "      <td>-935.280</td>\n",
       "      <td>5.732151e+13</td>\n",
       "    </tr>\n",
       "    <tr>\n",
       "      <th>2023-10-16</th>\n",
       "      <td>30009.1500</td>\n",
       "      <td>27131.480</td>\n",
       "      <td>27177.4100</td>\n",
       "      <td>66720.48</td>\n",
       "      <td>1.884463e+09</td>\n",
       "      <td>28518.3700</td>\n",
       "      <td>5.296435e+11</td>\n",
       "      <td>0.012024</td>\n",
       "      <td>0.049341</td>\n",
       "      <td>1</td>\n",
       "      <td>27097.032155</td>\n",
       "      <td>27171.610705</td>\n",
       "      <td>74.578550</td>\n",
       "      <td>38.382575</td>\n",
       "      <td>3.228924</td>\n",
       "      <td>1.445033e+10</td>\n",
       "      <td>848.527857</td>\n",
       "      <td>28315.553845</td>\n",
       "      <td>26182.321155</td>\n",
       "      <td>18.572004</td>\n",
       "      <td>-237.180</td>\n",
       "      <td>5.732151e+13</td>\n",
       "    </tr>\n",
       "    <tr>\n",
       "      <th>2023-10-17</th>\n",
       "      <td>28613.2400</td>\n",
       "      <td>28094.140</td>\n",
       "      <td>28518.3700</td>\n",
       "      <td>10541.85</td>\n",
       "      <td>2.990360e+08</td>\n",
       "      <td>28348.8300</td>\n",
       "      <td>5.553388e+11</td>\n",
       "      <td>0.049341</td>\n",
       "      <td>-0.005945</td>\n",
       "      <td>0</td>\n",
       "      <td>27202.316440</td>\n",
       "      <td>27378.804442</td>\n",
       "      <td>176.488003</td>\n",
       "      <td>61.568243</td>\n",
       "      <td>0.533373</td>\n",
       "      <td>1.474937e+10</td>\n",
       "      <td>892.198571</td>\n",
       "      <td>28457.319281</td>\n",
       "      <td>26271.133719</td>\n",
       "      <td>57.131930</td>\n",
       "      <td>571.760</td>\n",
       "      <td>6.103068e+13</td>\n",
       "    </tr>\n",
       "  </tbody>\n",
       "</table>\n",
       "<p>4673 rows × 22 columns</p>\n",
       "</div>"
      ],
      "text/plain": [
       "                  high        low        open  volumefrom      volumeto  \\\n",
       "2011-01-01      0.3000      0.292      0.3000     2821.24  8.419500e+02   \n",
       "2011-01-02      0.3000      0.289      0.3000     5352.11  1.584660e+03   \n",
       "2011-01-03      0.3000      0.290      0.3000     1425.19  4.208500e+02   \n",
       "2011-01-04      0.2999      0.289      0.2950     1879.00  5.483300e+02   \n",
       "2011-01-05      0.2990      0.290      0.2989      357.16  1.061900e+02   \n",
       "...                ...        ...         ...         ...           ...   \n",
       "2023-10-13  27110.9100  26674.970  26756.2300    18507.04  4.967794e+08   \n",
       "2023-10-14  26982.7800  26810.020  26862.9000     5865.21  1.576854e+08   \n",
       "2023-10-15  27297.2600  26813.060  26854.5200    10978.68  2.971100e+08   \n",
       "2023-10-16  30009.1500  27131.480  27177.4100    66720.48  1.884463e+09   \n",
       "2023-10-17  28613.2400  28094.140  28518.3700    10541.85  2.990360e+08   \n",
       "\n",
       "                 close    market_cap  progression daily  progression tomorrow  \\\n",
       "2011-01-01      0.3000           NaN           0.000000              0.000000   \n",
       "2011-01-02      0.3000           NaN           0.000000              0.000000   \n",
       "2011-01-03      0.2950           NaN           0.000000             -0.016667   \n",
       "2011-01-04      0.2989           NaN          -0.016667              0.013220   \n",
       "2011-01-05      0.2990           NaN           0.013220              0.000335   \n",
       "...                ...           ...                ...                   ...   \n",
       "2023-10-13  26862.9000  5.216077e+11          -0.004279              0.003987   \n",
       "2023-10-14  26854.5200  5.236556e+11           0.003987             -0.000312   \n",
       "2023-10-15  27177.4100  5.239792e+11          -0.000312              0.012024   \n",
       "2023-10-16  28518.3700  5.296435e+11           0.012024              0.049341   \n",
       "2023-10-17  28348.8300  5.553388e+11           0.049341             -0.005945   \n",
       "\n",
       "            target        ema_26        ema_12        macd        rsi  \\\n",
       "2011-01-01       0      0.251628      0.272215    0.020587  75.041736   \n",
       "2011-01-02       0      0.255211      0.276490    0.021279  74.831650   \n",
       "2011-01-03       0      0.258529      0.280107    0.021578  75.402884   \n",
       "2011-01-04       1      0.261230      0.282398    0.021168  64.583333   \n",
       "2011-01-05       1      0.264021      0.284937    0.020916  90.397805   \n",
       "...            ...           ...           ...         ...        ...   \n",
       "2023-10-13       1  27129.215560  27294.402418  165.186858  46.835697   \n",
       "2023-10-14       0  27109.488482  27228.017431  118.528949  49.455572   \n",
       "2023-10-15       1  27090.601927  27170.556287   79.954360  48.700891   \n",
       "2023-10-16       1  27097.032155  27171.610705   74.578550  38.382575   \n",
       "2023-10-17       0  27202.316440  27378.804442  176.488003  61.568243   \n",
       "\n",
       "            relative_volume           obv         atr  bollinger_upper  \\\n",
       "2011-01-01         0.433468  5.683560e+03    0.018136         0.302597   \n",
       "2011-01-02         0.784203  4.098900e+03    0.018214         0.307253   \n",
       "2011-01-03         0.227126  3.678050e+03    0.016429         0.311694   \n",
       "2011-01-04         0.317246  3.129720e+03    0.015286         0.315355   \n",
       "2011-01-05         0.063656  3.235910e+03    0.014000         0.318771   \n",
       "...                     ...           ...         ...              ...   \n",
       "2023-10-13         0.904417  1.270529e+10  785.304286     28397.807436   \n",
       "2023-10-14         0.288510  1.286298e+10  786.607857     28390.511290   \n",
       "2023-10-15         0.555745  1.256587e+10  738.972857     28353.377450   \n",
       "2023-10-16         3.228924  1.445033e+10  848.527857     28315.553845   \n",
       "2023-10-17         0.533373  1.474937e+10  892.198571     28457.319281   \n",
       "\n",
       "            bollinger_lower          k  momentum    difficulty  \n",
       "2011-01-01         0.209763  98.360656     0.060           NaN  \n",
       "2011-01-02         0.213107  98.360656     0.050           NaN  \n",
       "2011-01-03         0.215676  98.360656     0.050           NaN  \n",
       "2011-01-04         0.216845  90.163934     0.047           NaN  \n",
       "2011-01-05         0.219319  96.500000     0.049           NaN  \n",
       "...                     ...        ...       ...           ...  \n",
       "2023-10-13     25925.062564  10.940893  -750.990  5.732151e+13  \n",
       "2023-10-14     25960.107710  16.135237  -565.760  5.732151e+13  \n",
       "2023-10-15     26056.549550  15.727169  -935.280  5.732151e+13  \n",
       "2023-10-16     26182.321155  18.572004  -237.180  5.732151e+13  \n",
       "2023-10-17     26271.133719  57.131930   571.760  6.103068e+13  \n",
       "\n",
       "[4673 rows x 22 columns]"
      ]
     },
     "execution_count": 3,
     "metadata": {},
     "output_type": "execute_result"
    }
   ],
   "source": [
    "data"
   ]
  },
  {
   "cell_type": "code",
   "execution_count": null,
   "metadata": {},
   "outputs": [],
   "source": []
  },
  {
   "cell_type": "code",
   "execution_count": 4,
   "metadata": {},
   "outputs": [
    {
     "data": {
      "text/plain": [
       "count     4673.000000\n",
       "mean     10010.712764\n",
       "std      14842.749681\n",
       "min          0.295000\n",
       "25%        237.410000\n",
       "50%       2052.430000\n",
       "75%      11657.810000\n",
       "max      67549.140000\n",
       "Name: open, dtype: float64"
      ]
     },
     "execution_count": 4,
     "metadata": {},
     "output_type": "execute_result"
    }
   ],
   "source": [
    "data['open'].describe()"
   ]
  },
  {
   "cell_type": "code",
   "execution_count": null,
   "metadata": {},
   "outputs": [],
   "source": []
  },
  {
   "cell_type": "code",
   "execution_count": null,
   "metadata": {},
   "outputs": [],
   "source": []
  },
  {
   "cell_type": "code",
   "execution_count": 5,
   "metadata": {},
   "outputs": [],
   "source": [
    "# Sélectionner les caractéristiques et exclure la dernière ligne\n",
    "features = data.drop(columns=['progression tomorrow', 'target', 'close', 'high', 'low', 'volumefrom', 'market_cap', 'difficulty']).iloc[:-1, :]\n",
    "target = data['target'].iloc[:-1]"
   ]
  },
  {
   "cell_type": "code",
   "execution_count": 6,
   "metadata": {},
   "outputs": [],
   "source": [
    "# Définir la taille de la fenêtre initiale\n",
    "window_size = 1000"
   ]
  },
  {
   "cell_type": "code",
   "execution_count": 7,
   "metadata": {},
   "outputs": [
    {
     "data": {
      "text/plain": [
       "\"  \\n# Initialiser les listes pour stocker les prédictions et les vraies valeurs\\npredictions = []\\nactuals = []\\n\\n# Boucle à travers les données de la taille de la fenêtre jusqu'à la fin des données\\nfor i in range(window_size, len(data) - 1):\\n    # Diviser les données en ensembles d'entraînement et de test\\n    X_train = features.iloc[i-window_size:i, :]\\n    y_train = target.iloc[i-window_size:i]\\n    X_test = features.iloc[i:i+1, :]\\n    y_test = target.iloc[i]\\n\\n    #Normaliser les données\\n    scaler = StandardScaler()\\n    X_train_train = scaler.fit_transform(X_train)\\n    X_test = scaler.transform(X_test)\\n    \\n    # Entraîner un modèle\\n    model = RandomForestClassifier()\\n    model.fit(X_train, y_train)\\n    \\n    # Faire une prédiction\\n    prediction = model.predict(X_test)[0]\\n    \\n    # Stocker les prédictions et les vraies valeurs\\n    predictions.append(prediction)\\n    actuals.append(y_test)\\n\\n# Évaluer le modèle\\naccuracy = accuracy_score(actuals, predictions)\\nprint(f'Model Accuracy: {accuracy * 100:.2f}%')\""
      ]
     },
     "execution_count": 7,
     "metadata": {},
     "output_type": "execute_result"
    }
   ],
   "source": [
    "#Test avec RandomForest\n",
    "\n",
    "\"\"\"  \n",
    "# Initialiser les listes pour stocker les prédictions et les vraies valeurs\n",
    "predictions = []\n",
    "actuals = []\n",
    "\n",
    "# Boucle à travers les données de la taille de la fenêtre jusqu'à la fin des données\n",
    "for i in range(window_size, len(data) - 1):\n",
    "    # Diviser les données en ensembles d'entraînement et de test\n",
    "    X_train = features.iloc[i-window_size:i, :]\n",
    "    y_train = target.iloc[i-window_size:i]\n",
    "    X_test = features.iloc[i:i+1, :]\n",
    "    y_test = target.iloc[i]\n",
    "\n",
    "    #Normaliser les données\n",
    "    scaler = StandardScaler()\n",
    "    X_train_train = scaler.fit_transform(X_train)\n",
    "    X_test = scaler.transform(X_test)\n",
    "    \n",
    "    # Entraîner un modèle\n",
    "    model = RandomForestClassifier()\n",
    "    model.fit(X_train, y_train)\n",
    "    \n",
    "    # Faire une prédiction\n",
    "    prediction = model.predict(X_test)[0]\n",
    "    \n",
    "    # Stocker les prédictions et les vraies valeurs\n",
    "    predictions.append(prediction)\n",
    "    actuals.append(y_test)\n",
    "\n",
    "# Évaluer le modèle\n",
    "accuracy = accuracy_score(actuals, predictions)\n",
    "print(f'Model Accuracy: {accuracy * 100:.2f}%')\"\"\"\n"
   ]
  },
  {
   "cell_type": "code",
   "execution_count": 8,
   "metadata": {},
   "outputs": [],
   "source": [
    "def train_model(data, model, features, target, window_size):\n",
    "      \n",
    "      # Initialiser les listes pour stocker les prédictions et les vraies valeurs\n",
    "      predictions = []\n",
    "      actuals = []\n",
    "\n",
    "      # Boucle à travers les données de la taille de la fenêtre jusqu'à la fin des données\n",
    "      for i in range(window_size, len(data) - 1):\n",
    "            # Diviser les données en ensembles d'entraînement et de test\n",
    "            X_train = features.iloc[i-window_size:i, :]\n",
    "            y_train = target.iloc[i-window_size:i]\n",
    "            X_test = features.iloc[i:i+1, :]\n",
    "            y_test = target.iloc[i]\n",
    "\n",
    "            #Normaliser les données\n",
    "            scaler = StandardScaler()\n",
    "            X_train = scaler.fit_transform(X_train)\n",
    "            X_test = scaler.transform(X_test)\n",
    "            \n",
    "            # Entraîner un modèle\n",
    "            model.fit(X_train, y_train)\n",
    "            \n",
    "            # Faire une prédiction\n",
    "            prediction = model.predict(X_test)[0]\n",
    "            \n",
    "            # Stocker les prédictions et les vraies valeurs\n",
    "            predictions.append(prediction)\n",
    "            actuals.append(y_test)\n",
    "\n",
    "      # Évaluer le modèle\n",
    "      accuracy = accuracy_score(actuals, predictions)\n",
    "      print(f'Model Accuracy: {accuracy * 100:.2f}%')"
   ]
  },
  {
   "cell_type": "code",
   "execution_count": 9,
   "metadata": {},
   "outputs": [
    {
     "name": "stdout",
     "output_type": "stream",
     "text": [
      "Model Accuracy: 52.23%\n"
     ]
    }
   ],
   "source": [
    "dummy_model = DummyClassifier(strategy=\"most_frequent\")\n",
    "train_model(data, dummy_model, features, target, window_size)"
   ]
  },
  {
   "cell_type": "code",
   "execution_count": 10,
   "metadata": {},
   "outputs": [
    {
     "data": {
      "text/plain": [
       "'from sklearn.linear_model import LogisticRegression\\nlogistic_regression = LogisticRegression()\\ntrain_model(data, logistic_regression, features, target, window_size)'"
      ]
     },
     "execution_count": 10,
     "metadata": {},
     "output_type": "execute_result"
    }
   ],
   "source": [
    "\"\"\"from sklearn.linear_model import LogisticRegression\n",
    "logistic_regression = LogisticRegression()\n",
    "train_model(data, logistic_regression, features, target, window_size)\"\"\""
   ]
  },
  {
   "cell_type": "code",
   "execution_count": 12,
   "metadata": {},
   "outputs": [
    {
     "data": {
      "text/plain": [
       "\"xgboost = XGBClassifier(use_label_encoder=False, eval_metric='logloss')\\ntrain_model(data, xgboost, features, target, window_size)\""
      ]
     },
     "execution_count": 12,
     "metadata": {},
     "output_type": "execute_result"
    }
   ],
   "source": [
    "\"\"\"xgboost = XGBClassifier(use_label_encoder=False, eval_metric='logloss')\n",
    "train_model(data, xgboost, features, target, window_size)\"\"\""
   ]
  },
  {
   "cell_type": "code",
   "execution_count": null,
   "metadata": {},
   "outputs": [],
   "source": []
  },
  {
   "cell_type": "code",
   "execution_count": 13,
   "metadata": {},
   "outputs": [],
   "source": [
    "def plot_feature_importance(model, feature_names):\n",
    "    # Récupérer les coefficients du modèle\n",
    "    coefficients = model.coef_[0]\n",
    "    \n",
    "    # Créer un DataFrame pour stocker les caractéristiques et leurs importances\n",
    "    feature_importance = pd.DataFrame({\n",
    "        'Feature': feature_names,\n",
    "        'Importance': coefficients\n",
    "    })\n",
    "    \n",
    "    # Trier le DataFrame en fonction de l'importance\n",
    "    feature_importance = feature_importance.sort_values(by='Importance', key=abs, ascending=False)\n",
    "    \n",
    "    # Visualiser l'importance des caractéristiques\n",
    "    plt.figure(figsize=(10, 6))\n",
    "    plt.barh(feature_importance['Feature'], feature_importance['Importance'])\n",
    "    plt.xlabel('Coefficient Value')\n",
    "    plt.ylabel('Feature')\n",
    "    plt.title('Feature Importance for Logistic Regression')\n",
    "    plt.gca().invert_yaxis()  # Pour afficher la caractéristique la plus importante en haut\n",
    "    plt.show()"
   ]
  },
  {
   "cell_type": "code",
   "execution_count": 14,
   "metadata": {},
   "outputs": [],
   "source": [
    "def plot_feature_importance_xgb(model, feature_names):\n",
    "    # Récupérer les importances des caractéristiques du modèle XGBoost\n",
    "    importances = model.feature_importances_\n",
    "    \n",
    "    # Créer un DataFrame pour stocker les caractéristiques et leurs importances\n",
    "    feature_importance = pd.DataFrame({\n",
    "        'Feature': feature_names,\n",
    "        'Importance': importances\n",
    "    })\n",
    "    \n",
    "    # Trier le DataFrame en fonction de l'importance\n",
    "    feature_importance = feature_importance.sort_values(by='Importance', ascending=False)\n",
    "    \n",
    "    # Visualiser l'importance des caractéristiques\n",
    "    plt.figure(figsize=(10, 6))\n",
    "    plt.barh(feature_importance['Feature'], feature_importance['Importance'])\n",
    "    plt.xlabel('Importance Score')\n",
    "    plt.ylabel('Feature')\n",
    "    plt.title('Feature Importance for XGBoost')\n",
    "    plt.gca().invert_yaxis()  # Pour afficher la caractéristique la plus importante en haut\n",
    "    plt.show()"
   ]
  },
  {
   "cell_type": "code",
   "execution_count": 15,
   "metadata": {},
   "outputs": [
    {
     "data": {
      "text/plain": [
       "'plot_feature_importance(logistic_regression, features.columns)'"
      ]
     },
     "execution_count": 15,
     "metadata": {},
     "output_type": "execute_result"
    }
   ],
   "source": [
    "\"\"\"plot_feature_importance(logistic_regression, features.columns)\"\"\""
   ]
  },
  {
   "cell_type": "code",
   "execution_count": null,
   "metadata": {},
   "outputs": [],
   "source": []
  },
  {
   "cell_type": "code",
   "execution_count": 16,
   "metadata": {},
   "outputs": [],
   "source": [
    "from sklearn.metrics import log_loss\n",
    "\n",
    "def train_model_proba(data, model, features, target, window_size):\n",
    "      \n",
    "    # Initialiser les listes pour stocker les probabilités prédites et les vraies valeurs\n",
    "    predicted_probs = []\n",
    "    actuals = []\n",
    "\n",
    "    # Boucle à travers les données de la taille de la fenêtre jusqu'à la fin des données\n",
    "    for i in range(window_size, len(data) - 1):\n",
    "        # Diviser les données en ensembles d'entraînement et de test\n",
    "        X_train = features.iloc[i-window_size:i, :]\n",
    "        y_train = target.iloc[i-window_size:i]\n",
    "        X_test = features.iloc[i:i+1, :]\n",
    "        y_test = target.iloc[i]\n",
    "\n",
    "        # Normaliser les données\n",
    "        scaler = StandardScaler()\n",
    "        X_train = scaler.fit_transform(X_train)\n",
    "        X_test = scaler.transform(X_test)\n",
    "        \n",
    "        # Entraîner un modèle\n",
    "        model.fit(X_train, y_train)\n",
    "        \n",
    "        # Obtenir les probabilités prédites pour la classe positive (par exemple, 1)\n",
    "        prediction_prob = model.predict_proba(X_test)[:, 1]\n",
    "        \n",
    "        # Stocker les probabilités prédites et les vraies valeurs\n",
    "        predicted_probs.extend(prediction_prob)\n",
    "        actuals.append(y_test)\n",
    "\n",
    "    # Calculer la Log Loss\n",
    "    loss = log_loss(actuals, predicted_probs)\n",
    "    print(f'Log Loss: {loss:.4f}')"
   ]
  },
  {
   "cell_type": "code",
   "execution_count": 17,
   "metadata": {},
   "outputs": [
    {
     "data": {
      "text/plain": [
       "'train_model_proba(data, logistic_regression, features, target, window_size)'"
      ]
     },
     "execution_count": 17,
     "metadata": {},
     "output_type": "execute_result"
    }
   ],
   "source": [
    "\"\"\"train_model_proba(data, logistic_regression, features, target, window_size)\"\"\""
   ]
  },
  {
   "cell_type": "code",
   "execution_count": null,
   "metadata": {},
   "outputs": [],
   "source": []
  },
  {
   "cell_type": "code",
   "execution_count": 18,
   "metadata": {},
   "outputs": [],
   "source": [
    "def earn_metric(predicted_probs, progressions, n_days, i):\n",
    "      base = c = 1\n",
    "      for j in range(n_days):\n",
    "            index = len(predicted_probs) - n_days + j\n",
    "            c *= predicted_probs[index] * progressions[index] + (1 - predicted_probs[index])\n",
    "            base *= progressions[index]\n",
    "      return c / base\n",
    "\n",
    "\n",
    "def train_model_proba_metric(data, model, features, target, window_size, n_days):\n",
    "      \n",
    "    # Initialiser les listes pour stocker les probabilités prédites et les vraies valeurs\n",
    "    predicted_probs = []\n",
    "    progressions = []\n",
    "    metric = []\n",
    "\n",
    "    # Boucle à travers les données de la taille de la fenêtre jusqu'à la fin des données\n",
    "    for i in range(window_size, len(data) - 1):\n",
    "        # Diviser les données en ensembles d'entraînement et de test\n",
    "        X_train = features.iloc[i-window_size:i, :]\n",
    "        y_train = target.iloc[i-window_size:i]\n",
    "        X_test = features.iloc[i:i+1, :]\n",
    "        y_test = target.iloc[i]\n",
    "\n",
    "        # Normaliser les données\n",
    "        scaler = StandardScaler()\n",
    "        X_train = scaler.fit_transform(X_train)\n",
    "        X_test = scaler.transform(X_test)\n",
    "        \n",
    "        # Entraîner un modèle\n",
    "        model.fit(X_train, y_train)\n",
    "        \n",
    "        # Obtenir les probabilités prédites pour la classe positive (par exemple, 1)\n",
    "        prediction_prob = model.predict_proba(X_test)[:, 1]\n",
    "        \n",
    "        # Stocker les probabilités prédites et les vraies valeurs\n",
    "        predicted_probs.extend(prediction_prob)\n",
    "        \n",
    "        # Récupérer la progression réelle\n",
    "        progressions.append(data.iloc[i]['progression tomorrow']+1)\n",
    "\n",
    "        if i >= window_size + n_days:\n",
    "            metric.append(earn_metric(predicted_probs, progressions, n_days, i))\n",
    "    \n",
    "    return np.mean(metric) "
   ]
  },
  {
   "cell_type": "code",
   "execution_count": 19,
   "metadata": {},
   "outputs": [
    {
     "data": {
      "text/plain": [
       "'train_model_proba_metric(data, xgboost, features, target, window_size, n_days)'"
      ]
     },
     "execution_count": 19,
     "metadata": {},
     "output_type": "execute_result"
    }
   ],
   "source": [
    "n_days = 31\n",
    "\n",
    "\"\"\"train_model_proba_metric(data, xgboost, features, target, window_size, n_days)\"\"\""
   ]
  },
  {
   "cell_type": "code",
   "execution_count": null,
   "metadata": {},
   "outputs": [],
   "source": []
  },
  {
   "cell_type": "code",
   "execution_count": null,
   "metadata": {},
   "outputs": [],
   "source": []
  },
  {
   "cell_type": "code",
   "execution_count": null,
   "metadata": {},
   "outputs": [],
   "source": []
  },
  {
   "cell_type": "code",
   "execution_count": null,
   "metadata": {},
   "outputs": [],
   "source": []
  },
  {
   "cell_type": "code",
   "execution_count": null,
   "metadata": {},
   "outputs": [],
   "source": []
  },
  {
   "cell_type": "code",
   "execution_count": 20,
   "metadata": {},
   "outputs": [],
   "source": [
    "def train_model_grid(data, model, features, target, window_size):\n",
    "      \n",
    "      # Initialiser les listes pour stocker les prédictions et les vraies valeurs\n",
    "      predictions = []\n",
    "      actuals = []\n",
    "\n",
    "      # Boucle à travers les données de la taille de la fenêtre jusqu'à la fin des données\n",
    "      for i in range(window_size, len(data) - 1):\n",
    "            # Diviser les données en ensembles d'entraînement et de test\n",
    "            X_train = features.iloc[i-window_size:i, :]\n",
    "            y_train = target.iloc[i-window_size:i]\n",
    "            X_test = features.iloc[i:i+1, :]\n",
    "            y_test = target.iloc[i]\n",
    "\n",
    "            #Normaliser les données\n",
    "            scaler = StandardScaler()\n",
    "            X_train = scaler.fit_transform(X_train)\n",
    "            X_test = scaler.transform(X_test)\n",
    "            \n",
    "            # Entraîner un modèle\n",
    "            model.fit(X_train, y_train)\n",
    "            \n",
    "            # Faire une prédiction\n",
    "            prediction = model.predict(X_test)[0]\n",
    "            \n",
    "            # Stocker les prédictions et les vraies valeurs\n",
    "            predictions.append(prediction)\n",
    "            actuals.append(y_test)\n",
    "\n",
    "      # Évaluer le modèle\n",
    "      accuracy = accuracy_score(actuals, predictions)\n",
    "      return accuracy"
   ]
  },
  {
   "cell_type": "code",
   "execution_count": 21,
   "metadata": {},
   "outputs": [],
   "source": [
    "# Définir la grille de paramètres\n",
    "param_grid = {\n",
    "    'penalty': ['l1', 'l2', 'elasticnet', 'none'],\n",
    "    'C': [0.001, 0.01, 0.1, 1, 10, 100],\n",
    "    'solver': ['newton-cg', 'lbfgs', 'liblinear', 'sag', 'saga'],\n",
    "    'max_iter': [50, 100, 200, 500],\n",
    "    'fit_intercept': [True, False],\n",
    "    'class_weight': [None, 'balanced'],\n",
    "    'l1_ratio': [0.1, 0.3, 0.5, 0.7, 0.9]\n",
    "}"
   ]
  },
  {
   "cell_type": "code",
   "execution_count": 22,
   "metadata": {},
   "outputs": [],
   "source": [
    "param_grid_xgb_reduced = {\n",
    "    'learning_rate': [0.01, 0.1],\n",
    "    'n_estimators': [100, 200],\n",
    "    'max_depth': [3, 5],\n",
    "    'subsample': [0.8, 1.0],\n",
    "    'colsample_bytree': [0.8, 1.0]\n",
    "}\n"
   ]
  },
  {
   "cell_type": "code",
   "execution_count": 23,
   "metadata": {},
   "outputs": [
    {
     "data": {
      "text/plain": [
       "'from sklearn.model_selection import ParameterGrid\\nfrom sklearn.linear_model import LogisticRegression\\nfrom sklearn.preprocessing import StandardScaler\\nfrom sklearn.metrics import accuracy_score\\nwarnings.filterwarnings(\\'ignore\\', category=FutureWarning, module=\\'sklearn\\')\\nfrom IPython.display import display, HTML\\n\\n\\n# Créer une liste de combinaisons de paramètres\\ngrid_list = list(ParameterGrid(param_grid_xgb_reduced))\\n\\n# Pour boucler sur chaque combinaison :\\nbest_accuracy = 0\\nbest_params = None\\n\\nfor params in grid_list:\\n    try:\\n        # Instancier le modèle avec les paramètres\\n        model_instance = XGBClassifier(**params)\\n        \\n        # Appliquer la fonction train_model\\n        accuracy = train_model_grid(data, model_instance, features, target, window_size)\\n        \\n        # Si le modèle actuel a une meilleure précision que le précédent meilleur modèle, stocker sa précision et ses paramètres\\n        if accuracy > best_accuracy:\\n            best_accuracy = accuracy\\n            best_params = params\\n            print(f\"Nouveaux meilleurs paramètres trouvés : {params}, accuracy : {accuracy}\")\\n\\n        \\n            \\n    except Exception as e:\\n        # Gérer les combinaisons de paramètres non compatibles\\n        error_message = f\"Error with parameters {params}: {e}\"\\n        #display(HTML(f\"<small>{error_message}</small>\"))\\n        #pass\\n\\nprint(f\"Best Model Accuracy: {best_accuracy * 100:.2f}%\")\\nprint(f\"Best Parameters: {best_params}\")\\n'"
      ]
     },
     "execution_count": 23,
     "metadata": {},
     "output_type": "execute_result"
    }
   ],
   "source": [
    "\"\"\"from sklearn.model_selection import ParameterGrid\n",
    "from sklearn.linear_model import LogisticRegression\n",
    "from sklearn.preprocessing import StandardScaler\n",
    "from sklearn.metrics import accuracy_score\n",
    "warnings.filterwarnings('ignore', category=FutureWarning, module='sklearn')\n",
    "from IPython.display import display, HTML\n",
    "\n",
    "\n",
    "# Créer une liste de combinaisons de paramètres\n",
    "grid_list = list(ParameterGrid(param_grid_xgb_reduced))\n",
    "\n",
    "# Pour boucler sur chaque combinaison :\n",
    "best_accuracy = 0\n",
    "best_params = None\n",
    "\n",
    "for params in grid_list:\n",
    "    try:\n",
    "        # Instancier le modèle avec les paramètres\n",
    "        model_instance = XGBClassifier(**params)\n",
    "        \n",
    "        # Appliquer la fonction train_model\n",
    "        accuracy = train_model_grid(data, model_instance, features, target, window_size)\n",
    "        \n",
    "        # Si le modèle actuel a une meilleure précision que le précédent meilleur modèle, stocker sa précision et ses paramètres\n",
    "        if accuracy > best_accuracy:\n",
    "            best_accuracy = accuracy\n",
    "            best_params = params\n",
    "            print(f\"Nouveaux meilleurs paramètres trouvés : {params}, accuracy : {accuracy}\")\n",
    "\n",
    "        \n",
    "            \n",
    "    except Exception as e:\n",
    "        # Gérer les combinaisons de paramètres non compatibles\n",
    "        error_message = f\"Error with parameters {params}: {e}\"\n",
    "        #display(HTML(f\"<small>{error_message}</small>\"))\n",
    "        #pass\n",
    "\n",
    "print(f\"Best Model Accuracy: {best_accuracy * 100:.2f}%\")\n",
    "print(f\"Best Parameters: {best_params}\")\n",
    "\"\"\""
   ]
  },
  {
   "cell_type": "code",
   "execution_count": 24,
   "metadata": {},
   "outputs": [
    {
     "data": {
      "text/plain": [
       "\"Best Model Accuracy: 60.57%\\nBest Parameters: {'colsample_bytree': 1.0, 'learning_rate': 0.01, 'max_depth': 5, 'n_estimators': 200, 'subsample': 0.8}\""
      ]
     },
     "execution_count": 24,
     "metadata": {},
     "output_type": "execute_result"
    }
   ],
   "source": [
    "\"\"\"Best Model Accuracy: 60.57%\n",
    "Best Parameters: {'colsample_bytree': 1.0, 'learning_rate': 0.01, 'max_depth': 5, 'n_estimators': 200, 'subsample': 0.8}\"\"\""
   ]
  },
  {
   "cell_type": "code",
   "execution_count": 25,
   "metadata": {},
   "outputs": [],
   "source": [
    "best_params_xgb = {'colsample_bytree': 1.0, 'learning_rate': 0.01, 'max_depth': 5, 'n_estimators': 200, 'subsample': 0.8}"
   ]
  },
  {
   "cell_type": "code",
   "execution_count": 27,
   "metadata": {},
   "outputs": [
    {
     "data": {
      "text/plain": [
       "'xgboost = XGBClassifier(**best_params_xgb)\\n\\ntrain_model_proba_metric(data, xgboost, features, target, window_size, n_days)'"
      ]
     },
     "execution_count": 27,
     "metadata": {},
     "output_type": "execute_result"
    }
   ],
   "source": [
    "\"\"\"xgboost = XGBClassifier(**best_params_xgb)\n",
    "\n",
    "train_model_proba_metric(data, xgboost, features, target, window_size, n_days)\"\"\"\n",
    "#Accuracy : 0.60"
   ]
  },
  {
   "cell_type": "code",
   "execution_count": null,
   "metadata": {},
   "outputs": [],
   "source": []
  },
  {
   "cell_type": "code",
   "execution_count": null,
   "metadata": {},
   "outputs": [],
   "source": []
  },
  {
   "cell_type": "code",
   "execution_count": 31,
   "metadata": {},
   "outputs": [
    {
     "data": {
      "image/png": "[encoded data removed]",
      "text/plain": [
       "<Figure size 1000x600 with 1 Axes>"
      ]
     },
     "metadata": {},
     "output_type": "display_data"
    }
   ],
   "source": [
    "feature_names = features.columns.tolist()\n",
    "plot_feature_importance_xgb(xgboost, feature_names)"
   ]
  },
  {
   "cell_type": "code",
   "execution_count": null,
   "metadata": {},
   "outputs": [],
   "source": [
    "\"\"\"best params au bout de 16h d'exec : \n",
    "\n",
    "{'C': 0.001,\n",
    " 'class_weight': None,\n",
    " 'fit_intercept': True,\n",
    " 'l1_ratio': 0.1,\n",
    " 'max_iter': 100,\n",
    " 'penalty': 'none',\n",
    " 'solver': 'sag'}\n",
    "\n",
    " acccuracy minable de 0.568082788671024\n",
    " \n",
    " \"\"\""
   ]
  },
  {
   "cell_type": "code",
   "execution_count": null,
   "metadata": {},
   "outputs": [],
   "source": []
  },
  {
   "cell_type": "code",
   "execution_count": null,
   "metadata": {},
   "outputs": [],
   "source": []
  },
  {
   "cell_type": "code",
   "execution_count": null,
   "metadata": {},
   "outputs": [],
   "source": []
  },
  {
   "cell_type": "code",
   "execution_count": null,
   "metadata": {},
   "outputs": [],
   "source": []
  },
  {
   "cell_type": "code",
   "execution_count": null,
   "metadata": {},
   "outputs": [],
   "source": []
  },
  {
   "cell_type": "code",
   "execution_count": null,
   "metadata": {},
   "outputs": [],
   "source": []
  },
  {
   "cell_type": "code",
   "execution_count": 28,
   "metadata": {},
   "outputs": [],
   "source": [
    "data_crop = data.dropna()"
   ]
  },
  {
   "cell_type": "code",
   "execution_count": null,
   "metadata": {},
   "outputs": [],
   "source": []
  },
  {
   "cell_type": "code",
   "execution_count": 29,
   "metadata": {},
   "outputs": [],
   "source": [
    "# Sélectionner les caractéristiques et exclure la dernière ligne\n",
    "features = data_crop.drop(columns=['progression tomorrow', 'target', 'close', 'high', 'low', 'volumefrom']).iloc[:-1, :]\n",
    "target = data['target'].iloc[:-1]\n",
    "\n",
    "# Définir la taille de la fenêtre initiale\n",
    "window_size = 1000\n",
    "\n",
    "# Définir la taille de le fenêtre pour calculer la métrique\n",
    "n_days = 31"
   ]
  },
  {
   "cell_type": "code",
   "execution_count": null,
   "metadata": {},
   "outputs": [],
   "source": []
  },
  {
   "cell_type": "code",
   "execution_count": 30,
   "metadata": {},
   "outputs": [
    {
     "name": "stdout",
     "output_type": "stream",
     "text": [
      "Model Accuracy: 53.29%\n"
     ]
    }
   ],
   "source": [
    "dummy_model = DummyClassifier(strategy=\"most_frequent\")\n",
    "train_model(data_crop, dummy_model, features, target, window_size)"
   ]
  },
  {
   "cell_type": "code",
   "execution_count": null,
   "metadata": {},
   "outputs": [],
   "source": []
  },
  {
   "cell_type": "code",
   "execution_count": 34,
   "metadata": {},
   "outputs": [],
   "source": [
    "best_params_xgb = {'colsample_bytree': 1.0, 'learning_rate': 0.01, 'max_depth': 5, 'n_estimators': 200, 'subsample': 0.8}\n",
    "\n",
    "xgboost = XGBClassifier(**best_params_xgb, random_state = 42)"
   ]
  },
  {
   "cell_type": "code",
   "execution_count": null,
   "metadata": {},
   "outputs": [],
   "source": [
    "train_model(data_crop, xgboost, features, target, window_size)"
   ]
  },
  {
   "cell_type": "code",
   "execution_count": 29,
   "metadata": {},
   "outputs": [
    {
     "data": {
      "image/png": "[encoded data removed]",
      "text/plain": [
       "<Figure size 1000x600 with 1 Axes>"
      ]
     },
     "metadata": {},
     "output_type": "display_data"
    }
   ],
   "source": [
    "plot_feature_importance_xgb(xgboost, feature_names=features.columns.tolist())"
   ]
  },
  {
   "cell_type": "code",
   "execution_count": 36,
   "metadata": {},
   "outputs": [],
   "source": [
    "import shap\n",
    "import numpy as np\n",
    "import xgboost as xgb\n",
    "xgb.set_config(verbosity=0)  # 0 pour ignorer les avertissements, 1 pour les afficher\n",
    "\n",
    "\n",
    "def train_model_with_shap(data, model, features, target, window_size):\n",
    "      \n",
    "    # Initialiser les listes pour stocker les prédictions, les vraies valeurs et les valeurs SHAP\n",
    "    predictions = []\n",
    "    actuals = []\n",
    "    all_shap_values = []\n",
    "\n",
    "    # Boucle à travers les données de la taille de la fenêtre jusqu'à la fin des données\n",
    "    for i in range(window_size, len(data) - 1):\n",
    "        # Diviser les données en ensembles d'entraînement et de test\n",
    "        X_train = features.iloc[i-window_size:i, :]\n",
    "        y_train = target.iloc[i-window_size:i]\n",
    "        X_test = features.iloc[i:i+1, :]\n",
    "        y_test = target.iloc[i]\n",
    "\n",
    "        # Normaliser les données\n",
    "        scaler = StandardScaler()\n",
    "        X_train_scaled = scaler.fit_transform(X_train)\n",
    "        X_test_scaled = scaler.transform(X_test)\n",
    "        \n",
    "        # Entraîner un modèle\n",
    "        model.fit(X_train_scaled, y_train)\n",
    "        \n",
    "        # Faire une prédiction\n",
    "        prediction = model.predict(X_test_scaled)[0]\n",
    "        \n",
    "        # Stocker les prédictions et les vraies valeurs\n",
    "        predictions.append(prediction)\n",
    "        actuals.append(y_test)\n",
    "\n",
    "        # Créez un explainer SHAP pour le modèle actuel\n",
    "        explainer = shap.Explainer(model)\n",
    "        \n",
    "        # Calculez les valeurs SHAP pour l'ensemble d'entraînement actuel\n",
    "        shap_values = explainer.shap_values(X_train_scaled)\n",
    "        \n",
    "        # Ajoutez les valeurs SHAP à la liste\n",
    "        all_shap_values.append(shap_values)\n",
    "\n",
    "    # Calculer l'importance moyenne des caractéristiques sur toutes les fenêtres\n",
    "    mean_shap_values = np.mean(all_shap_values, axis=0)\n",
    "\n",
    "    # Visualiser l'importance moyenne des caractéristiques\n",
    "    shap.summary_plot(mean_shap_values, X_train, plot_type=\"bar\")\n",
    "\n",
    "    # Évaluer le modèle\n",
    "    accuracy = accuracy_score(actuals, predictions)\n",
    "    print(f'Model Accuracy: {accuracy * 100:.2f}%')\n",
    "\n",
    "    return mean_shap_values\n"
   ]
  },
  {
   "cell_type": "code",
   "execution_count": 37,
   "metadata": {},
   "outputs": [],
   "source": [
    "train_model_with_shap(data_crop, xgboost, features, target, window_size)"
   ]
  },
  {
   "cell_type": "code",
   "execution_count": null,
   "metadata": {},
   "outputs": [],
   "source": []
  },
  {
   "cell_type": "code",
   "execution_count": null,
   "metadata": {},
   "outputs": [],
   "source": []
  },
  {
   "cell_type": "code",
   "execution_count": null,
   "metadata": {},
   "outputs": [],
   "source": []
  },
  {
   "cell_type": "code",
   "execution_count": null,
   "metadata": {},
   "outputs": [],
   "source": []
  },
  {
   "cell_type": "code",
   "execution_count": null,
   "metadata": {},
   "outputs": [],
   "source": []
  },
  {
   "cell_type": "code",
   "execution_count": null,
   "metadata": {},
   "outputs": [],
   "source": []
  },
  {
   "cell_type": "code",
   "execution_count": null,
   "metadata": {},
   "outputs": [],
   "source": []
  },
  {
   "cell_type": "code",
   "execution_count": 40,
   "metadata": {},
   "outputs": [
    {
     "data": {
      "text/plain": [
       "0.9891143112128489"
      ]
     },
     "execution_count": 40,
     "metadata": {},
     "output_type": "execute_result"
    }
   ],
   "source": [
    "train_model_proba_metric(data_crop, xgboost, features, target, window_size, n_days)"
   ]
  },
  {
   "cell_type": "code",
   "execution_count": null,
   "metadata": {},
   "outputs": [],
   "source": []
  },
  {
   "cell_type": "code",
   "execution_count": null,
   "metadata": {},
   "outputs": [],
   "source": []
  },
  {
   "cell_type": "code",
   "execution_count": null,
   "metadata": {},
   "outputs": [],
   "source": []
  },
  {
   "cell_type": "code",
   "execution_count": null,
   "metadata": {},
   "outputs": [],
   "source": []
  },
  {
   "cell_type": "code",
   "execution_count": null,
   "metadata": {},
   "outputs": [],
   "source": []
  },
  {
   "cell_type": "code",
   "execution_count": 57,
   "metadata": {},
   "outputs": [],
   "source": [
    "def train_model_full_data(data, model, features, target):\n",
    "      \n",
    "      # Initialiser les listes pour stocker les prédictions et les vraies valeurs\n",
    "      predictions = []\n",
    "      actuals = []\n",
    "\n",
    "      # Boucle à travers les données de la taille de la fenêtre jusqu'à la fin des données\n",
    "      for i in range(1, len(data) - 1):\n",
    "            # Diviser les données en ensembles d'entraînement et de test\n",
    "            X_train = features.iloc[:i, :]\n",
    "            y_train = target.iloc[:i]\n",
    "            X_test = features.iloc[i:i+1, :]\n",
    "            y_test = target.iloc[i]\n",
    "\n",
    "            #Normaliser les données\n",
    "            scaler = StandardScaler()\n",
    "            X_train = scaler.fit_transform(X_train)\n",
    "            X_test = scaler.transform(X_test)\n",
    "            \n",
    "            # Entraîner un modèle\n",
    "            model.fit(X_train, y_train)\n",
    "            \n",
    "            # Faire une prédiction\n",
    "            prediction = model.predict(X_test)[0]\n",
    "            \n",
    "            # Stocker les prédictions et les vraies valeurs\n",
    "            predictions.append(prediction)\n",
    "            actuals.append(y_test)\n",
    "\n",
    "      # Évaluer le modèle\n",
    "      accuracy = accuracy_score(actuals, predictions)\n",
    "      print(f'Model Accuracy: {accuracy * 100:.2f}%')"
   ]
  },
  {
   "cell_type": "code",
   "execution_count": 58,
   "metadata": {},
   "outputs": [],
   "source": [
    "def train_model_proba_metric_full_data(data, model, features, target, start_size, n_days):\n",
    "      \n",
    "    # Initialiser les listes pour stocker les probabilités prédites et les vraies valeurs\n",
    "    predicted_probs = []\n",
    "    progressions = []\n",
    "    metric = []\n",
    "\n",
    "    # Boucle à travers les données de la taille de la fenêtre jusqu'à la fin des données\n",
    "    for i in range(start_size, len(data) - 1):\n",
    "        # Diviser les données en ensembles d'entraînement et de test\n",
    "        X_train = features.iloc[:i, :]\n",
    "        y_train = target.iloc[:i]\n",
    "        X_test = features.iloc[i:i+1, :]\n",
    "        y_test = target.iloc[i]\n",
    "\n",
    "        # Normaliser les données\n",
    "        scaler = StandardScaler()\n",
    "        X_train = scaler.fit_transform(X_train)\n",
    "        X_test = scaler.transform(X_test)\n",
    "        \n",
    "        # Entraîner un modèle\n",
    "        model.fit(X_train, y_train)\n",
    "        \n",
    "        # Obtenir les probabilités prédites pour la classe positive (par exemple, 1)\n",
    "        prediction_prob = model.predict_proba(X_test)[:, 1]\n",
    "        \n",
    "        # Stocker les probabilités prédites et les vraies valeurs\n",
    "        predicted_probs.extend(prediction_prob)\n",
    "        \n",
    "        # Récupérer la progression réelle\n",
    "        progressions.append(data.iloc[i]['progression tomorrow']+1)\n",
    "\n",
    "        if i >= start_size + n_days:\n",
    "            metric.append(earn_metric(predicted_probs, progressions, n_days, i))\n",
    "    \n",
    "    return np.mean(metric) "
   ]
  },
  {
   "cell_type": "code",
   "execution_count": 59,
   "metadata": {},
   "outputs": [],
   "source": [
    "start_size = 100"
   ]
  },
  {
   "cell_type": "code",
   "execution_count": 60,
   "metadata": {},
   "outputs": [
    {
     "data": {
      "text/plain": [
       "0.9979848516844735"
      ]
     },
     "execution_count": 60,
     "metadata": {},
     "output_type": "execute_result"
    }
   ],
   "source": [
    "train_model_proba_metric_full_data(data_crop, xgboost, features, target, start_size, n_days)"
   ]
  },
  {
   "cell_type": "code",
   "execution_count": null,
   "metadata": {},
   "outputs": [],
   "source": []
  }
 ],
 "metadata": {
  "kernelspec": {
   "display_name": "Python 3",
   "language": "python",
   "name": "python3"
  },
  "language_info": {
   "codemirror_mode": {
    "name": "ipython",
    "version": 3
   },
   "file_extension": ".py",
   "mimetype": "text/x-python",
   "name": "python",
   "nbconvert_exporter": "python",
   "pygments_lexer": "ipython3",
   "version": "3.11.6"
  }
 },
 "nbformat": 4,
 "nbformat_minor": 2
}
