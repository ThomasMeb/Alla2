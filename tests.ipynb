{
 "cells": [
  {
   "cell_type": "code",
   "execution_count": 31,
   "metadata": {},
   "outputs": [],
   "source": [
    "import pandas as pd\n",
    "pd.options.display.max_columns=200\n",
    "import matplotlib.pyplot as plt\n",
    "import numpy as np\n",
    "from sklearn.preprocessing import MinMaxScaler, StandardScaler\n",
    "from sklearn.ensemble import RandomForestClassifier\n",
    "from sklearn.metrics import accuracy_score, f1_score\n",
    "from sklearn.dummy import DummyClassifier\n",
    "from xgboost import XGBClassifier\n",
    "import warnings\n",
    "warnings.filterwarnings(\"ignore\", category=FutureWarning)\n",
    "warnings.filterwarnings('ignore', category=UserWarning, module='sklearn')"
   ]
  },
  {
   "cell_type": "code",
   "execution_count": 32,
   "metadata": {},
   "outputs": [],
   "source": [
    "data = pd.read_csv('data/btc_data.csv', index_col=0)"
   ]
  },
  {
   "cell_type": "code",
   "execution_count": 33,
   "metadata": {},
   "outputs": [
    {
     "data": {
      "text/html": [
       "<div>\n",
       "<style scoped>\n",
       "    .dataframe tbody tr th:only-of-type {\n",
       "        vertical-align: middle;\n",
       "    }\n",
       "\n",
       "    .dataframe tbody tr th {\n",
       "        vertical-align: top;\n",
       "    }\n",
       "\n",
       "    .dataframe thead th {\n",
       "        text-align: right;\n",
       "    }\n",
       "</style>\n",
       "<table border=\"1\" class=\"dataframe\">\n",
       "  <thead>\n",
       "    <tr style=\"text-align: right;\">\n",
       "      <th></th>\n",
       "      <th>high</th>\n",
       "      <th>low</th>\n",
       "      <th>open</th>\n",
       "      <th>volumefrom</th>\n",
       "      <th>volumeto</th>\n",
       "      <th>close</th>\n",
       "      <th>market_cap</th>\n",
       "      <th>progression daily</th>\n",
       "      <th>progression tomorrow</th>\n",
       "      <th>target</th>\n",
       "      <th>ema_26</th>\n",
       "      <th>ema_12</th>\n",
       "      <th>macd</th>\n",
       "      <th>rsi</th>\n",
       "      <th>relative_volume</th>\n",
       "      <th>obv</th>\n",
       "      <th>atr</th>\n",
       "      <th>bollinger_upper</th>\n",
       "      <th>bollinger_lower</th>\n",
       "      <th>k</th>\n",
       "      <th>momentum</th>\n",
       "      <th>difficulty</th>\n",
       "    </tr>\n",
       "  </thead>\n",
       "  <tbody>\n",
       "    <tr>\n",
       "      <th>2011-01-01</th>\n",
       "      <td>0.3000</td>\n",
       "      <td>0.292</td>\n",
       "      <td>0.3000</td>\n",
       "      <td>2821.24</td>\n",
       "      <td>8.419500e+02</td>\n",
       "      <td>0.3000</td>\n",
       "      <td>NaN</td>\n",
       "      <td>0.000000</td>\n",
       "      <td>0.000000</td>\n",
       "      <td>0</td>\n",
       "      <td>0.251628</td>\n",
       "      <td>0.272215</td>\n",
       "      <td>0.020587</td>\n",
       "      <td>75.041736</td>\n",
       "      <td>0.433468</td>\n",
       "      <td>5.683560e+03</td>\n",
       "      <td>0.018136</td>\n",
       "      <td>0.302597</td>\n",
       "      <td>0.209763</td>\n",
       "      <td>98.360656</td>\n",
       "      <td>0.060</td>\n",
       "      <td>NaN</td>\n",
       "    </tr>\n",
       "    <tr>\n",
       "      <th>2011-01-02</th>\n",
       "      <td>0.3000</td>\n",
       "      <td>0.289</td>\n",
       "      <td>0.3000</td>\n",
       "      <td>5352.11</td>\n",
       "      <td>1.584660e+03</td>\n",
       "      <td>0.3000</td>\n",
       "      <td>NaN</td>\n",
       "      <td>0.000000</td>\n",
       "      <td>0.000000</td>\n",
       "      <td>0</td>\n",
       "      <td>0.255211</td>\n",
       "      <td>0.276490</td>\n",
       "      <td>0.021279</td>\n",
       "      <td>74.831650</td>\n",
       "      <td>0.784203</td>\n",
       "      <td>4.098900e+03</td>\n",
       "      <td>0.018214</td>\n",
       "      <td>0.307253</td>\n",
       "      <td>0.213107</td>\n",
       "      <td>98.360656</td>\n",
       "      <td>0.050</td>\n",
       "      <td>NaN</td>\n",
       "    </tr>\n",
       "    <tr>\n",
       "      <th>2011-01-03</th>\n",
       "      <td>0.3000</td>\n",
       "      <td>0.290</td>\n",
       "      <td>0.3000</td>\n",
       "      <td>1425.19</td>\n",
       "      <td>4.208500e+02</td>\n",
       "      <td>0.2950</td>\n",
       "      <td>NaN</td>\n",
       "      <td>0.000000</td>\n",
       "      <td>-0.016667</td>\n",
       "      <td>0</td>\n",
       "      <td>0.258529</td>\n",
       "      <td>0.280107</td>\n",
       "      <td>0.021578</td>\n",
       "      <td>75.402884</td>\n",
       "      <td>0.227126</td>\n",
       "      <td>3.678050e+03</td>\n",
       "      <td>0.016429</td>\n",
       "      <td>0.311694</td>\n",
       "      <td>0.215676</td>\n",
       "      <td>98.360656</td>\n",
       "      <td>0.050</td>\n",
       "      <td>NaN</td>\n",
       "    </tr>\n",
       "    <tr>\n",
       "      <th>2011-01-04</th>\n",
       "      <td>0.2999</td>\n",
       "      <td>0.289</td>\n",
       "      <td>0.2950</td>\n",
       "      <td>1879.00</td>\n",
       "      <td>5.483300e+02</td>\n",
       "      <td>0.2989</td>\n",
       "      <td>NaN</td>\n",
       "      <td>-0.016667</td>\n",
       "      <td>0.013220</td>\n",
       "      <td>1</td>\n",
       "      <td>0.261230</td>\n",
       "      <td>0.282398</td>\n",
       "      <td>0.021168</td>\n",
       "      <td>64.583333</td>\n",
       "      <td>0.317246</td>\n",
       "      <td>3.129720e+03</td>\n",
       "      <td>0.015286</td>\n",
       "      <td>0.315355</td>\n",
       "      <td>0.216845</td>\n",
       "      <td>90.163934</td>\n",
       "      <td>0.047</td>\n",
       "      <td>NaN</td>\n",
       "    </tr>\n",
       "    <tr>\n",
       "      <th>2011-01-05</th>\n",
       "      <td>0.2990</td>\n",
       "      <td>0.290</td>\n",
       "      <td>0.2989</td>\n",
       "      <td>357.16</td>\n",
       "      <td>1.061900e+02</td>\n",
       "      <td>0.2990</td>\n",
       "      <td>NaN</td>\n",
       "      <td>0.013220</td>\n",
       "      <td>0.000335</td>\n",
       "      <td>1</td>\n",
       "      <td>0.264021</td>\n",
       "      <td>0.284937</td>\n",
       "      <td>0.020916</td>\n",
       "      <td>90.397805</td>\n",
       "      <td>0.063656</td>\n",
       "      <td>3.235910e+03</td>\n",
       "      <td>0.014000</td>\n",
       "      <td>0.318771</td>\n",
       "      <td>0.219319</td>\n",
       "      <td>96.500000</td>\n",
       "      <td>0.049</td>\n",
       "      <td>NaN</td>\n",
       "    </tr>\n",
       "    <tr>\n",
       "      <th>...</th>\n",
       "      <td>...</td>\n",
       "      <td>...</td>\n",
       "      <td>...</td>\n",
       "      <td>...</td>\n",
       "      <td>...</td>\n",
       "      <td>...</td>\n",
       "      <td>...</td>\n",
       "      <td>...</td>\n",
       "      <td>...</td>\n",
       "      <td>...</td>\n",
       "      <td>...</td>\n",
       "      <td>...</td>\n",
       "      <td>...</td>\n",
       "      <td>...</td>\n",
       "      <td>...</td>\n",
       "      <td>...</td>\n",
       "      <td>...</td>\n",
       "      <td>...</td>\n",
       "      <td>...</td>\n",
       "      <td>...</td>\n",
       "      <td>...</td>\n",
       "      <td>...</td>\n",
       "    </tr>\n",
       "    <tr>\n",
       "      <th>2023-11-09</th>\n",
       "      <td>37990.5100</td>\n",
       "      <td>35557.780</td>\n",
       "      <td>35638.3300</td>\n",
       "      <td>62530.57</td>\n",
       "      <td>2.296501e+09</td>\n",
       "      <td>36704.1400</td>\n",
       "      <td>6.991875e+11</td>\n",
       "      <td>0.006111</td>\n",
       "      <td>0.029906</td>\n",
       "      <td>1</td>\n",
       "      <td>32977.256229</td>\n",
       "      <td>34652.480366</td>\n",
       "      <td>1675.224137</td>\n",
       "      <td>64.490306</td>\n",
       "      <td>2.574816</td>\n",
       "      <td>2.773654e+10</td>\n",
       "      <td>1116.338571</td>\n",
       "      <td>37608.902641</td>\n",
       "      <td>30223.386359</td>\n",
       "      <td>48.691426</td>\n",
       "      <td>1102.950</td>\n",
       "      <td>6.246347e+13</td>\n",
       "    </tr>\n",
       "    <tr>\n",
       "      <th>2023-11-10</th>\n",
       "      <td>37536.4400</td>\n",
       "      <td>36342.270</td>\n",
       "      <td>36704.1400</td>\n",
       "      <td>32545.30</td>\n",
       "      <td>1.206041e+09</td>\n",
       "      <td>37321.5100</td>\n",
       "      <td>7.170221e+11</td>\n",
       "      <td>0.029906</td>\n",
       "      <td>0.016820</td>\n",
       "      <td>1</td>\n",
       "      <td>33253.321693</td>\n",
       "      <td>34968.120310</td>\n",
       "      <td>1714.798617</td>\n",
       "      <td>77.472798</td>\n",
       "      <td>1.334946</td>\n",
       "      <td>2.894258e+10</td>\n",
       "      <td>1173.541429</td>\n",
       "      <td>37581.355707</td>\n",
       "      <td>30952.910293</td>\n",
       "      <td>68.735235</td>\n",
       "      <td>2209.580</td>\n",
       "      <td>6.246347e+13</td>\n",
       "    </tr>\n",
       "    <tr>\n",
       "      <th>2023-11-11</th>\n",
       "      <td>37417.2900</td>\n",
       "      <td>36701.830</td>\n",
       "      <td>37321.5100</td>\n",
       "      <td>14920.50</td>\n",
       "      <td>5.532155e+08</td>\n",
       "      <td>37142.2200</td>\n",
       "      <td>7.307607e+11</td>\n",
       "      <td>0.016820</td>\n",
       "      <td>-0.004804</td>\n",
       "      <td>0</td>\n",
       "      <td>33554.668975</td>\n",
       "      <td>35330.180262</td>\n",
       "      <td>1775.511287</td>\n",
       "      <td>84.113197</td>\n",
       "      <td>0.603681</td>\n",
       "      <td>2.949580e+10</td>\n",
       "      <td>1180.479286</td>\n",
       "      <td>37535.474284</td>\n",
       "      <td>31738.534716</td>\n",
       "      <td>83.451695</td>\n",
       "      <td>2663.780</td>\n",
       "      <td>6.246347e+13</td>\n",
       "    </tr>\n",
       "    <tr>\n",
       "      <th>2023-11-12</th>\n",
       "      <td>37233.4500</td>\n",
       "      <td>36747.050</td>\n",
       "      <td>37142.2200</td>\n",
       "      <td>9320.87</td>\n",
       "      <td>3.455680e+08</td>\n",
       "      <td>37079.7600</td>\n",
       "      <td>7.203239e+11</td>\n",
       "      <td>-0.004804</td>\n",
       "      <td>-0.001682</td>\n",
       "      <td>0</td>\n",
       "      <td>33820.413496</td>\n",
       "      <td>35608.955606</td>\n",
       "      <td>1788.542111</td>\n",
       "      <td>80.518099</td>\n",
       "      <td>0.380771</td>\n",
       "      <td>2.915023e+10</td>\n",
       "      <td>1160.555714</td>\n",
       "      <td>37153.159459</td>\n",
       "      <td>32834.927541</td>\n",
       "      <td>78.426595</td>\n",
       "      <td>1702.460</td>\n",
       "      <td>6.246347e+13</td>\n",
       "    </tr>\n",
       "    <tr>\n",
       "      <th>2023-11-13</th>\n",
       "      <td>37429.5200</td>\n",
       "      <td>36564.960</td>\n",
       "      <td>37079.7600</td>\n",
       "      <td>13104.68</td>\n",
       "      <td>4.843491e+08</td>\n",
       "      <td>36757.0800</td>\n",
       "      <td>7.250169e+11</td>\n",
       "      <td>-0.001682</td>\n",
       "      <td>-0.008702</td>\n",
       "      <td>0</td>\n",
       "      <td>34061.846570</td>\n",
       "      <td>35835.233205</td>\n",
       "      <td>1773.386635</td>\n",
       "      <td>77.550176</td>\n",
       "      <td>0.548417</td>\n",
       "      <td>2.866588e+10</td>\n",
       "      <td>1167.162143</td>\n",
       "      <td>37348.257111</td>\n",
       "      <td>33039.397889</td>\n",
       "      <td>76.838135</td>\n",
       "      <td>2132.610</td>\n",
       "      <td>6.467859e+13</td>\n",
       "    </tr>\n",
       "  </tbody>\n",
       "</table>\n",
       "<p>4700 rows × 22 columns</p>\n",
       "</div>"
      ],
      "text/plain": [
       "                  high        low        open  volumefrom      volumeto  \\\n",
       "2011-01-01      0.3000      0.292      0.3000     2821.24  8.419500e+02   \n",
       "2011-01-02      0.3000      0.289      0.3000     5352.11  1.584660e+03   \n",
       "2011-01-03      0.3000      0.290      0.3000     1425.19  4.208500e+02   \n",
       "2011-01-04      0.2999      0.289      0.2950     1879.00  5.483300e+02   \n",
       "2011-01-05      0.2990      0.290      0.2989      357.16  1.061900e+02   \n",
       "...                ...        ...         ...         ...           ...   \n",
       "2023-11-09  37990.5100  35557.780  35638.3300    62530.57  2.296501e+09   \n",
       "2023-11-10  37536.4400  36342.270  36704.1400    32545.30  1.206041e+09   \n",
       "2023-11-11  37417.2900  36701.830  37321.5100    14920.50  5.532155e+08   \n",
       "2023-11-12  37233.4500  36747.050  37142.2200     9320.87  3.455680e+08   \n",
       "2023-11-13  37429.5200  36564.960  37079.7600    13104.68  4.843491e+08   \n",
       "\n",
       "                 close    market_cap  progression daily  progression tomorrow  \\\n",
       "2011-01-01      0.3000           NaN           0.000000              0.000000   \n",
       "2011-01-02      0.3000           NaN           0.000000              0.000000   \n",
       "2011-01-03      0.2950           NaN           0.000000             -0.016667   \n",
       "2011-01-04      0.2989           NaN          -0.016667              0.013220   \n",
       "2011-01-05      0.2990           NaN           0.013220              0.000335   \n",
       "...                ...           ...                ...                   ...   \n",
       "2023-11-09  36704.1400  6.991875e+11           0.006111              0.029906   \n",
       "2023-11-10  37321.5100  7.170221e+11           0.029906              0.016820   \n",
       "2023-11-11  37142.2200  7.307607e+11           0.016820             -0.004804   \n",
       "2023-11-12  37079.7600  7.203239e+11          -0.004804             -0.001682   \n",
       "2023-11-13  36757.0800  7.250169e+11          -0.001682             -0.008702   \n",
       "\n",
       "            target        ema_26        ema_12         macd        rsi  \\\n",
       "2011-01-01       0      0.251628      0.272215     0.020587  75.041736   \n",
       "2011-01-02       0      0.255211      0.276490     0.021279  74.831650   \n",
       "2011-01-03       0      0.258529      0.280107     0.021578  75.402884   \n",
       "2011-01-04       1      0.261230      0.282398     0.021168  64.583333   \n",
       "2011-01-05       1      0.264021      0.284937     0.020916  90.397805   \n",
       "...            ...           ...           ...          ...        ...   \n",
       "2023-11-09       1  32977.256229  34652.480366  1675.224137  64.490306   \n",
       "2023-11-10       1  33253.321693  34968.120310  1714.798617  77.472798   \n",
       "2023-11-11       0  33554.668975  35330.180262  1775.511287  84.113197   \n",
       "2023-11-12       0  33820.413496  35608.955606  1788.542111  80.518099   \n",
       "2023-11-13       0  34061.846570  35835.233205  1773.386635  77.550176   \n",
       "\n",
       "            relative_volume           obv          atr  bollinger_upper  \\\n",
       "2011-01-01         0.433468  5.683560e+03     0.018136         0.302597   \n",
       "2011-01-02         0.784203  4.098900e+03     0.018214         0.307253   \n",
       "2011-01-03         0.227126  3.678050e+03     0.016429         0.311694   \n",
       "2011-01-04         0.317246  3.129720e+03     0.015286         0.315355   \n",
       "2011-01-05         0.063656  3.235910e+03     0.014000         0.318771   \n",
       "...                     ...           ...          ...              ...   \n",
       "2023-11-09         2.574816  2.773654e+10  1116.338571     37608.902641   \n",
       "2023-11-10         1.334946  2.894258e+10  1173.541429     37581.355707   \n",
       "2023-11-11         0.603681  2.949580e+10  1180.479286     37535.474284   \n",
       "2023-11-12         0.380771  2.915023e+10  1160.555714     37153.159459   \n",
       "2023-11-13         0.548417  2.866588e+10  1167.162143     37348.257111   \n",
       "\n",
       "            bollinger_lower          k  momentum    difficulty  \n",
       "2011-01-01         0.209763  98.360656     0.060           NaN  \n",
       "2011-01-02         0.213107  98.360656     0.050           NaN  \n",
       "2011-01-03         0.215676  98.360656     0.050           NaN  \n",
       "2011-01-04         0.216845  90.163934     0.047           NaN  \n",
       "2011-01-05         0.219319  96.500000     0.049           NaN  \n",
       "...                     ...        ...       ...           ...  \n",
       "2023-11-09     30223.386359  48.691426  1102.950  6.246347e+13  \n",
       "2023-11-10     30952.910293  68.735235  2209.580  6.246347e+13  \n",
       "2023-11-11     31738.534716  83.451695  2663.780  6.246347e+13  \n",
       "2023-11-12     32834.927541  78.426595  1702.460  6.246347e+13  \n",
       "2023-11-13     33039.397889  76.838135  2132.610  6.467859e+13  \n",
       "\n",
       "[4700 rows x 22 columns]"
      ]
     },
     "execution_count": 33,
     "metadata": {},
     "output_type": "execute_result"
    }
   ],
   "source": [
    "data"
   ]
  },
  {
   "cell_type": "code",
   "execution_count": null,
   "metadata": {},
   "outputs": [],
   "source": []
  },
  {
   "cell_type": "code",
   "execution_count": 34,
   "metadata": {},
   "outputs": [
    {
     "data": {
      "text/plain": [
       "count     4700.000000\n",
       "mean     10147.255867\n",
       "std      14910.056836\n",
       "min          0.295000\n",
       "25%        238.517500\n",
       "50%       2334.155000\n",
       "75%      11869.932500\n",
       "max      67549.140000\n",
       "Name: open, dtype: float64"
      ]
     },
     "execution_count": 34,
     "metadata": {},
     "output_type": "execute_result"
    }
   ],
   "source": [
    "data['open'].describe()"
   ]
  },
  {
   "cell_type": "code",
   "execution_count": null,
   "metadata": {},
   "outputs": [],
   "source": []
  },
  {
   "cell_type": "code",
   "execution_count": null,
   "metadata": {},
   "outputs": [],
   "source": []
  },
  {
   "cell_type": "code",
   "execution_count": 35,
   "metadata": {},
   "outputs": [],
   "source": [
    "# Sélectionner les caractéristiques et exclure la dernière ligne\n",
    "features = data.drop(columns=['progression tomorrow', 'target', 'close', 'high', 'low', 'volumefrom', 'market_cap', 'difficulty']).iloc[:-1, :]\n",
    "target = data['target'].iloc[:-1]"
   ]
  },
  {
   "cell_type": "code",
   "execution_count": 36,
   "metadata": {},
   "outputs": [],
   "source": [
    "# Définir la taille de la fenêtre initiale\n",
    "window_size = 1000"
   ]
  },
  {
   "cell_type": "code",
   "execution_count": 7,
   "metadata": {},
   "outputs": [
    {
     "data": {
      "text/plain": [
       "\"  \\n# Initialiser les listes pour stocker les prédictions et les vraies valeurs\\npredictions = []\\nactuals = []\\n\\n# Boucle à travers les données de la taille de la fenêtre jusqu'à la fin des données\\nfor i in range(window_size, len(data) - 1):\\n    # Diviser les données en ensembles d'entraînement et de test\\n    X_train = features.iloc[i-window_size:i, :]\\n    y_train = target.iloc[i-window_size:i]\\n    X_test = features.iloc[i:i+1, :]\\n    y_test = target.iloc[i]\\n\\n    #Normaliser les données\\n    scaler = StandardScaler()\\n    X_train_train = scaler.fit_transform(X_train)\\n    X_test = scaler.transform(X_test)\\n    \\n    # Entraîner un modèle\\n    model = RandomForestClassifier()\\n    model.fit(X_train, y_train)\\n    \\n    # Faire une prédiction\\n    prediction = model.predict(X_test)[0]\\n    \\n    # Stocker les prédictions et les vraies valeurs\\n    predictions.append(prediction)\\n    actuals.append(y_test)\\n\\n# Évaluer le modèle\\naccuracy = accuracy_score(actuals, predictions)\\nprint(f'Model Accuracy: {accuracy * 100:.2f}%')\""
      ]
     },
     "execution_count": 7,
     "metadata": {},
     "output_type": "execute_result"
    }
   ],
   "source": [
    "#Test avec RandomForest\n",
    "\n",
    "\"\"\"  \n",
    "# Initialiser les listes pour stocker les prédictions et les vraies valeurs\n",
    "predictions = []\n",
    "actuals = []\n",
    "\n",
    "# Boucle à travers les données de la taille de la fenêtre jusqu'à la fin des données\n",
    "for i in range(window_size, len(data) - 1):\n",
    "    # Diviser les données en ensembles d'entraînement et de test\n",
    "    X_train = features.iloc[i-window_size:i, :]\n",
    "    y_train = target.iloc[i-window_size:i]\n",
    "    X_test = features.iloc[i:i+1, :]\n",
    "    y_test = target.iloc[i]\n",
    "\n",
    "    #Normaliser les données\n",
    "    scaler = StandardScaler()\n",
    "    X_train_train = scaler.fit_transform(X_train)\n",
    "    X_test = scaler.transform(X_test)\n",
    "    \n",
    "    # Entraîner un modèle\n",
    "    model = RandomForestClassifier()\n",
    "    model.fit(X_train, y_train)\n",
    "    \n",
    "    # Faire une prédiction\n",
    "    prediction = model.predict(X_test)[0]\n",
    "    \n",
    "    # Stocker les prédictions et les vraies valeurs\n",
    "    predictions.append(prediction)\n",
    "    actuals.append(y_test)\n",
    "\n",
    "# Évaluer le modèle\n",
    "accuracy = accuracy_score(actuals, predictions)\n",
    "print(f'Model Accuracy: {accuracy * 100:.2f}%')\"\"\"\n"
   ]
  },
  {
   "cell_type": "code",
   "execution_count": 8,
   "metadata": {},
   "outputs": [],
   "source": [
    "def train_model(data, model, features, target, window_size):\n",
    "      \n",
    "      # Initialiser les listes pour stocker les prédictions et les vraies valeurs\n",
    "      predictions = []\n",
    "      actuals = []\n",
    "\n",
    "      # Boucle à travers les données de la taille de la fenêtre jusqu'à la fin des données\n",
    "      for i in range(window_size, len(data) - 1):\n",
    "            # Diviser les données en ensembles d'entraînement et de test\n",
    "            X_train = features.iloc[i-window_size:i, :]\n",
    "            y_train = target.iloc[i-window_size:i]\n",
    "            X_test = features.iloc[i:i+1, :]\n",
    "            y_test = target.iloc[i]\n",
    "\n",
    "            #Normaliser les données\n",
    "            scaler = StandardScaler()\n",
    "            X_train = scaler.fit_transform(X_train)\n",
    "            X_test = scaler.transform(X_test)\n",
    "            \n",
    "            # Entraîner un modèle\n",
    "            model.fit(X_train, y_train)\n",
    "            \n",
    "            # Faire une prédiction\n",
    "            prediction = model.predict(X_test)[0]\n",
    "            \n",
    "            # Stocker les prédictions et les vraies valeurs\n",
    "            predictions.append(prediction)\n",
    "            actuals.append(y_test)\n",
    "\n",
    "      # Évaluer le modèle\n",
    "      accuracy = accuracy_score(actuals, predictions)\n",
    "      print(f'Model Accuracy: {accuracy * 100:.2f}%')"
   ]
  },
  {
   "cell_type": "code",
   "execution_count": 9,
   "metadata": {},
   "outputs": [],
   "source": [
    "def train_model_f1(data, model, features, target, window_size):\n",
    "      \n",
    "      # Initialiser les listes pour stocker les prédictions et les vraies valeurs\n",
    "      predictions = []\n",
    "      actuals = []\n",
    "\n",
    "      # Boucle à travers les données de la taille de la fenêtre jusqu'à la fin des données\n",
    "      for i in range(window_size, len(data) - 1):\n",
    "            # Diviser les données en ensembles d'entraînement et de test\n",
    "            X_train = features.iloc[i-window_size:i, :]\n",
    "            y_train = target.iloc[i-window_size:i]\n",
    "            X_test = features.iloc[i:i+1, :]\n",
    "            y_test = target.iloc[i]\n",
    "\n",
    "            #Normaliser les données\n",
    "            scaler = StandardScaler()\n",
    "            X_train = scaler.fit_transform(X_train)\n",
    "            X_test = scaler.transform(X_test)\n",
    "            \n",
    "            # Entraîner un modèle\n",
    "            model.fit(X_train, y_train)\n",
    "            \n",
    "            # Faire une prédiction\n",
    "            prediction = model.predict(X_test)[0]\n",
    "            \n",
    "            # Stocker les prédictions et les vraies valeurs\n",
    "            predictions.append(prediction)\n",
    "            actuals.append(y_test)\n",
    "\n",
    "      # Évaluer le modèle\n",
    "      score = f1_score(actuals, predictions)\n",
    "      print(f'Model Accuracy: {score * 100:.2f}%')"
   ]
  },
  {
   "cell_type": "code",
   "execution_count": 10,
   "metadata": {},
   "outputs": [
    {
     "name": "stdout",
     "output_type": "stream",
     "text": [
      "Model Accuracy: 52.23%\n"
     ]
    }
   ],
   "source": [
    "dummy_model = DummyClassifier(strategy=\"most_frequent\")\n",
    "train_model(data, dummy_model, features, target, window_size)"
   ]
  },
  {
   "cell_type": "code",
   "execution_count": 10,
   "metadata": {},
   "outputs": [
    {
     "data": {
      "text/plain": [
       "'from sklearn.linear_model import LogisticRegression\\nlogistic_regression = LogisticRegression()\\ntrain_model(data, logistic_regression, features, target, window_size)'"
      ]
     },
     "execution_count": 10,
     "metadata": {},
     "output_type": "execute_result"
    }
   ],
   "source": [
    "\"\"\"from sklearn.linear_model import LogisticRegression\n",
    "logistic_regression = LogisticRegression()\n",
    "train_model(data, logistic_regression, features, target, window_size)\"\"\""
   ]
  },
  {
   "cell_type": "code",
   "execution_count": 11,
   "metadata": {},
   "outputs": [
    {
     "data": {
      "text/plain": [
       "\"xgboost = XGBClassifier(use_label_encoder=False, eval_metric='logloss')\\ntrain_model(data, xgboost, features, target, window_size)\""
      ]
     },
     "execution_count": 11,
     "metadata": {},
     "output_type": "execute_result"
    }
   ],
   "source": [
    "\"\"\"xgboost = XGBClassifier(use_label_encoder=False, eval_metric='logloss')\n",
    "train_model(data, xgboost, features, target, window_size)\"\"\""
   ]
  },
  {
   "cell_type": "code",
   "execution_count": null,
   "metadata": {},
   "outputs": [],
   "source": []
  },
  {
   "cell_type": "code",
   "execution_count": 37,
   "metadata": {},
   "outputs": [],
   "source": [
    "def plot_feature_importance(model, feature_names):\n",
    "    # Récupérer les coefficients du modèle\n",
    "    coefficients = model.coef_[0]\n",
    "    \n",
    "    # Créer un DataFrame pour stocker les caractéristiques et leurs importances\n",
    "    feature_importance = pd.DataFrame({\n",
    "        'Feature': feature_names,\n",
    "        'Importance': coefficients\n",
    "    })\n",
    "    \n",
    "    # Trier le DataFrame en fonction de l'importance\n",
    "    feature_importance = feature_importance.sort_values(by='Importance', key=abs, ascending=False)\n",
    "    \n",
    "    # Visualiser l'importance des caractéristiques\n",
    "    plt.figure(figsize=(10, 6))\n",
    "    plt.barh(feature_importance['Feature'], feature_importance['Importance'])\n",
    "    plt.xlabel('Coefficient Value')\n",
    "    plt.ylabel('Feature')\n",
    "    plt.title('Feature Importance for Logistic Regression')\n",
    "    plt.gca().invert_yaxis()  # Pour afficher la caractéristique la plus importante en haut\n",
    "    plt.show()"
   ]
  },
  {
   "cell_type": "code",
   "execution_count": 38,
   "metadata": {},
   "outputs": [],
   "source": [
    "def plot_feature_importance_xgb(model, feature_names):\n",
    "    # Récupérer les importances des caractéristiques du modèle XGBoost\n",
    "    importances = model.feature_importances_\n",
    "    \n",
    "    # Créer un DataFrame pour stocker les caractéristiques et leurs importances\n",
    "    feature_importance = pd.DataFrame({\n",
    "        'Feature': feature_names,\n",
    "        'Importance': importances\n",
    "    })\n",
    "    \n",
    "    # Trier le DataFrame en fonction de l'importance\n",
    "    feature_importance = feature_importance.sort_values(by='Importance', ascending=False)\n",
    "    \n",
    "    # Visualiser l'importance des caractéristiques\n",
    "    plt.figure(figsize=(10, 6))\n",
    "    plt.barh(feature_importance['Feature'], feature_importance['Importance'])\n",
    "    plt.xlabel('Importance Score')\n",
    "    plt.ylabel('Feature')\n",
    "    plt.title('Feature Importance for XGBoost')\n",
    "    plt.gca().invert_yaxis()  # Pour afficher la caractéristique la plus importante en haut\n",
    "    plt.show()"
   ]
  },
  {
   "cell_type": "code",
   "execution_count": 14,
   "metadata": {},
   "outputs": [
    {
     "data": {
      "text/plain": [
       "'plot_feature_importance(logistic_regression, features.columns)'"
      ]
     },
     "execution_count": 14,
     "metadata": {},
     "output_type": "execute_result"
    }
   ],
   "source": [
    "\"\"\"plot_feature_importance(logistic_regression, features.columns)\"\"\""
   ]
  },
  {
   "cell_type": "code",
   "execution_count": null,
   "metadata": {},
   "outputs": [],
   "source": []
  },
  {
   "cell_type": "code",
   "execution_count": null,
   "metadata": {},
   "outputs": [],
   "source": []
  },
  {
   "cell_type": "code",
   "execution_count": 39,
   "metadata": {},
   "outputs": [],
   "source": [
    "def earn_metric(predicted_probs, progressions, n_days, i):\n",
    "      base = c = 1\n",
    "      for j in range(n_days):\n",
    "            index = len(predicted_probs) - n_days + j\n",
    "            c *= predicted_probs[index] * progressions[index] + (1 - predicted_probs[index])\n",
    "            base *= progressions[index]\n",
    "      return c / base\n",
    "\n",
    "\n",
    "def train_model_proba_metric(data, model, features, target, window_size, n_days):\n",
    "      \n",
    "    # Initialiser les listes pour stocker les probaabilités prédites et les vraies valeurs\n",
    "    predicted_probs = []\n",
    "    progressions = []\n",
    "    metric = []\n",
    "\n",
    "    # Boucle à travers les données de la taille de la fenêtre jusqu'à la fin des données\n",
    "    for i in range(window_size, len(data) - 1):\n",
    "        # Diviser les données en ensembles d'entraînement et de test\n",
    "        X_train = features.iloc[i-window_size:i, :]\n",
    "        y_train = target.iloc[i-window_size:i]\n",
    "        X_test = features.iloc[i:i+1, :]\n",
    "        y_test = target.iloc[i]\n",
    "\n",
    "        # Normaliser les données\n",
    "        scaler = StandardScaler()\n",
    "        X_train = scaler.fit_transform(X_train)\n",
    "        X_test = scaler.transform(X_test)\n",
    "        \n",
    "        # Entraîner un modèle\n",
    "        model.fit(X_train, y_train)\n",
    "        \n",
    "        # Obtenir les probabilités prédites pour la classe positive (par exemple, 1)\n",
    "        prediction_prob = model.predict_proba(X_test)[:, 1]\n",
    "        \n",
    "        # Stocker les probabilités prédites et les vraies valeurs\n",
    "        predicted_probs.extend(prediction_prob)\n",
    "        \n",
    "        # Récupérer la progression réelle\n",
    "        progressions.append(data.iloc[i]['progression tomorrow']+1)\n",
    "\n",
    "        if i >= window_size + n_days:\n",
    "            metric.append(earn_metric(predicted_probs, progressions, n_days, i))\n",
    "    \n",
    "    return np.mean(metric) "
   ]
  },
  {
   "cell_type": "code",
   "execution_count": 16,
   "metadata": {},
   "outputs": [
    {
     "data": {
      "text/plain": [
       "'train_model_proba_metric(data, xgboost, features, target, window_size, n_days)'"
      ]
     },
     "execution_count": 16,
     "metadata": {},
     "output_type": "execute_result"
    }
   ],
   "source": [
    "n_days = 31\n",
    "\n",
    "\"\"\"train_model_proba_metric(data, xgboost, features, target, window_size, n_days)\"\"\""
   ]
  },
  {
   "cell_type": "code",
   "execution_count": null,
   "metadata": {},
   "outputs": [],
   "source": []
  },
  {
   "cell_type": "code",
   "execution_count": null,
   "metadata": {},
   "outputs": [],
   "source": []
  },
  {
   "cell_type": "code",
   "execution_count": null,
   "metadata": {},
   "outputs": [],
   "source": []
  },
  {
   "cell_type": "code",
   "execution_count": null,
   "metadata": {},
   "outputs": [],
   "source": []
  },
  {
   "cell_type": "code",
   "execution_count": null,
   "metadata": {},
   "outputs": [],
   "source": []
  },
  {
   "cell_type": "code",
   "execution_count": 17,
   "metadata": {},
   "outputs": [],
   "source": [
    "def train_model_grid(data, model, features, target, window_size):\n",
    "      \n",
    "      # Initialiser les listes pour stocker les prédictions et les vraies valeurs\n",
    "      predictions = []\n",
    "      actuals = []\n",
    "\n",
    "      # Boucle à travers les données de la taille de la fenêtre jusqu'à la fin des données\n",
    "      for i in range(window_size, len(data) - 1):\n",
    "            # Diviser les données en ensembles d'entraînement et de test\n",
    "            X_train = features.iloc[i-window_size:i, :]\n",
    "            y_train = target.iloc[i-window_size:i]\n",
    "            X_test = features.iloc[i:i+1, :]\n",
    "            y_test = target.iloc[i]\n",
    "\n",
    "            #Normaliser les données\n",
    "            scaler = StandardScaler()\n",
    "            X_train = scaler.fit_transform(X_train)\n",
    "            X_test = scaler.transform(X_test)\n",
    "            \n",
    "            # Entraîner un modèle\n",
    "            model.fit(X_train, y_train)\n",
    "            \n",
    "            # Faire une prédiction\n",
    "            prediction = model.predict(X_test)[0]\n",
    "            \n",
    "            # Stocker les prédictions et les vraies valeurs\n",
    "            predictions.append(prediction)\n",
    "            actuals.append(y_test)\n",
    "\n",
    "      # Évaluer le modèle\n",
    "      accuracy = accuracy_score(actuals, predictions)\n",
    "      return accuracy"
   ]
  },
  {
   "cell_type": "code",
   "execution_count": null,
   "metadata": {},
   "outputs": [],
   "source": []
  },
  {
   "cell_type": "code",
   "execution_count": 18,
   "metadata": {},
   "outputs": [],
   "source": [
    "# Sélectionner les caractéristiques et exclure la dernière ligne\n",
    "features = data.drop(columns=['progression tomorrow', 'target', 'close', 'high', 'low', 'volumefrom', 'market_cap', 'difficulty']).iloc[:-1, :]\n",
    "target = data['target'].iloc[:-1]"
   ]
  },
  {
   "cell_type": "code",
   "execution_count": null,
   "metadata": {},
   "outputs": [],
   "source": []
  },
  {
   "cell_type": "code",
   "execution_count": 21,
   "metadata": {},
   "outputs": [],
   "source": [
    "# Définir la grille de paramètres\n",
    "param_grid = {\n",
    "    'penalty': ['l1', 'l2'],\n",
    "    'C': [0.01, 0.1, 1, 10],\n",
    "    'solver': ['lbfgs', 'liblinear'],\n",
    "    'max_iter': [200],\n",
    "    'fit_intercept': [True],\n",
    "    'class_weight': [None, 'balanced']\n",
    "}"
   ]
  },
  {
   "cell_type": "code",
   "execution_count": null,
   "metadata": {},
   "outputs": [],
   "source": []
  },
  {
   "cell_type": "code",
   "execution_count": 32,
   "metadata": {},
   "outputs": [
    {
     "name": "stdout",
     "output_type": "stream",
     "text": [
      "Nouveaux meilleurs paramètres trouvés : {'C': 0.01, 'class_weight': None, 'fit_intercept': True, 'max_iter': 200, 'penalty': 'l1', 'solver': 'liblinear'}, accuracy : 0.47766884531590414\n",
      "Nouveaux meilleurs paramètres trouvés : {'C': 0.01, 'class_weight': None, 'fit_intercept': True, 'max_iter': 200, 'penalty': 'l2', 'solver': 'lbfgs'}, accuracy : 0.5634531590413944\n",
      "Trop nul mdr : {'C': 0.01, 'class_weight': None, 'fit_intercept': True, 'max_iter': 200, 'penalty': 'l2', 'solver': 'liblinear'}, accuracy : 0.5620915032679739\"\n",
      "Trop nul mdr : {'C': 0.01, 'class_weight': 'balanced', 'fit_intercept': True, 'max_iter': 200, 'penalty': 'l1', 'solver': 'liblinear'}, accuracy : 0.47766884531590414\"\n",
      "Trop nul mdr : {'C': 0.01, 'class_weight': 'balanced', 'fit_intercept': True, 'max_iter': 200, 'penalty': 'l2', 'solver': 'lbfgs'}, accuracy : 0.5533769063180828\"\n",
      "Trop nul mdr : {'C': 0.01, 'class_weight': 'balanced', 'fit_intercept': True, 'max_iter': 200, 'penalty': 'l2', 'solver': 'liblinear'}, accuracy : 0.553921568627451\"\n",
      "Nouveaux meilleurs paramètres trouvés : {'C': 0.1, 'class_weight': None, 'fit_intercept': True, 'max_iter': 200, 'penalty': 'l1', 'solver': 'liblinear'}, accuracy : 0.5686274509803921\n",
      "Trop nul mdr : {'C': 0.1, 'class_weight': None, 'fit_intercept': True, 'max_iter': 200, 'penalty': 'l2', 'solver': 'lbfgs'}, accuracy : 0.5669934640522876\"\n",
      "Trop nul mdr : {'C': 0.1, 'class_weight': None, 'fit_intercept': True, 'max_iter': 200, 'penalty': 'l2', 'solver': 'liblinear'}, accuracy : 0.5664488017429193\"\n",
      "Trop nul mdr : {'C': 0.1, 'class_weight': 'balanced', 'fit_intercept': True, 'max_iter': 200, 'penalty': 'l1', 'solver': 'liblinear'}, accuracy : 0.5612745098039216\"\n",
      "Trop nul mdr : {'C': 0.1, 'class_weight': 'balanced', 'fit_intercept': True, 'max_iter': 200, 'penalty': 'l2', 'solver': 'lbfgs'}, accuracy : 0.5612745098039216\"\n",
      "Trop nul mdr : {'C': 0.1, 'class_weight': 'balanced', 'fit_intercept': True, 'max_iter': 200, 'penalty': 'l2', 'solver': 'liblinear'}, accuracy : 0.5612745098039216\"\n",
      "Nouveaux meilleurs paramètres trouvés : {'C': 1, 'class_weight': None, 'fit_intercept': True, 'max_iter': 200, 'penalty': 'l1', 'solver': 'liblinear'}, accuracy : 0.5697167755991286\n",
      "Trop nul mdr : {'C': 1, 'class_weight': None, 'fit_intercept': True, 'max_iter': 200, 'penalty': 'l2', 'solver': 'lbfgs'}, accuracy : 0.5626361655773421\"\n",
      "Trop nul mdr : {'C': 1, 'class_weight': None, 'fit_intercept': True, 'max_iter': 200, 'penalty': 'l2', 'solver': 'liblinear'}, accuracy : 0.5623638344226579\"\n",
      "Trop nul mdr : {'C': 1, 'class_weight': 'balanced', 'fit_intercept': True, 'max_iter': 200, 'penalty': 'l1', 'solver': 'liblinear'}, accuracy : 0.5639978213507625\"\n",
      "Trop nul mdr : {'C': 1, 'class_weight': 'balanced', 'fit_intercept': True, 'max_iter': 200, 'penalty': 'l2', 'solver': 'lbfgs'}, accuracy : 0.5620915032679739\"\n",
      "Trop nul mdr : {'C': 1, 'class_weight': 'balanced', 'fit_intercept': True, 'max_iter': 200, 'penalty': 'l2', 'solver': 'liblinear'}, accuracy : 0.5620915032679739\"\n",
      "Trop nul mdr : {'C': 10, 'class_weight': None, 'fit_intercept': True, 'max_iter': 200, 'penalty': 'l1', 'solver': 'liblinear'}, accuracy : 0.5634531590413944\"\n",
      "Trop nul mdr : {'C': 10, 'class_weight': None, 'fit_intercept': True, 'max_iter': 200, 'penalty': 'l2', 'solver': 'lbfgs'}, accuracy : 0.5642701525054467\"\n",
      "Trop nul mdr : {'C': 10, 'class_weight': None, 'fit_intercept': True, 'max_iter': 200, 'penalty': 'l2', 'solver': 'liblinear'}, accuracy : 0.5642701525054467\"\n",
      "Trop nul mdr : {'C': 10, 'class_weight': 'balanced', 'fit_intercept': True, 'max_iter': 200, 'penalty': 'l1', 'solver': 'liblinear'}, accuracy : 0.5541938997821351\"\n",
      "Trop nul mdr : {'C': 10, 'class_weight': 'balanced', 'fit_intercept': True, 'max_iter': 200, 'penalty': 'l2', 'solver': 'lbfgs'}, accuracy : 0.5558278867102396\"\n",
      "Trop nul mdr : {'C': 10, 'class_weight': 'balanced', 'fit_intercept': True, 'max_iter': 200, 'penalty': 'l2', 'solver': 'liblinear'}, accuracy : 0.5561002178649237\"\n",
      "Best Model Accuracy: 56.97%\n",
      "Best Parameters: {'C': 1, 'class_weight': None, 'fit_intercept': True, 'max_iter': 200, 'penalty': 'l1', 'solver': 'liblinear'}\n"
     ]
    }
   ],
   "source": [
    "from sklearn.model_selection import ParameterGrid\n",
    "from sklearn.linear_model import LogisticRegression\n",
    "from sklearn.preprocessing import StandardScaler\n",
    "from sklearn.metrics import accuracy_score\n",
    "warnings.filterwarnings('ignore', category=FutureWarning, module='sklearn')\n",
    "warnings.filterwarnings('ignore', category=UserWarning, module='sklearn')\n",
    "from IPython.display import display, HTML\n",
    "\n",
    "\n",
    "# Créer une liste de combinaisons de paramètres\n",
    "grid_list = list(ParameterGrid(param_grid))\n",
    "\n",
    "# Pour boucler sur chaque combinaison :\n",
    "best_accuracy = 0\n",
    "best_params = None\n",
    "\n",
    "for params in grid_list:\n",
    "    try:\n",
    "        # Instancier le modèle avec les paramètres\n",
    "        model_instance = LogisticRegression(**params)\n",
    "        \n",
    "        # Appliquer la fonction train_model\n",
    "        accuracy = train_model_grid(data, model_instance, features, target, window_size)\n",
    "        \n",
    "        # Si le modèle actuel a une meilleure précision que le précédent meilleur modèle, stocker sa précision et ses paramètres\n",
    "        if accuracy > best_accuracy:\n",
    "            best_accuracy = accuracy\n",
    "            best_params = params\n",
    "            print(f\"Nouveaux meilleurs paramètres trouvés : {params}, accuracy : {accuracy}\")\n",
    "\n",
    "        else:\n",
    "            print(f'Trop nul mdr : {params}, accuracy : {accuracy}\"')\n",
    "\n",
    "        \n",
    "            \n",
    "    except Exception as e:\n",
    "        # Gérer les combinaisons de paramètres non compatibles\n",
    "        error_message = f\"Error with parameters {params}: {e}\"\n",
    "        #display(HTML(f\"<small>{error_message}</small>\"))\n",
    "        #pass\n",
    "\n",
    "print(f\"Best Model Accuracy: {best_accuracy * 100:.2f}%\")\n",
    "print(f\"Best Parameters: {best_params}\")"
   ]
  },
  {
   "cell_type": "code",
   "execution_count": 22,
   "metadata": {},
   "outputs": [
    {
     "data": {
      "text/plain": [
       "\"Best Model Accuracy: 56.97%\\nBest Parameters: {'C': 1, 'class_weight': None, 'fit_intercept': True, 'max_iter': 200, 'penalty': 'l1', 'solver': 'liblinear'}\""
      ]
     },
     "execution_count": 22,
     "metadata": {},
     "output_type": "execute_result"
    }
   ],
   "source": [
    "#LogisticRegression\n",
    "\n",
    "\"\"\"Best Model Accuracy: 56.97%\n",
    "Best Parameters: {'C': 1, 'class_weight': None, 'fit_intercept': True, 'max_iter': 200, 'penalty': 'l1', 'solver': 'liblinear'}\"\"\""
   ]
  },
  {
   "cell_type": "code",
   "execution_count": null,
   "metadata": {},
   "outputs": [],
   "source": []
  },
  {
   "cell_type": "code",
   "execution_count": null,
   "metadata": {},
   "outputs": [],
   "source": []
  },
  {
   "cell_type": "code",
   "execution_count": 19,
   "metadata": {},
   "outputs": [],
   "source": [
    "param_grid_xgb = {\n",
    "    'learning_rate': [0.01, 0.1],\n",
    "    'n_estimators': [100, 200],\n",
    "    'max_depth': [3, 5],\n",
    "    'subsample': [0.8, 1.0],\n",
    "    'colsample_bytree': [0.8, 1.0]\n",
    "}"
   ]
  },
  {
   "cell_type": "code",
   "execution_count": 52,
   "metadata": {},
   "outputs": [
    {
     "name": "stdout",
     "output_type": "stream",
     "text": [
      "Nouveaux meilleurs paramètres trouvés : {'colsample_bytree': 0.8, 'learning_rate': 0.01, 'max_depth': 3, 'n_estimators': 100, 'subsample': 0.8}, accuracy : 0.5887799564270153\n",
      "Trop nul la honte : {'colsample_bytree': 0.8, 'learning_rate': 0.01, 'max_depth': 3, 'n_estimators': 100, 'subsample': 1.0}, accuracy : 0.5833333333333334\"\n",
      "Nouveaux meilleurs paramètres trouvés : {'colsample_bytree': 0.8, 'learning_rate': 0.01, 'max_depth': 3, 'n_estimators': 200, 'subsample': 0.8}, accuracy : 0.5999455337690632\n",
      "Trop nul la honte : {'colsample_bytree': 0.8, 'learning_rate': 0.01, 'max_depth': 3, 'n_estimators': 200, 'subsample': 1.0}, accuracy : 0.5923202614379085\"\n",
      "Trop nul la honte : {'colsample_bytree': 0.8, 'learning_rate': 0.01, 'max_depth': 5, 'n_estimators': 100, 'subsample': 0.8}, accuracy : 0.593681917211329\"\n",
      "Trop nul la honte : {'colsample_bytree': 0.8, 'learning_rate': 0.01, 'max_depth': 5, 'n_estimators': 100, 'subsample': 1.0}, accuracy : 0.5874183006535948\"\n",
      "Nouveaux meilleurs paramètres trouvés : {'colsample_bytree': 0.8, 'learning_rate': 0.01, 'max_depth': 5, 'n_estimators': 200, 'subsample': 0.8}, accuracy : 0.6029411764705882\n",
      "Trop nul la honte : {'colsample_bytree': 0.8, 'learning_rate': 0.01, 'max_depth': 5, 'n_estimators': 200, 'subsample': 1.0}, accuracy : 0.5925925925925926\"\n",
      "Trop nul la honte : {'colsample_bytree': 0.8, 'learning_rate': 0.1, 'max_depth': 3, 'n_estimators': 100, 'subsample': 0.8}, accuracy : 0.5980392156862745\"\n",
      "Trop nul la honte : {'colsample_bytree': 0.8, 'learning_rate': 0.1, 'max_depth': 3, 'n_estimators': 100, 'subsample': 1.0}, accuracy : 0.5912309368191722\"\n",
      "Trop nul la honte : {'colsample_bytree': 0.8, 'learning_rate': 0.1, 'max_depth': 3, 'n_estimators': 200, 'subsample': 0.8}, accuracy : 0.6013071895424836\"\n",
      "Trop nul la honte : {'colsample_bytree': 0.8, 'learning_rate': 0.1, 'max_depth': 3, 'n_estimators': 200, 'subsample': 1.0}, accuracy : 0.5863289760348583\"\n",
      "Trop nul la honte : {'colsample_bytree': 0.8, 'learning_rate': 0.1, 'max_depth': 5, 'n_estimators': 100, 'subsample': 0.8}, accuracy : 0.5980392156862745\"\n",
      "Trop nul la honte : {'colsample_bytree': 0.8, 'learning_rate': 0.1, 'max_depth': 5, 'n_estimators': 100, 'subsample': 1.0}, accuracy : 0.5895969498910676\"\n",
      "Trop nul la honte : {'colsample_bytree': 0.8, 'learning_rate': 0.1, 'max_depth': 5, 'n_estimators': 200, 'subsample': 0.8}, accuracy : 0.5923202614379085\"\n",
      "Trop nul la honte : {'colsample_bytree': 0.8, 'learning_rate': 0.1, 'max_depth': 5, 'n_estimators': 200, 'subsample': 1.0}, accuracy : 0.5833333333333334\"\n",
      "Trop nul la honte : {'colsample_bytree': 1.0, 'learning_rate': 0.01, 'max_depth': 3, 'n_estimators': 100, 'subsample': 0.8}, accuracy : 0.585511982570806\"\n",
      "Trop nul la honte : {'colsample_bytree': 1.0, 'learning_rate': 0.01, 'max_depth': 3, 'n_estimators': 100, 'subsample': 1.0}, accuracy : 0.5827886710239651\"\n",
      "Trop nul la honte : {'colsample_bytree': 1.0, 'learning_rate': 0.01, 'max_depth': 3, 'n_estimators': 200, 'subsample': 0.8}, accuracy : 0.6029411764705882\"\n",
      "Trop nul la honte : {'colsample_bytree': 1.0, 'learning_rate': 0.01, 'max_depth': 3, 'n_estimators': 200, 'subsample': 1.0}, accuracy : 0.5906862745098039\"\n",
      "Trop nul la honte : {'colsample_bytree': 1.0, 'learning_rate': 0.01, 'max_depth': 5, 'n_estimators': 100, 'subsample': 0.8}, accuracy : 0.5996732026143791\"\n",
      "Trop nul la honte : {'colsample_bytree': 1.0, 'learning_rate': 0.01, 'max_depth': 5, 'n_estimators': 100, 'subsample': 1.0}, accuracy : 0.5893246187363834\"\n",
      "Nouveaux meilleurs paramètres trouvés : {'colsample_bytree': 1.0, 'learning_rate': 0.01, 'max_depth': 5, 'n_estimators': 200, 'subsample': 0.8}, accuracy : 0.6056644880174292\n",
      "Trop nul la honte : {'colsample_bytree': 1.0, 'learning_rate': 0.01, 'max_depth': 5, 'n_estimators': 200, 'subsample': 1.0}, accuracy : 0.5944989106753813\"\n",
      "Trop nul la honte : {'colsample_bytree': 1.0, 'learning_rate': 0.1, 'max_depth': 3, 'n_estimators': 100, 'subsample': 0.8}, accuracy : 0.6043028322440087\"\n",
      "Trop nul la honte : {'colsample_bytree': 1.0, 'learning_rate': 0.1, 'max_depth': 3, 'n_estimators': 100, 'subsample': 1.0}, accuracy : 0.5944989106753813\"\n",
      "Trop nul la honte : {'colsample_bytree': 1.0, 'learning_rate': 0.1, 'max_depth': 3, 'n_estimators': 200, 'subsample': 0.8}, accuracy : 0.6002178649237473\"\n",
      "Trop nul la honte : {'colsample_bytree': 1.0, 'learning_rate': 0.1, 'max_depth': 3, 'n_estimators': 200, 'subsample': 1.0}, accuracy : 0.5874183006535948\"\n",
      "Trop nul la honte : {'colsample_bytree': 1.0, 'learning_rate': 0.1, 'max_depth': 5, 'n_estimators': 100, 'subsample': 0.8}, accuracy : 0.5999455337690632\"\n",
      "Trop nul la honte : {'colsample_bytree': 1.0, 'learning_rate': 0.1, 'max_depth': 5, 'n_estimators': 100, 'subsample': 1.0}, accuracy : 0.5885076252723311\"\n",
      "Trop nul la honte : {'colsample_bytree': 1.0, 'learning_rate': 0.1, 'max_depth': 5, 'n_estimators': 200, 'subsample': 0.8}, accuracy : 0.6015795206971678\"\n",
      "Trop nul la honte : {'colsample_bytree': 1.0, 'learning_rate': 0.1, 'max_depth': 5, 'n_estimators': 200, 'subsample': 1.0}, accuracy : 0.5841503267973857\"\n",
      "Best Model Accuracy: 60.56645%\n",
      "Best Parameters: {'colsample_bytree': 1.0, 'learning_rate': 0.01, 'max_depth': 5, 'n_estimators': 200, 'subsample': 0.8}\n"
     ]
    }
   ],
   "source": [
    "from sklearn.model_selection import ParameterGrid\n",
    "from sklearn.linear_model import LogisticRegression\n",
    "from sklearn.preprocessing import StandardScaler\n",
    "from sklearn.metrics import accuracy_score\n",
    "warnings.filterwarnings('ignore', category=FutureWarning, module='sklearn')\n",
    "warnings.filterwarnings('ignore', category=UserWarning, module='sklearn')\n",
    "from IPython.display import display, HTML\n",
    "\n",
    "\n",
    "# Créer une liste de combinaisons de paramètres\n",
    "grid_list = list(ParameterGrid(param_grid_xgb))\n",
    "\n",
    "# Pour boucler sur chaque combinaison :\n",
    "best_accuracy = 0\n",
    "best_params = None\n",
    "\n",
    "for params in grid_list:\n",
    "    try:\n",
    "        # Instancier le modèle avec les paramètres\n",
    "        model_instance = XGBClassifier(**params)\n",
    "        \n",
    "        # Appliquer la fonction train_model\n",
    "        accuracy = train_model_grid(data, model_instance, features, target, window_size)\n",
    "        \n",
    "        # Si le modèle actuel a une meilleure précision que le précédent meilleur modèle, stocker sa précision et ses paramètres\n",
    "        if accuracy > best_accuracy:\n",
    "            best_accuracy = accuracy\n",
    "            best_params = params\n",
    "            print(f\"Nouveaux meilleurs paramètres trouvés : {params}, accuracy : {accuracy}\")\n",
    "\n",
    "        else:\n",
    "            print(f'Trop nul la honte : {params}, accuracy : {accuracy}\"')\n",
    "\n",
    "        \n",
    "            \n",
    "    except Exception as e:\n",
    "        # Gérer les combinaisons de paramètres non compatibles\n",
    "        error_message = f\"Error with parameters {params}: {e}\"\n",
    "        \n",
    "\n",
    "print(f\"Best Model Accuracy: {best_accuracy * 100:.5f}%\")\n",
    "print(f\"Best Parameters: {best_params}\")"
   ]
  },
  {
   "cell_type": "code",
   "execution_count": 20,
   "metadata": {},
   "outputs": [
    {
     "data": {
      "text/plain": [
       "\"Best Model Accuracy: 60.56645%\\nBest Parameters: {'colsample_bytree': 1.0, 'learning_rate': 0.01, 'max_depth': 5, 'n_estimators': 200, 'subsample': 0.8}\""
      ]
     },
     "execution_count": 20,
     "metadata": {},
     "output_type": "execute_result"
    }
   ],
   "source": [
    "#XGBoost\n",
    "\n",
    "\"\"\"Best Model Accuracy: 60.56645%\n",
    "Best Parameters: {'colsample_bytree': 1.0, 'learning_rate': 0.01, 'max_depth': 5, 'n_estimators': 200, 'subsample': 0.8}\"\"\""
   ]
  },
  {
   "cell_type": "code",
   "execution_count": null,
   "metadata": {},
   "outputs": [],
   "source": []
  },
  {
   "cell_type": "code",
   "execution_count": null,
   "metadata": {},
   "outputs": [],
   "source": []
  },
  {
   "cell_type": "code",
   "execution_count": null,
   "metadata": {},
   "outputs": [],
   "source": []
  },
  {
   "cell_type": "code",
   "execution_count": 21,
   "metadata": {},
   "outputs": [],
   "source": [
    "best_params_xgb = {'colsample_bytree': 1.0, 'learning_rate': 0.01, 'max_depth': 5, 'n_estimators': 200, 'subsample': 0.8}"
   ]
  },
  {
   "cell_type": "code",
   "execution_count": null,
   "metadata": {},
   "outputs": [],
   "source": []
  },
  {
   "cell_type": "code",
   "execution_count": 35,
   "metadata": {},
   "outputs": [
    {
     "name": "stdout",
     "output_type": "stream",
     "text": [
      "Model Accuracy: 61.41%\n"
     ]
    }
   ],
   "source": [
    "xgboost = XGBClassifier(**best_params_xgb)\n",
    "\n",
    "train_model(data, xgboost, features, target, window_size)"
   ]
  },
  {
   "cell_type": "code",
   "execution_count": 44,
   "metadata": {},
   "outputs": [],
   "source": [
    "import pickle\n",
    "\n",
    "# Sauvegardez le modèle dans un fichier\n",
    "filename = 'models/xgboost_model.pkl'\n",
    "pickle.dump(xgboost, open(filename, 'wb'))"
   ]
  },
  {
   "cell_type": "code",
   "execution_count": 45,
   "metadata": {},
   "outputs": [],
   "source": [
    "# Chargez le modèle à partir du disque\n",
    "xgboost = pickle.load(open(filename, 'rb'))"
   ]
  },
  {
   "cell_type": "code",
   "execution_count": 41,
   "metadata": {},
   "outputs": [
    {
     "data": {
      "image/png": "[encoded data removed]",
      "text/plain": [
       "<Figure size 1000x600 with 1 Axes>"
      ]
     },
     "metadata": {},
     "output_type": "display_data"
    }
   ],
   "source": [
    "feature_names = features.columns.tolist()\n",
    "plot_feature_importance_xgb(xgboost, feature_names)"
   ]
  },
  {
   "cell_type": "code",
   "execution_count": null,
   "metadata": {},
   "outputs": [],
   "source": []
  },
  {
   "cell_type": "code",
   "execution_count": 26,
   "metadata": {},
   "outputs": [],
   "source": [
    "# Sélectionner les caractéristiques et exclure la dernière ligne\n",
    "features = data.drop(columns=['progression tomorrow', 'target', 'close', 'high', 'low', 'volumefrom', 'market_cap', 'difficulty']).iloc[:-1, :]\n",
    "target = data['target'].iloc[:-1]\n",
    "window_size = 1500\n",
    "n_days = 31"
   ]
  },
  {
   "cell_type": "code",
   "execution_count": 27,
   "metadata": {},
   "outputs": [],
   "source": [
    "param_grid_xgb = {\n",
    "    'learning_rate': [0.01, 0.1],\n",
    "    'n_estimators': [100, 200],\n",
    "    'max_depth': [3, 5],\n",
    "    'subsample': [0.8, 1.0],\n",
    "    'colsample_bytree': [0.8, 1.0]\n",
    "}"
   ]
  },
  {
   "cell_type": "code",
   "execution_count": 32,
   "metadata": {},
   "outputs": [
    {
     "name": "stdout",
     "output_type": "stream",
     "text": [
      "Nouveaux meilleurs paramètres trouvés : {'colsample_bytree': 0.8, 'learning_rate': 0.01, 'max_depth': 3, 'n_estimators': 100, 'subsample': 0.8}, earning : 1.0084009335278077\n",
      "Trop nul la honte : {'colsample_bytree': 0.8, 'learning_rate': 0.01, 'max_depth': 3, 'n_estimators': 100, 'subsample': 1.0}, earning : 1.0083829500965855\"\n",
      "Nouveaux meilleurs paramètres trouvés : {'colsample_bytree': 0.8, 'learning_rate': 0.01, 'max_depth': 3, 'n_estimators': 200, 'subsample': 0.8}, earning : 1.0205983479391452\n",
      "Trop nul la honte : {'colsample_bytree': 0.8, 'learning_rate': 0.01, 'max_depth': 3, 'n_estimators': 200, 'subsample': 1.0}, earning : 1.020363818651446\"\n",
      "Trop nul la honte : {'colsample_bytree': 0.8, 'learning_rate': 0.01, 'max_depth': 5, 'n_estimators': 100, 'subsample': 0.8}, earning : 1.013274166001476\"\n",
      "Trop nul la honte : {'colsample_bytree': 0.8, 'learning_rate': 0.01, 'max_depth': 5, 'n_estimators': 100, 'subsample': 1.0}, earning : 1.0135417707667784\"\n",
      "Nouveaux meilleurs paramètres trouvés : {'colsample_bytree': 0.8, 'learning_rate': 0.01, 'max_depth': 5, 'n_estimators': 200, 'subsample': 0.8}, earning : 1.0282829939921057\n",
      "Nouveaux meilleurs paramètres trouvés : {'colsample_bytree': 0.8, 'learning_rate': 0.01, 'max_depth': 5, 'n_estimators': 200, 'subsample': 1.0}, earning : 1.0289380501062246\n",
      "Nouveaux meilleurs paramètres trouvés : {'colsample_bytree': 0.8, 'learning_rate': 0.1, 'max_depth': 3, 'n_estimators': 100, 'subsample': 0.8}, earning : 1.0492214962034623\n",
      "Trop nul la honte : {'colsample_bytree': 0.8, 'learning_rate': 0.1, 'max_depth': 3, 'n_estimators': 100, 'subsample': 1.0}, earning : 1.0461964906045014\"\n",
      "Nouveaux meilleurs paramètres trouvés : {'colsample_bytree': 0.8, 'learning_rate': 0.1, 'max_depth': 3, 'n_estimators': 200, 'subsample': 0.8}, earning : 1.0598968818000603\n",
      "Trop nul la honte : {'colsample_bytree': 0.8, 'learning_rate': 0.1, 'max_depth': 3, 'n_estimators': 200, 'subsample': 1.0}, earning : 1.0564741754830942\"\n",
      "Trop nul la honte : {'colsample_bytree': 0.8, 'learning_rate': 0.1, 'max_depth': 5, 'n_estimators': 100, 'subsample': 0.8}, earning : 1.0554043480703776\"\n",
      "Trop nul la honte : {'colsample_bytree': 0.8, 'learning_rate': 0.1, 'max_depth': 5, 'n_estimators': 100, 'subsample': 1.0}, earning : 1.0564663984056746\"\n",
      "Nouveaux meilleurs paramètres trouvés : {'colsample_bytree': 0.8, 'learning_rate': 0.1, 'max_depth': 5, 'n_estimators': 200, 'subsample': 0.8}, earning : 1.0652933395745423\n",
      "Nouveaux meilleurs paramètres trouvés : {'colsample_bytree': 0.8, 'learning_rate': 0.1, 'max_depth': 5, 'n_estimators': 200, 'subsample': 1.0}, earning : 1.0678019107384453\n",
      "Trop nul la honte : {'colsample_bytree': 1.0, 'learning_rate': 0.01, 'max_depth': 3, 'n_estimators': 100, 'subsample': 0.8}, earning : 1.0129949662206572\"\n",
      "Trop nul la honte : {'colsample_bytree': 1.0, 'learning_rate': 0.01, 'max_depth': 3, 'n_estimators': 100, 'subsample': 1.0}, earning : 1.012821216645928\"\n",
      "Trop nul la honte : {'colsample_bytree': 1.0, 'learning_rate': 0.01, 'max_depth': 3, 'n_estimators': 200, 'subsample': 0.8}, earning : 1.0242204834996174\"\n",
      "Trop nul la honte : {'colsample_bytree': 1.0, 'learning_rate': 0.01, 'max_depth': 3, 'n_estimators': 200, 'subsample': 1.0}, earning : 1.0232371985916304\"\n",
      "Trop nul la honte : {'colsample_bytree': 1.0, 'learning_rate': 0.01, 'max_depth': 5, 'n_estimators': 100, 'subsample': 0.8}, earning : 1.0197043519555151\"\n",
      "Trop nul la honte : {'colsample_bytree': 1.0, 'learning_rate': 0.01, 'max_depth': 5, 'n_estimators': 100, 'subsample': 1.0}, earning : 1.0205513204866385\"\n",
      "Trop nul la honte : {'colsample_bytree': 1.0, 'learning_rate': 0.01, 'max_depth': 5, 'n_estimators': 200, 'subsample': 0.8}, earning : 1.0338016611112675\"\n",
      "Trop nul la honte : {'colsample_bytree': 1.0, 'learning_rate': 0.01, 'max_depth': 5, 'n_estimators': 200, 'subsample': 1.0}, earning : 1.034420523759096\"\n",
      "Trop nul la honte : {'colsample_bytree': 1.0, 'learning_rate': 0.1, 'max_depth': 3, 'n_estimators': 100, 'subsample': 0.8}, earning : 1.0518600748332796\"\n",
      "Trop nul la honte : {'colsample_bytree': 1.0, 'learning_rate': 0.1, 'max_depth': 3, 'n_estimators': 100, 'subsample': 1.0}, earning : 1.0475903178455197\"\n",
      "Trop nul la honte : {'colsample_bytree': 1.0, 'learning_rate': 0.1, 'max_depth': 3, 'n_estimators': 200, 'subsample': 0.8}, earning : 1.0626972479357284\"\n",
      "Trop nul la honte : {'colsample_bytree': 1.0, 'learning_rate': 0.1, 'max_depth': 3, 'n_estimators': 200, 'subsample': 1.0}, earning : 1.0578104539399624\"\n",
      "Trop nul la honte : {'colsample_bytree': 1.0, 'learning_rate': 0.1, 'max_depth': 5, 'n_estimators': 100, 'subsample': 0.8}, earning : 1.063850805826207\"\n",
      "Trop nul la honte : {'colsample_bytree': 1.0, 'learning_rate': 0.1, 'max_depth': 5, 'n_estimators': 100, 'subsample': 1.0}, earning : 1.0592964781423453\"\n",
      "Nouveaux meilleurs paramètres trouvés : {'colsample_bytree': 1.0, 'learning_rate': 0.1, 'max_depth': 5, 'n_estimators': 200, 'subsample': 0.8}, earning : 1.0727029942679231\n",
      "Trop nul la honte : {'colsample_bytree': 1.0, 'learning_rate': 0.1, 'max_depth': 5, 'n_estimators': 200, 'subsample': 1.0}, earning : 1.0677705446894292\"\n",
      "Best Earnings: 107.27030%\n",
      "Best Parameters: {'colsample_bytree': 1.0, 'learning_rate': 0.1, 'max_depth': 5, 'n_estimators': 200, 'subsample': 0.8}\n"
     ]
    }
   ],
   "source": [
    "from sklearn.model_selection import ParameterGrid\n",
    "from sklearn.linear_model import LogisticRegression\n",
    "from sklearn.preprocessing import StandardScaler\n",
    "from sklearn.metrics import accuracy_score\n",
    "warnings.filterwarnings('ignore', category=FutureWarning, module='sklearn')\n",
    "warnings.filterwarnings('ignore', category=UserWarning, module='sklearn')\n",
    "from IPython.display import display, HTML\n",
    "\n",
    "\n",
    "# Créer une liste de combinaisons de paramètres\n",
    "grid_list = list(ParameterGrid(param_grid_xgb))\n",
    "\n",
    "# Pour boucler sur chaque combinaison :\n",
    "best_earning = 0\n",
    "best_params = None\n",
    "\n",
    "for params in grid_list:\n",
    "    try:\n",
    "        # Instancier le modèle avec les paramètres\n",
    "        model_instance = XGBClassifier(**params, random_state = 42)\n",
    "        \n",
    "        # Appliquer la fonction train_model\n",
    "        earning = train_model_proba_metric(data, model_instance, features, target, window_size, n_days)\n",
    "        \n",
    "        # Si le modèle actuel a une meilleure précision que le précédent meilleur modèle, stocker sa précision et ses paramètres\n",
    "        if earning > best_earning:\n",
    "            best_earning = earning\n",
    "            best_params = params\n",
    "            print(f\"Nouveaux meilleurs paramètres trouvés : {params}, earning : {earning}\")\n",
    "\n",
    "        else:\n",
    "            print(f'Trop nul la honte : {params}, earning : {earning}')\n",
    "\n",
    "        \n",
    "            \n",
    "    except Exception as e:\n",
    "        # Gérer les combinaisons de paramètres non compatibles\n",
    "        error_message = f\"Error with parameters {params}: {e}\"\n",
    "        \n",
    "\n",
    "print(f\"Best Earnings: {best_earning * 100:.5f}%\")\n",
    "print(f\"Best Parameters: {best_params}\")"
   ]
  },
  {
   "cell_type": "code",
   "execution_count": 28,
   "metadata": {},
   "outputs": [
    {
     "data": {
      "text/plain": [
       "\"Best Model Accuracy: 110.36879%\\nBest Parameters: {'colsample_bytree': 1.0, 'learning_rate': 0.1, 'max_depth': 5, 'n_estimators': 200, 'subsample': 0.8}\""
      ]
     },
     "execution_count": 28,
     "metadata": {},
     "output_type": "execute_result"
    }
   ],
   "source": [
    "\"\"\"Best Model Earning: 110.36879%\n",
    "Best Parameters: {'colsample_bytree': 1.0, 'learning_rate': 0.1, 'max_depth': 5, 'n_estimators': 200, 'subsample': 0.8}\"\"\""
   ]
  },
  {
   "cell_type": "code",
   "execution_count": null,
   "metadata": {},
   "outputs": [],
   "source": []
  },
  {
   "cell_type": "code",
   "execution_count": 42,
   "metadata": {},
   "outputs": [],
   "source": [
    "# Sélectionner les caractéristiques et exclure la dernière ligne\n",
    "features = data.drop(columns=['progression tomorrow', 'target', 'close', 'high', 'low', 'volumefrom', 'market_cap', 'difficulty']).iloc[:-1, :]\n",
    "target = data['target'].iloc[:-1]\n",
    "window_size = 1500\n",
    "n_days = 31"
   ]
  },
  {
   "cell_type": "code",
   "execution_count": 44,
   "metadata": {},
   "outputs": [],
   "source": [
    "best_params_xgb = {'colsample_bytree': 1.0, 'learning_rate': 0.1, 'max_depth': 5, 'n_estimators': 200, 'subsample': 0.8}\n",
    "\n",
    "xgboost = XGBClassifier(**best_params_xgb, random_state = 42)"
   ]
  },
  {
   "cell_type": "code",
   "execution_count": 45,
   "metadata": {},
   "outputs": [
    {
     "data": {
      "text/plain": [
       "1.0719328313078318"
      ]
     },
     "execution_count": 45,
     "metadata": {},
     "output_type": "execute_result"
    }
   ],
   "source": [
    "train_model_proba_metric(data, xgboost, features, target, window_size, n_days)"
   ]
  },
  {
   "cell_type": "code",
   "execution_count": null,
   "metadata": {},
   "outputs": [],
   "source": []
  },
  {
   "cell_type": "code",
   "execution_count": null,
   "metadata": {},
   "outputs": [],
   "source": []
  },
  {
   "cell_type": "code",
   "execution_count": 27,
   "metadata": {},
   "outputs": [],
   "source": [
    "import pickle\n",
    "\n",
    "# Sauvegardez le modèle dans un fichier\n",
    "filename = 'models/xgboost_model.pkl'\n",
    "pickle.dump(xgboost, open(filename, 'wb'))"
   ]
  },
  {
   "cell_type": "code",
   "execution_count": 46,
   "metadata": {},
   "outputs": [],
   "source": [
    "# Chargez le modèle à partir du disque\n",
    "xgboost = pickle.load(open(filename, 'rb'))"
   ]
  },
  {
   "cell_type": "code",
   "execution_count": null,
   "metadata": {},
   "outputs": [],
   "source": []
  },
  {
   "cell_type": "code",
   "execution_count": 38,
   "metadata": {},
   "outputs": [
    {
     "name": "stdout",
     "output_type": "stream",
     "text": [
      "Model Accuracy: 60.59%\n"
     ]
    }
   ],
   "source": [
    "train_model(data, xgboost, features, target, window_size)"
   ]
  },
  {
   "cell_type": "code",
   "execution_count": null,
   "metadata": {},
   "outputs": [],
   "source": []
  },
  {
   "cell_type": "code",
   "execution_count": null,
   "metadata": {},
   "outputs": [],
   "source": []
  },
  {
   "cell_type": "code",
   "execution_count": null,
   "metadata": {},
   "outputs": [],
   "source": []
  },
  {
   "cell_type": "code",
   "execution_count": null,
   "metadata": {},
   "outputs": [],
   "source": []
  },
  {
   "cell_type": "code",
   "execution_count": null,
   "metadata": {},
   "outputs": [],
   "source": []
  },
  {
   "cell_type": "code",
   "execution_count": null,
   "metadata": {},
   "outputs": [],
   "source": []
  },
  {
   "cell_type": "code",
   "execution_count": null,
   "metadata": {},
   "outputs": [],
   "source": []
  },
  {
   "cell_type": "code",
   "execution_count": 30,
   "metadata": {},
   "outputs": [],
   "source": [
    "data_crop = data.dropna()"
   ]
  },
  {
   "cell_type": "code",
   "execution_count": null,
   "metadata": {},
   "outputs": [],
   "source": []
  },
  {
   "cell_type": "code",
   "execution_count": 31,
   "metadata": {},
   "outputs": [],
   "source": [
    "# Sélectionner les caractéristiques et exclure la dernière ligne\n",
    "features = data_crop.drop(columns=['progression tomorrow', 'target', 'close', 'high', 'low', 'volumefrom']).iloc[:-1, :]\n",
    "target = data['target'].iloc[:-1]\n",
    "\n",
    "# Définir la taille de la fenêtre initiale\n",
    "window_size = 1000\n",
    "\n",
    "# Définir la taille de le fenêtre pour calculer la métrique\n",
    "n_days = 31"
   ]
  },
  {
   "cell_type": "code",
   "execution_count": null,
   "metadata": {},
   "outputs": [],
   "source": []
  },
  {
   "cell_type": "code",
   "execution_count": 41,
   "metadata": {},
   "outputs": [
    {
     "name": "stdout",
     "output_type": "stream",
     "text": [
      "Model Accuracy: 53.29%\n"
     ]
    }
   ],
   "source": [
    "dummy_model = DummyClassifier(strategy=\"most_frequent\")\n",
    "train_model(data_crop, dummy_model, features, target, window_size)"
   ]
  },
  {
   "cell_type": "code",
   "execution_count": 33,
   "metadata": {},
   "outputs": [
    {
     "name": "stdout",
     "output_type": "stream",
     "text": [
      "Model Accuracy: 68.91%\n"
     ]
    }
   ],
   "source": [
    "train_model_f1(data_crop, dummy_model, features, target, window_size)"
   ]
  },
  {
   "cell_type": "code",
   "execution_count": null,
   "metadata": {},
   "outputs": [],
   "source": []
  },
  {
   "cell_type": "code",
   "execution_count": null,
   "metadata": {},
   "outputs": [],
   "source": []
  },
  {
   "cell_type": "code",
   "execution_count": null,
   "metadata": {},
   "outputs": [],
   "source": []
  },
  {
   "cell_type": "code",
   "execution_count": 42,
   "metadata": {},
   "outputs": [],
   "source": [
    "# Définir la grille de paramètres\n",
    "param_grid = {\n",
    "    'penalty': ['l1', 'l2'],\n",
    "    'C': [0.01, 0.1, 1, 10],\n",
    "    'solver': ['lbfgs', 'liblinear'],\n",
    "    'max_iter': [200],\n",
    "    'fit_intercept': [True],\n",
    "    'class_weight': [None, 'balanced']\n",
    "}"
   ]
  },
  {
   "cell_type": "code",
   "execution_count": 43,
   "metadata": {},
   "outputs": [
    {
     "name": "stdout",
     "output_type": "stream",
     "text": [
      "Nouveaux meilleurs paramètres trouvés : {'C': 0.01, 'class_weight': None, 'fit_intercept': True, 'max_iter': 200, 'penalty': 'l1', 'solver': 'liblinear'}, accuracy : 0.46458923512747874\n",
      "Nouveaux meilleurs paramètres trouvés : {'C': 0.01, 'class_weight': None, 'fit_intercept': True, 'max_iter': 200, 'penalty': 'l2', 'solver': 'lbfgs'}, accuracy : 0.5435552407932012\n",
      "Trop nul mdr : {'C': 0.01, 'class_weight': None, 'fit_intercept': True, 'max_iter': 200, 'penalty': 'l2', 'solver': 'liblinear'}, accuracy : 0.5403682719546742\"\n",
      "Trop nul mdr : {'C': 0.01, 'class_weight': 'balanced', 'fit_intercept': True, 'max_iter': 200, 'penalty': 'l1', 'solver': 'liblinear'}, accuracy : 0.46458923512747874\"\n",
      "Trop nul mdr : {'C': 0.01, 'class_weight': 'balanced', 'fit_intercept': True, 'max_iter': 200, 'penalty': 'l2', 'solver': 'lbfgs'}, accuracy : 0.5354107648725213\"\n",
      "Trop nul mdr : {'C': 0.01, 'class_weight': 'balanced', 'fit_intercept': True, 'max_iter': 200, 'penalty': 'l2', 'solver': 'liblinear'}, accuracy : 0.5357648725212465\"\n",
      "Trop nul mdr : {'C': 0.1, 'class_weight': None, 'fit_intercept': True, 'max_iter': 200, 'penalty': 'l1', 'solver': 'liblinear'}, accuracy : 0.5400141643059491\"\n",
      "Trop nul mdr : {'C': 0.1, 'class_weight': None, 'fit_intercept': True, 'max_iter': 200, 'penalty': 'l2', 'solver': 'lbfgs'}, accuracy : 0.5432011331444759\"\n",
      "Trop nul mdr : {'C': 0.1, 'class_weight': None, 'fit_intercept': True, 'max_iter': 200, 'penalty': 'l2', 'solver': 'liblinear'}, accuracy : 0.5410764872521246\"\n",
      "Trop nul mdr : {'C': 0.1, 'class_weight': 'balanced', 'fit_intercept': True, 'max_iter': 200, 'penalty': 'l1', 'solver': 'liblinear'}, accuracy : 0.53328611898017\"\n",
      "Trop nul mdr : {'C': 0.1, 'class_weight': 'balanced', 'fit_intercept': True, 'max_iter': 200, 'penalty': 'l2', 'solver': 'lbfgs'}, accuracy : 0.5339943342776204\"\n",
      "Trop nul mdr : {'C': 0.1, 'class_weight': 'balanced', 'fit_intercept': True, 'max_iter': 200, 'penalty': 'l2', 'solver': 'liblinear'}, accuracy : 0.5336402266288952\"\n",
      "Nouveaux meilleurs paramètres trouvés : {'C': 1, 'class_weight': None, 'fit_intercept': True, 'max_iter': 200, 'penalty': 'l1', 'solver': 'liblinear'}, accuracy : 0.544971671388102\n",
      "Nouveaux meilleurs paramètres trouvés : {'C': 1, 'class_weight': None, 'fit_intercept': True, 'max_iter': 200, 'penalty': 'l2', 'solver': 'lbfgs'}, accuracy : 0.5456798866855525\n",
      "Trop nul mdr : {'C': 1, 'class_weight': None, 'fit_intercept': True, 'max_iter': 200, 'penalty': 'l2', 'solver': 'liblinear'}, accuracy : 0.5456798866855525\"\n",
      "Trop nul mdr : {'C': 1, 'class_weight': 'balanced', 'fit_intercept': True, 'max_iter': 200, 'penalty': 'l1', 'solver': 'liblinear'}, accuracy : 0.5343484419263456\"\n",
      "Trop nul mdr : {'C': 1, 'class_weight': 'balanced', 'fit_intercept': True, 'max_iter': 200, 'penalty': 'l2', 'solver': 'lbfgs'}, accuracy : 0.5304532577903682\"\n",
      "Trop nul mdr : {'C': 1, 'class_weight': 'balanced', 'fit_intercept': True, 'max_iter': 200, 'penalty': 'l2', 'solver': 'liblinear'}, accuracy : 0.5304532577903682\"\n",
      "Trop nul mdr : {'C': 10, 'class_weight': None, 'fit_intercept': True, 'max_iter': 200, 'penalty': 'l1', 'solver': 'liblinear'}, accuracy : 0.5357648725212465\"\n",
      "Trop nul mdr : {'C': 10, 'class_weight': None, 'fit_intercept': True, 'max_iter': 200, 'penalty': 'l2', 'solver': 'lbfgs'}, accuracy : 0.5393059490084986\"\n",
      "Trop nul mdr : {'C': 10, 'class_weight': None, 'fit_intercept': True, 'max_iter': 200, 'penalty': 'l2', 'solver': 'liblinear'}, accuracy : 0.5389518413597734\"\n",
      "Trop nul mdr : {'C': 10, 'class_weight': 'balanced', 'fit_intercept': True, 'max_iter': 200, 'penalty': 'l1', 'solver': 'liblinear'}, accuracy : 0.5293909348441926\"\n",
      "Trop nul mdr : {'C': 10, 'class_weight': 'balanced', 'fit_intercept': True, 'max_iter': 200, 'penalty': 'l2', 'solver': 'lbfgs'}, accuracy : 0.5258498583569405\"\n",
      "Trop nul mdr : {'C': 10, 'class_weight': 'balanced', 'fit_intercept': True, 'max_iter': 200, 'penalty': 'l2', 'solver': 'liblinear'}, accuracy : 0.5265580736543909\"\n",
      "Best Model Accuracy: 54.57%\n",
      "Best Parameters: {'C': 1, 'class_weight': None, 'fit_intercept': True, 'max_iter': 200, 'penalty': 'l2', 'solver': 'lbfgs'}\n"
     ]
    }
   ],
   "source": [
    "\"\"\"from sklearn.model_selection import ParameterGrid\n",
    "from sklearn.linear_model import LogisticRegression\n",
    "from sklearn.preprocessing import StandardScaler\n",
    "from sklearn.metrics import accuracy_score\n",
    "warnings.filterwarnings('ignore', category=FutureWarning, module='sklearn')\n",
    "warnings.filterwarnings('ignore', category=UserWarning, module='sklearn')\n",
    "from IPython.display import display, HTML\n",
    "\n",
    "\n",
    "# Créer une liste de combinaisons de paramètres\n",
    "grid_list = list(ParameterGrid(param_grid))\n",
    "\n",
    "# Pour boucler sur chaque combinaison :\n",
    "best_accuracy = 0\n",
    "best_params = None\n",
    "\n",
    "for params in grid_list:\n",
    "    try:\n",
    "        # Instancier le modèle avec les paramètres\n",
    "        model_instance = LogisticRegression(**params)\n",
    "        \n",
    "        # Appliquer la fonction train_model\n",
    "        accuracy = train_model_grid(data_crop, model_instance, features, target, window_size)\n",
    "        \n",
    "        # Si le modèle actuel a une meilleure précision que le précédent meilleur modèle, stocker sa précision et ses paramètres\n",
    "        if accuracy > best_accuracy:\n",
    "            best_accuracy = accuracy\n",
    "            best_params = params\n",
    "            print(f\"Nouveaux meilleurs paramètres trouvés : {params}, accuracy : {accuracy}\")\n",
    "\n",
    "        else:\n",
    "            print(f'Trop nul mdr : {params}, accuracy : {accuracy}\"')\n",
    "\n",
    "        \n",
    "            \n",
    "    except Exception as e:\n",
    "        # Gérer les combinaisons de paramètres non compatibles\n",
    "        error_message = f\"Error with parameters {params}: {e}\"\n",
    "        #display(HTML(f\"<small>{error_message}</small>\"))\n",
    "        #pass\n",
    "\n",
    "print(f\"Best Model Accuracy: {best_accuracy * 100:.2f}%\")\n",
    "print(f\"Best Parameters: {best_params}\")\"\"\"\n",
    "\n",
    "\"\"\" 20mn\n",
    "Best Model Accuracy: 54.57%\n",
    "Best Parameters: {'C': 1, 'class_weight': None, 'fit_intercept': True, 'max_iter': 200, 'penalty': 'l2', 'solver': 'lbfgs'}\"\"\""
   ]
  },
  {
   "cell_type": "code",
   "execution_count": null,
   "metadata": {},
   "outputs": [],
   "source": []
  },
  {
   "cell_type": "code",
   "execution_count": null,
   "metadata": {},
   "outputs": [],
   "source": []
  },
  {
   "cell_type": "code",
   "execution_count": null,
   "metadata": {},
   "outputs": [],
   "source": []
  },
  {
   "cell_type": "code",
   "execution_count": null,
   "metadata": {},
   "outputs": [],
   "source": []
  },
  {
   "cell_type": "code",
   "execution_count": null,
   "metadata": {},
   "outputs": [],
   "source": []
  },
  {
   "cell_type": "code",
   "execution_count": 44,
   "metadata": {},
   "outputs": [],
   "source": [
    "xgboost = XGBClassifier(random_state = 7)"
   ]
  },
  {
   "cell_type": "code",
   "execution_count": null,
   "metadata": {},
   "outputs": [],
   "source": []
  },
  {
   "cell_type": "code",
   "execution_count": 45,
   "metadata": {},
   "outputs": [],
   "source": [
    "param_grid_xgb_reduced = {\n",
    "    'learning_rate': [0.01, 0.1],\n",
    "    'n_estimators': [100, 200],\n",
    "    'max_depth': [3, 5],\n",
    "    'subsample': [0.8, 1.0],\n",
    "    'colsample_bytree': [0.8, 1.0]\n",
    "}\n"
   ]
  },
  {
   "cell_type": "code",
   "execution_count": 46,
   "metadata": {},
   "outputs": [
    {
     "name": "stdout",
     "output_type": "stream",
     "text": [
      "Nouveaux meilleurs paramètres trouvés : {'colsample_bytree': 0.8, 'learning_rate': 0.01, 'max_depth': 3, 'n_estimators': 100, 'subsample': 0.8}, accuracy : 0.5286827195467422\n",
      "Nouveaux meilleurs paramètres trouvés : {'colsample_bytree': 0.8, 'learning_rate': 0.01, 'max_depth': 5, 'n_estimators': 100, 'subsample': 0.8}, accuracy : 0.5297450424929179\n",
      "Best Model Accuracy: 52.97%\n",
      "Best Parameters: {'colsample_bytree': 0.8, 'learning_rate': 0.01, 'max_depth': 5, 'n_estimators': 100, 'subsample': 0.8}\n"
     ]
    }
   ],
   "source": [
    "\"\"\"from sklearn.model_selection import ParameterGrid\n",
    "from sklearn.linear_model import LogisticRegression\n",
    "from sklearn.preprocessing import StandardScaler\n",
    "from sklearn.metrics import accuracy_score\n",
    "warnings.filterwarnings('ignore', category=FutureWarning, module='sklearn')\n",
    "from IPython.display import display, HTML\n",
    "\n",
    "\n",
    "# Créer une liste de combinaisons de paramètres\n",
    "grid_list = list(ParameterGrid(param_grid_xgb_reduced))\n",
    "\n",
    "# Pour boucler sur chaque combinaison :\n",
    "best_accuracy = 0\n",
    "best_params = None\n",
    "\n",
    "for params in grid_list:\n",
    "    try:\n",
    "        # Instancier le modèle avec les paramètres\n",
    "        model_instance = XGBClassifier(**params)\n",
    "        \n",
    "        # Appliquer la fonction train_model\n",
    "        accuracy = train_model_grid(data_crop, model_instance, features, target, window_size)\n",
    "        \n",
    "        # Si le modèle actuel a une meilleure précision que le précédent meilleur modèle, stocker sa précision et ses paramètres\n",
    "        if accuracy > best_accuracy:\n",
    "            best_accuracy = accuracy\n",
    "            best_params = params\n",
    "            print(f\"Nouveaux meilleurs paramètres trouvés : {params}, accuracy : {accuracy}\")\n",
    "\n",
    "        \n",
    "            \n",
    "    except Exception as e:\n",
    "        # Gérer les combinaisons de paramètres non compatibles\n",
    "        error_message = f\"Error with parameters {params}: {e}\"\n",
    "        #display(HTML(f\"<small>{error_message}</small>\"))\n",
    "        #pass\n",
    "\n",
    "print(f\"Best Model Accuracy: {best_accuracy * 100:.2f}%\")\n",
    "print(f\"Best Parameters: {best_params}\")\"\"\"\n",
    "\n",
    "\"\"\"1h30\n",
    "Best Model Accuracy: 52.97%\n",
    "Best Parameters: {'colsample_bytree': 0.8, 'learning_rate': 0.01, 'max_depth': 5, 'n_estimators': 100, 'subsample': 0.8}\"\"\""
   ]
  },
  {
   "cell_type": "code",
   "execution_count": 44,
   "metadata": {},
   "outputs": [],
   "source": [
    "best_params_xgb = {'colsample_bytree': 0.8, 'learning_rate': 0.01, 'max_depth': 5, 'n_estimators': 100, 'subsample': 0.8}"
   ]
  },
  {
   "cell_type": "code",
   "execution_count": 45,
   "metadata": {},
   "outputs": [
    {
     "name": "stdout",
     "output_type": "stream",
     "text": [
      "Model Accuracy: 52.16%\n"
     ]
    }
   ],
   "source": [
    "train_model(data_crop, xgboost, features, target, window_size)"
   ]
  },
  {
   "cell_type": "code",
   "execution_count": 29,
   "metadata": {},
   "outputs": [
    {
     "data": {
      "image/png": "[encoded data removed]",
      "text/plain": [
       "<Figure size 1000x600 with 1 Axes>"
      ]
     },
     "metadata": {},
     "output_type": "display_data"
    }
   ],
   "source": [
    "plot_feature_importance_xgb(xgboost, feature_names=features.columns.tolist())"
   ]
  },
  {
   "cell_type": "code",
   "execution_count": 36,
   "metadata": {},
   "outputs": [],
   "source": [
    "import shap\n",
    "import numpy as np\n",
    "import xgboost as xgb\n",
    "xgb.set_config(verbosity=0)  # 0 pour ignorer les avertissements, 1 pour les afficher\n",
    "\n",
    "\n",
    "def train_model_with_shap(data, model, features, target, window_size):\n",
    "      \n",
    "    # Initialiser les listes pour stocker les prédictions, les vraies valeurs et les valeurs SHAP\n",
    "    predictions = []\n",
    "    actuals = []\n",
    "    all_shap_values = []\n",
    "\n",
    "    # Boucle à travers les données de la taille de la fenêtre jusqu'à la fin des données\n",
    "    for i in range(window_size, len(data) - 1):\n",
    "        # Diviser les données en ensembles d'entraînement et de test\n",
    "        X_train = features.iloc[i-window_size:i, :]\n",
    "        y_train = target.iloc[i-window_size:i]\n",
    "        X_test = features.iloc[i:i+1, :]\n",
    "        y_test = target.iloc[i]\n",
    "\n",
    "        # Normaliser les données\n",
    "        scaler = StandardScaler()\n",
    "        X_train_scaled = scaler.fit_transform(X_train)\n",
    "        X_test_scaled = scaler.transform(X_test)\n",
    "        \n",
    "        # Entraîner un modèle\n",
    "        model.fit(X_train_scaled, y_train)\n",
    "        \n",
    "        # Faire une prédiction\n",
    "        prediction = model.predict(X_test_scaled)[0]\n",
    "        \n",
    "        # Stocker les prédictions et les vraies valeurs\n",
    "        predictions.append(prediction)\n",
    "        actuals.append(y_test)\n",
    "\n",
    "        # Créez un explainer SHAP pour le modèle actuel\n",
    "        explainer = shap.Explainer(model)\n",
    "        \n",
    "        # Calculez les valeurs SHAP pour l'ensemble d'entraînement actuel\n",
    "        shap_values = explainer.shap_values(X_train_scaled)\n",
    "        \n",
    "        # Ajoutez les valeurs SHAP à la liste\n",
    "        all_shap_values.append(shap_values)\n",
    "\n",
    "    # Calculer l'importance moyenne des caractéristiques sur toutes les fenêtres\n",
    "    mean_shap_values = np.mean(all_shap_values, axis=0)\n",
    "\n",
    "    # Visualiser l'importance moyenne des caractéristiques\n",
    "    shap.summary_plot(mean_shap_values, X_train, plot_type=\"bar\")\n",
    "\n",
    "    # Évaluer le modèle\n",
    "    accuracy = accuracy_score(actuals, predictions)\n",
    "    print(f'Model Accuracy: {accuracy * 100:.2f}%')\n",
    "\n",
    "    return mean_shap_values\n"
   ]
  },
  {
   "cell_type": "code",
   "execution_count": 37,
   "metadata": {},
   "outputs": [
    {
     "data": {
      "image/png": "[encoded data removed]",
      "text/plain": [
       "<Figure size 800x790 with 1 Axes>"
      ]
     },
     "metadata": {},
     "output_type": "display_data"
    },
    {
     "name": "stdout",
     "output_type": "stream",
     "text": [
      "Model Accuracy: 52.02%\n"
     ]
    },
    {
     "data": {
      "text/plain": [
       "array([[-0.01488075,  0.0197755 , -0.02894393, ...,  0.00312517,\n",
       "        -0.01000048,  0.0172015 ],\n",
       "       [-0.01441185,  0.02005886, -0.02839187, ...,  0.00309581,\n",
       "        -0.0100344 ,  0.01705089],\n",
       "       [-0.01411395,  0.01950353, -0.02776852, ...,  0.0032432 ,\n",
       "        -0.00990415,  0.01714329],\n",
       "       ...,\n",
       "       [-0.0009146 , -0.01106281, -0.01148989, ...,  0.00589596,\n",
       "        -0.00672391,  0.00870143],\n",
       "       [-0.00053631, -0.01112315, -0.01168866, ...,  0.00636024,\n",
       "        -0.00641992,  0.00854722],\n",
       "       [-0.00097902, -0.01088701, -0.01216247, ...,  0.00541799,\n",
       "        -0.00663564,  0.00831911]], dtype=float32)"
      ]
     },
     "execution_count": 37,
     "metadata": {},
     "output_type": "execute_result"
    }
   ],
   "source": [
    "train_model_with_shap(data_crop, xgboost, features, target, window_size)"
   ]
  },
  {
   "cell_type": "code",
   "execution_count": null,
   "metadata": {},
   "outputs": [],
   "source": []
  },
  {
   "cell_type": "code",
   "execution_count": null,
   "metadata": {},
   "outputs": [],
   "source": []
  },
  {
   "cell_type": "code",
   "execution_count": null,
   "metadata": {},
   "outputs": [],
   "source": []
  },
  {
   "cell_type": "code",
   "execution_count": null,
   "metadata": {},
   "outputs": [],
   "source": []
  },
  {
   "cell_type": "code",
   "execution_count": null,
   "metadata": {},
   "outputs": [],
   "source": []
  },
  {
   "cell_type": "code",
   "execution_count": null,
   "metadata": {},
   "outputs": [],
   "source": []
  },
  {
   "cell_type": "code",
   "execution_count": null,
   "metadata": {},
   "outputs": [],
   "source": []
  },
  {
   "cell_type": "code",
   "execution_count": 40,
   "metadata": {},
   "outputs": [
    {
     "data": {
      "text/plain": [
       "0.9891143112128489"
      ]
     },
     "execution_count": 40,
     "metadata": {},
     "output_type": "execute_result"
    }
   ],
   "source": [
    "train_model_proba_metric(data_crop, xgboost, features, target, window_size, n_days)"
   ]
  },
  {
   "cell_type": "code",
   "execution_count": null,
   "metadata": {},
   "outputs": [],
   "source": []
  },
  {
   "cell_type": "code",
   "execution_count": null,
   "metadata": {},
   "outputs": [],
   "source": []
  },
  {
   "cell_type": "code",
   "execution_count": null,
   "metadata": {},
   "outputs": [],
   "source": []
  },
  {
   "cell_type": "code",
   "execution_count": null,
   "metadata": {},
   "outputs": [],
   "source": []
  },
  {
   "cell_type": "code",
   "execution_count": null,
   "metadata": {},
   "outputs": [],
   "source": []
  },
  {
   "cell_type": "code",
   "execution_count": 57,
   "metadata": {},
   "outputs": [],
   "source": [
    "def train_model_full_data(data, model, features, target):\n",
    "      \n",
    "      # Initialiser les listes pour stocker les prédictions et les vraies valeurs\n",
    "      predictions = []\n",
    "      actuals = []\n",
    "\n",
    "      # Boucle à travers les données de la taille de la fenêtre jusqu'à la fin des données\n",
    "      for i in range(1, len(data) - 1):\n",
    "            # Diviser les données en ensembles d'entraînement et de test\n",
    "            X_train = features.iloc[:i, :]\n",
    "            y_train = target.iloc[:i]\n",
    "            X_test = features.iloc[i:i+1, :]\n",
    "            y_test = target.iloc[i]\n",
    "\n",
    "            #Normaliser les données\n",
    "            scaler = StandardScaler()\n",
    "            X_train = scaler.fit_transform(X_train)\n",
    "            X_test = scaler.transform(X_test)\n",
    "            \n",
    "            # Entraîner un modèle\n",
    "            model.fit(X_train, y_train)\n",
    "            \n",
    "            # Faire une prédiction\n",
    "            prediction = model.predict(X_test)[0]\n",
    "            \n",
    "            # Stocker les prédictions et les vraies valeurs\n",
    "            predictions.append(prediction)\n",
    "            actuals.append(y_test)\n",
    "\n",
    "      # Évaluer le modèle\n",
    "      accuracy = accuracy_score(actuals, predictions)\n",
    "      print(f'Model Accuracy: {accuracy * 100:.2f}%')"
   ]
  },
  {
   "cell_type": "code",
   "execution_count": 37,
   "metadata": {},
   "outputs": [],
   "source": [
    "def train_model_proba_metric_full_data(data, model, features, target, start_size, n_days):\n",
    "      \n",
    "    # Initialiser les listes pour stocker les probabilités prédites et les vraies valeurs\n",
    "    predicted_probs = []\n",
    "    progressions = []\n",
    "    metric = []\n",
    "\n",
    "    # Boucle à travers les données de la taille de la fenêtre jusqu'à la fin des données\n",
    "    for i in range(start_size, len(data) - 1):\n",
    "        # Diviser les données en ensembles d'entraînement et de test\n",
    "        X_train = features.iloc[:i, :]\n",
    "        y_train = target.iloc[:i]\n",
    "        X_test = features.iloc[i:i+1, :]\n",
    "        y_test = target.iloc[i]\n",
    "\n",
    "        # Normaliser les données\n",
    "        scaler = StandardScaler()\n",
    "        X_train = scaler.fit_transform(X_train)\n",
    "        X_test = scaler.transform(X_test)\n",
    "        \n",
    "        # Entraîner un modèle\n",
    "        model.fit(X_train, y_train)\n",
    "        \n",
    "        # Obtenir les probabilités prédites pour la classe positive (par exemple, 1)\n",
    "        prediction_prob = model.predict_proba(X_test)[:, 1]\n",
    "        \n",
    "        # Stocker les probabilités prédites et les vraies valeurs\n",
    "        predicted_probs.extend(prediction_prob)\n",
    "        \n",
    "        # Récupérer la progression réelle\n",
    "        progressions.append(data.iloc[i]['progression tomorrow']+1)\n",
    "\n",
    "        if i >= start_size + n_days:\n",
    "            metric.append(earn_metric(predicted_probs, progressions, n_days, i))\n",
    "    \n",
    "    return np.mean(metric) "
   ]
  },
  {
   "cell_type": "code",
   "execution_count": 38,
   "metadata": {},
   "outputs": [],
   "source": [
    "start_size = 100"
   ]
  },
  {
   "cell_type": "code",
   "execution_count": 39,
   "metadata": {},
   "outputs": [
    {
     "data": {
      "text/plain": [
       "0.9974486854766565"
      ]
     },
     "execution_count": 39,
     "metadata": {},
     "output_type": "execute_result"
    }
   ],
   "source": [
    "train_model_proba_metric_full_data(data_crop, xgboost, features, target, start_size, n_days)"
   ]
  },
  {
   "cell_type": "code",
   "execution_count": null,
   "metadata": {},
   "outputs": [],
   "source": []
  }
 ],
 "metadata": {
  "kernelspec": {
   "display_name": "Python 3",
   "language": "python",
   "name": "python3"
  },
  "language_info": {
   "codemirror_mode": {
    "name": "ipython",
    "version": 3
   },
   "file_extension": ".py",
   "mimetype": "text/x-python",
   "name": "python",
   "nbconvert_exporter": "python",
   "pygments_lexer": "ipython3",
   "version": "3.11.6"
  }
 },
 "nbformat": 4,
 "nbformat_minor": 2
}
